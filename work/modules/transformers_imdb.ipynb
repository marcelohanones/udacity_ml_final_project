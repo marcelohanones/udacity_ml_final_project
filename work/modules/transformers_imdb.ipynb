{
 "cells": [
  {
   "cell_type": "code",
   "execution_count": null,
   "metadata": {},
   "outputs": [],
   "source": [
    "class Col_Extractor(TransformerMixin, BaseEstimator):\n",
    "    ''' returns a DF with the columns passed'''\n",
    "    def __init__(self, cols): # declarar cols sempre numa lista \n",
    "        self.cols = cols\n",
    "    \n",
    "    def transform(self, X, **transform_params):\n",
    "        assert isinstance(X, pd.DataFrame)\n",
    "\n",
    "        try:\n",
    "            return X[self.cols]\n",
    "        except KeyError:\n",
    "#             print(self.cols)\n",
    "#             print(X.columns)\n",
    "            cols_error = list(set(self.cols) - set(X.columns))\n",
    "            raise KeyError(\"The DataFrame does not include the columns: %s\" % cols_error)\n",
    "                                            \n",
    "    def fit(self, X, y=None, **fit_params):\n",
    "        return self"
   ]
  },
  {
   "cell_type": "code",
   "execution_count": null,
   "metadata": {},
   "outputs": [],
   "source": [
    "class ModelTransformer(TransformerMixin):\n",
    "\n",
    "    def __init__(self, model):\n",
    "        self.model = model\n",
    "\n",
    "    def fit(self, *args, **kwargs):\n",
    "        self.model.fit(*args, **kwargs)\n",
    "        return self\n",
    "\n",
    "    def transform(self, X, **transform_params):\n",
    "        return pd.DataFrame(self.model.predict(X))"
   ]
  },
  {
   "cell_type": "code",
   "execution_count": null,
   "metadata": {},
   "outputs": [],
   "source": [
    "# X-train as DF\n",
    "# \n",
    "\n",
    "class Preprocessor(TransformerMixin, BaseEstimator):\n",
    "\n",
    "    def fit(self, X, y=None, **fit_params):\n",
    "        return self\n",
    "    \n",
    "    # MADE to work with DATAFRAME\n",
    "    def transform(self, X, **transform_params):\n",
    "\n",
    "        text = X.applymap(lambda x: re.sub('<[^>]*>', '', x) )     # applying elementwise to a DF\n",
    "        emoticons = text.applymap(lambda x: re.findall('(?::|;|=)(?:-)?(?:\\)|\\(|D|P)', x))\n",
    "        result = text.applymap(lambda x: re.sub('[\\W]+', ' ', str(x).lower()) + \\\n",
    "            ' '.join(emoticons).replace('-', ''))\n",
    "        return result\n",
    "        \n",
    "\n",
    "class To_array(TransformerMixin, BaseEstimator):\n",
    "    '''returns an array out of a DF'''\n",
    "    \n",
    "    def fit(self, X, y=None, **fit_params):\n",
    "        return self\n",
    "    \n",
    "    def transform(self, X, **transform_params):\n",
    "        return X.values.ravel()\n",
    "    "
   ]
  },
  {
   "cell_type": "markdown",
   "metadata": {},
   "source": [
    "# Feature Engineering"
   ]
  },
  {
   "cell_type": "code",
   "execution_count": null,
   "metadata": {},
   "outputs": [],
   "source": [
    "class num_stop_words(TransformerMixin, BaseEstimator):\n",
    "    def transform(self, X, **transform_params):\n",
    "        return X.applymap(lambda x: len([w for w in str(x).lower().split() if w in stop_words] ))\n",
    "      \n",
    "\n",
    "    def fit(self, X, y=None, **fit_params):\n",
    "        return self"
   ]
  },
  {
   "cell_type": "code",
   "execution_count": null,
   "metadata": {},
   "outputs": [],
   "source": [
    "class mean_word_len(TransformerMixin, BaseEstimator):\n",
    "    def transform(self, X, **transform_params):\n",
    "        return X.applymap(lambda x: np.mean([len(w) for w in x.lower().split()]))   \n",
    "                                            \n",
    "    def fit(self, X, y=None, **fit_params):\n",
    "        return self"
   ]
  },
  {
   "cell_type": "code",
   "execution_count": null,
   "metadata": {},
   "outputs": [],
   "source": [
    "class num_words_title(TransformerMixin, BaseEstimator):\n",
    "    '''inclui os espacos entre as palavras'''\n",
    "    \n",
    "    def transform(self, X, **transform_params):\n",
    "#         print('end word title')\n",
    "        return X.applymap(lambda x: len([w for w in x.split() if w.istitle()]))\n",
    "\n",
    "    def fit(self, X, y=None, **fit_params):\n",
    "        return self"
   ]
  },
  {
   "cell_type": "code",
   "execution_count": null,
   "metadata": {},
   "outputs": [],
   "source": [
    "class num_uni_words(TransformerMixin, BaseEstimator):\n",
    "    def transform(self, X, **transform_params):\n",
    "        return X.applymap(lambda x: len(set(x.split())))\n",
    "\n",
    "    def fit(self, X, y=None, **fit_params):\n",
    "        return self"
   ]
  },
  {
   "cell_type": "code",
   "execution_count": null,
   "metadata": {},
   "outputs": [],
   "source": []
  },
  {
   "cell_type": "code",
   "execution_count": null,
   "metadata": {},
   "outputs": [],
   "source": []
  },
  {
   "cell_type": "code",
   "execution_count": null,
   "metadata": {},
   "outputs": [],
   "source": []
  },
  {
   "cell_type": "code",
   "execution_count": null,
   "metadata": {},
   "outputs": [],
   "source": []
  },
  {
   "cell_type": "code",
   "execution_count": null,
   "metadata": {},
   "outputs": [],
   "source": []
  },
  {
   "cell_type": "code",
   "execution_count": null,
   "metadata": {},
   "outputs": [],
   "source": []
  },
  {
   "cell_type": "code",
   "execution_count": null,
   "metadata": {},
   "outputs": [],
   "source": []
  }
 ],
 "metadata": {
  "kernelspec": {
   "display_name": "Python 3",
   "language": "python",
   "name": "python3"
  },
  "language_info": {
   "codemirror_mode": {
    "name": "ipython",
    "version": 3
   },
   "file_extension": ".py",
   "mimetype": "text/x-python",
   "name": "python",
   "nbconvert_exporter": "python",
   "pygments_lexer": "ipython3",
   "version": "3.6.5"
  }
 },
 "nbformat": 4,
 "nbformat_minor": 2
}
