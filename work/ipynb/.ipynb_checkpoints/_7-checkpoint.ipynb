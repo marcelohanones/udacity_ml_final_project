{
 "cells": [
  {
   "cell_type": "code",
   "execution_count": 1,
   "metadata": {},
   "outputs": [],
   "source": [
    "import pyprind\n",
    "import numpy as np\n",
    "import pandas as pd\n",
    "import os\n",
    "import io\n",
    "import nltk\n",
    "import re\n",
    "import eli5\n",
    "import pickle\n",
    "from timeit import default_timer as timer\n",
    "from IPython.display import Image \n",
    "\n",
    "from nltk.stem.porter import PorterStemmer\n",
    "\n",
    "from sklearn.feature_selection import RFECV, SelectKBest, f_classif, chi2\n",
    "from sklearn.preprocessing import Imputer, MinMaxScaler\n",
    "from sklearn.feature_extraction.text import CountVectorizer, TfidfTransformer, TfidfVectorizer\n",
    "from sklearn.pipeline import Pipeline, FeatureUnion\n",
    "from sklearn.model_selection import cross_val_score, cross_val_predict, RandomizedSearchCV\n",
    "from sklearn.model_selection import train_test_split, learning_curve, validation_curve, GridSearchCV, StratifiedKFold\n",
    "from sklearn.base import BaseEstimator, TransformerMixin\n",
    "from sklearn.decomposition import PCA, SparsePCA, TruncatedSVD, NMF\n",
    "\n",
    "from mlxtend.preprocessing import DenseTransformer\n",
    "from mlxtend.feature_selection import ColumnSelector\n",
    "from mlxtend.plotting import plot_decision_regions\n",
    "\n",
    "from sklearn.naive_bayes import GaussianNB, MultinomialNB, BernoulliNB\n",
    "from sklearn.svm import SVC, LinearSVC\n",
    "from sklearn.tree import DecisionTreeClassifier\n",
    "from sklearn.ensemble import AdaBoostClassifier, RandomForestClassifier, ExtraTreesClassifier, GradientBoostingClassifier, VotingClassifier, BaggingClassifier, AdaBoostClassifier\n",
    "from sklearn.neighbors import KNeighborsClassifier\n",
    "from sklearn.linear_model import LinearRegression, LogisticRegression, SGDClassifier, Perceptron\n",
    "from sklearn.discriminant_analysis import LinearDiscriminantAnalysis\n",
    "from sklearn.neural_network import MLPClassifier\n",
    "\n",
    "from hyperopt import fmin, tpe, hp, STATUS_OK, Trials, space_eval\n",
    "import hyperopt.pyll.stochastic\n",
    "    \n",
    "from yellowbrick.features import FeatureImportances, PCADecomposition\n",
    "from yellowbrick.features.manifold import Manifold\n",
    "from yellowbrick.model_selection import LearningCurve, ValidationCurve\n",
    "from yellowbrick.classifier import ClassificationReport, ConfusionMatrix, ROCAUC, ClassBalance, ClassPredictionError, DiscriminationThreshold \n",
    "from yellowbrick.classifier import DecisionBoundariesVisualizer\n",
    "from sklearn_pandas import DataFrameMapper\n",
    "from sklearn_pandas import cross_val_score as cross_val_score_df \n",
    "\n",
    "from sklearn.externals import joblib"
   ]
  },
  {
   "cell_type": "code",
   "execution_count": 2,
   "metadata": {},
   "outputs": [
    {
     "data": {
      "text/plain": [
       "<Figure size 432x288 with 0 Axes>"
      ]
     },
     "metadata": {},
     "output_type": "display_data"
    }
   ],
   "source": [
    "import matplotlib.pyplot as plt\n",
    "import matplotlib.image as mpimg\n",
    "import seaborn as sns\n",
    "\n",
    "%matplotlib inline\n",
    "# sns.despine()\n",
    "sns.set()\n",
    "# sns.set(style='white', context='notebook', palette='deep')\n",
    "# sns.set(style='white', palette='deep')\n",
    "sns.despine()"
   ]
  },
  {
   "cell_type": "code",
   "execution_count": 3,
   "metadata": {},
   "outputs": [],
   "source": [
    "from IPython.core.interactiveshell import InteractiveShell\n",
    "InteractiveShell.ast_node_interactivity = \"all\""
   ]
  },
  {
   "cell_type": "code",
   "execution_count": 4,
   "metadata": {},
   "outputs": [],
   "source": [
    "import warnings\n",
    "from sklearn.exceptions import DataConversionWarning\n",
    "# warnings.filterwarnings(action='ignore', category=DataConversionWarning)\n",
    "warnings.filterwarnings(action='ignore')\n"
   ]
  },
  {
   "cell_type": "code",
   "execution_count": 5,
   "metadata": {},
   "outputs": [],
   "source": [
    "np.set_printoptions(precision=2)"
   ]
  },
  {
   "cell_type": "raw",
   "metadata": {},
   "source": [
    "evaluations_all -  it is a dictionary where all the information regarding models performance scores gets recorded. It`s the 'cloud'.\n",
    "\n",
    "By acessing the 'cloud' the Class Super_Analtica will work in groups.\n",
    "Analytica_bolada is lower level.\n"
   ]
  },
  {
   "cell_type": "code",
   "execution_count": null,
   "metadata": {},
   "outputs": [],
   "source": []
  },
  {
   "cell_type": "code",
   "execution_count": null,
   "metadata": {},
   "outputs": [],
   "source": []
  },
  {
   "cell_type": "code",
   "execution_count": null,
   "metadata": {},
   "outputs": [],
   "source": []
  },
  {
   "cell_type": "markdown",
   "metadata": {},
   "source": [
    "# Data\n"
   ]
  },
  {
   "cell_type": "code",
   "execution_count": null,
   "metadata": {
    "deletable": false,
    "editable": false,
    "run_control": {
     "frozen": true
    }
   },
   "outputs": [],
   "source": [
    "# basepath = './aclImdb'\n",
    "basepath = '../data/aclImdb'\n",
    "\n",
    "labels = {'pos': 1, 'neg': 0}\n",
    "pbar = pyprind.ProgBar(50000)\n",
    "df = pd.DataFrame()\n",
    "for s in ('test', 'train'):\n",
    "    for l in ('pos', 'neg'):\n",
    "        path = os.path.join(basepath, s, l)\n",
    "        for file in os.listdir(path):\n",
    "            # For python2, use 'io.open', for Python3, just us 'open' \n",
    "            with io.open(os.path.join(path, file), 'r', encoding='utf-8') as infile:\n",
    "                txt = infile.read()\n",
    "            df = df.append([[txt, labels[l]]], ignore_index=True)\n",
    "            pbar.update()\n",
    "df.columns = ['review', 'sentiment']"
   ]
  },
  {
   "cell_type": "code",
   "execution_count": null,
   "metadata": {
    "deletable": false,
    "editable": false,
    "run_control": {
     "frozen": true
    }
   },
   "outputs": [],
   "source": [
    "X = df.loc[:,:].values\n",
    "X.shape"
   ]
  },
  {
   "cell_type": "code",
   "execution_count": null,
   "metadata": {
    "deletable": false,
    "editable": false,
    "run_control": {
     "frozen": true
    }
   },
   "outputs": [],
   "source": [
    "# Saving to file\n",
    "np.random.seed(0)\n",
    "df = df.reindex(np.random.permutation(df.index))\n",
    "df.to_csv('../data/movie_data.csv', index=False, encoding='utf-8')"
   ]
  },
  {
   "cell_type": "code",
   "execution_count": 6,
   "metadata": {},
   "outputs": [
    {
     "data": {
      "text/html": [
       "<div>\n",
       "<style scoped>\n",
       "    .dataframe tbody tr th:only-of-type {\n",
       "        vertical-align: middle;\n",
       "    }\n",
       "\n",
       "    .dataframe tbody tr th {\n",
       "        vertical-align: top;\n",
       "    }\n",
       "\n",
       "    .dataframe thead th {\n",
       "        text-align: right;\n",
       "    }\n",
       "</style>\n",
       "<table border=\"1\" class=\"dataframe\">\n",
       "  <thead>\n",
       "    <tr style=\"text-align: right;\">\n",
       "      <th></th>\n",
       "      <th>review</th>\n",
       "      <th>sentiment</th>\n",
       "    </tr>\n",
       "  </thead>\n",
       "  <tbody>\n",
       "    <tr>\n",
       "      <th>0</th>\n",
       "      <td>It's hard to put your finger on this one. Basi...</td>\n",
       "      <td>1</td>\n",
       "    </tr>\n",
       "    <tr>\n",
       "      <th>1</th>\n",
       "      <td>I mean, nothing happens, 5 dumb kids go to Okl...</td>\n",
       "      <td>0</td>\n",
       "    </tr>\n",
       "    <tr>\n",
       "      <th>2</th>\n",
       "      <td>\"Så som in himmelen\" was probably one of the 3...</td>\n",
       "      <td>1</td>\n",
       "    </tr>\n",
       "    <tr>\n",
       "      <th>3</th>\n",
       "      <td>This noir may not be the best remembered film ...</td>\n",
       "      <td>1</td>\n",
       "    </tr>\n",
       "    <tr>\n",
       "      <th>4</th>\n",
       "      <td>I'll be honest with yall, I was a junior in hi...</td>\n",
       "      <td>1</td>\n",
       "    </tr>\n",
       "  </tbody>\n",
       "</table>\n",
       "</div>"
      ],
      "text/plain": [
       "                                              review  sentiment\n",
       "0  It's hard to put your finger on this one. Basi...          1\n",
       "1  I mean, nothing happens, 5 dumb kids go to Okl...          0\n",
       "2  \"Så som in himmelen\" was probably one of the 3...          1\n",
       "3  This noir may not be the best remembered film ...          1\n",
       "4  I'll be honest with yall, I was a junior in hi...          1"
      ]
     },
     "execution_count": 6,
     "metadata": {},
     "output_type": "execute_result"
    }
   ],
   "source": [
    "df = pd.read_csv('../../data/movie_data.csv')\n",
    "df.head(5)"
   ]
  },
  {
   "cell_type": "code",
   "execution_count": 7,
   "metadata": {},
   "outputs": [],
   "source": [
    "X = df['review'].values\n",
    "y = df['sentiment'].values"
   ]
  },
  {
   "cell_type": "code",
   "execution_count": 8,
   "metadata": {},
   "outputs": [],
   "source": [
    "# %load ./params_imdb.ipynb"
   ]
  },
  {
   "cell_type": "code",
   "execution_count": 9,
   "metadata": {},
   "outputs": [],
   "source": [
    "%run ../modules/Class_imdb.ipynb\n",
    "%run ../modules/transformers_imdb.ipynb"
   ]
  },
  {
   "cell_type": "code",
   "execution_count": 10,
   "metadata": {},
   "outputs": [
    {
     "data": {
      "text/html": [
       "<div>\n",
       "<style scoped>\n",
       "    .dataframe tbody tr th:only-of-type {\n",
       "        vertical-align: middle;\n",
       "    }\n",
       "\n",
       "    .dataframe tbody tr th {\n",
       "        vertical-align: top;\n",
       "    }\n",
       "\n",
       "    .dataframe thead th {\n",
       "        text-align: right;\n",
       "    }\n",
       "</style>\n",
       "<table border=\"1\" class=\"dataframe\">\n",
       "  <thead>\n",
       "    <tr style=\"text-align: right;\">\n",
       "      <th></th>\n",
       "      <th>review</th>\n",
       "      <th>sentiment</th>\n",
       "    </tr>\n",
       "  </thead>\n",
       "  <tbody>\n",
       "    <tr>\n",
       "      <th>0</th>\n",
       "      <td>It's hard to put your finger on this one. Basi...</td>\n",
       "      <td>1</td>\n",
       "    </tr>\n",
       "    <tr>\n",
       "      <th>1</th>\n",
       "      <td>I mean, nothing happens, 5 dumb kids go to Okl...</td>\n",
       "      <td>0</td>\n",
       "    </tr>\n",
       "    <tr>\n",
       "      <th>2</th>\n",
       "      <td>\"Så som in himmelen\" was probably one of the 3...</td>\n",
       "      <td>1</td>\n",
       "    </tr>\n",
       "    <tr>\n",
       "      <th>3</th>\n",
       "      <td>This noir may not be the best remembered film ...</td>\n",
       "      <td>1</td>\n",
       "    </tr>\n",
       "    <tr>\n",
       "      <th>4</th>\n",
       "      <td>I'll be honest with yall, I was a junior in hi...</td>\n",
       "      <td>1</td>\n",
       "    </tr>\n",
       "  </tbody>\n",
       "</table>\n",
       "</div>"
      ],
      "text/plain": [
       "                                              review  sentiment\n",
       "0  It's hard to put your finger on this one. Basi...          1\n",
       "1  I mean, nothing happens, 5 dumb kids go to Okl...          0\n",
       "2  \"Så som in himmelen\" was probably one of the 3...          1\n",
       "3  This noir may not be the best remembered film ...          1\n",
       "4  I'll be honest with yall, I was a junior in hi...          1"
      ]
     },
     "execution_count": 10,
     "metadata": {},
     "output_type": "execute_result"
    },
    {
     "name": "stdout",
     "output_type": "stream",
     "text": [
      "<class 'pandas.core.frame.DataFrame'>\n",
      "RangeIndex: 50000 entries, 0 to 49999\n",
      "Data columns (total 2 columns):\n",
      "review       50000 non-null object\n",
      "sentiment    50000 non-null int64\n",
      "dtypes: int64(1), object(1)\n",
      "memory usage: 781.3+ KB\n"
     ]
    }
   ],
   "source": [
    "df.head()\n",
    "df.info()"
   ]
  },
  {
   "cell_type": "code",
   "execution_count": 11,
   "metadata": {},
   "outputs": [
    {
     "data": {
      "text/plain": [
       "1    0.5\n",
       "0    0.5\n",
       "Name: sentiment, dtype: float64"
      ]
     },
     "execution_count": 11,
     "metadata": {},
     "output_type": "execute_result"
    }
   ],
   "source": [
    "df.sentiment.value_counts(normalize=True)"
   ]
  },
  {
   "cell_type": "raw",
   "metadata": {},
   "source": [
    "feature union is for applying different vectorizers for different columns"
   ]
  },
  {
   "cell_type": "markdown",
   "metadata": {},
   "source": [
    "# X  y"
   ]
  },
  {
   "cell_type": "code",
   "execution_count": 12,
   "metadata": {},
   "outputs": [],
   "source": [
    "random_state = 42\n",
    "\n",
    "# # DATAFRAMES USED ONLY WHEN NEED MORE THAN 1 COLUMN\n",
    "# WORKS with sklearn-pandas to drive dataframes in sklearn or column extractor e To_Matrix\n",
    "X_train = df.loc[:5000, ['review']].reset_index(drop=True)\n",
    "y_train = df.loc[:5000, ['sentiment']].reset_index(drop=True)\n",
    "X_test = df.loc[45000:, ['review']].reset_index(drop=True)\n",
    "y_test = df.loc[45000:, ['sentiment']].reset_index(drop=True)\n",
    "\n",
    "# X_train = df.loc[:10000, ['review']].reset_index(drop=True)\n",
    "# y_train = df.loc[:10000, ['sentiment']].reset_index(drop=True)\n",
    "# X_test = df.loc[40000:, ['review']].reset_index(drop=True)\n",
    "# y_test = df.loc[40000:, ['sentiment']].reset_index(drop=True)\n",
    "\n",
    "# X_train = df.loc[:100, ['review']].reset_index(drop=True)\n",
    "# y_train = df.loc[:100, ['sentiment']].reset_index(drop=True)\n",
    "# X_test = df.loc[49900:, ['review']].reset_index(drop=True)\n",
    "# y_test = df.loc[49900:, ['sentiment']].reset_index(drop=True)\n",
    "\n",
    "kfold = StratifiedKFold(n_splits=10, random_state=random_state)\n",
    "# kfold = 5\n",
    "# kfold = 4"
   ]
  },
  {
   "cell_type": "code",
   "execution_count": 13,
   "metadata": {},
   "outputs": [],
   "source": [
    "# X_train, y_train, X_test, y_test = train_test_split(X, y, test_size=0.5, stratify=y)"
   ]
  },
  {
   "cell_type": "code",
   "execution_count": 14,
   "metadata": {
    "cell_style": "split",
    "scrolled": true
   },
   "outputs": [
    {
     "data": {
      "text/html": [
       "<div>\n",
       "<style scoped>\n",
       "    .dataframe tbody tr th:only-of-type {\n",
       "        vertical-align: middle;\n",
       "    }\n",
       "\n",
       "    .dataframe tbody tr th {\n",
       "        vertical-align: top;\n",
       "    }\n",
       "\n",
       "    .dataframe thead th {\n",
       "        text-align: right;\n",
       "    }\n",
       "</style>\n",
       "<table border=\"1\" class=\"dataframe\">\n",
       "  <thead>\n",
       "    <tr style=\"text-align: right;\">\n",
       "      <th></th>\n",
       "      <th>review</th>\n",
       "    </tr>\n",
       "  </thead>\n",
       "  <tbody>\n",
       "    <tr>\n",
       "      <th>0</th>\n",
       "      <td>It's hard to put your finger on this one. Basi...</td>\n",
       "    </tr>\n",
       "    <tr>\n",
       "      <th>1</th>\n",
       "      <td>I mean, nothing happens, 5 dumb kids go to Okl...</td>\n",
       "    </tr>\n",
       "    <tr>\n",
       "      <th>2</th>\n",
       "      <td>\"Så som in himmelen\" was probably one of the 3...</td>\n",
       "    </tr>\n",
       "    <tr>\n",
       "      <th>3</th>\n",
       "      <td>This noir may not be the best remembered film ...</td>\n",
       "    </tr>\n",
       "    <tr>\n",
       "      <th>4</th>\n",
       "      <td>I'll be honest with yall, I was a junior in hi...</td>\n",
       "    </tr>\n",
       "    <tr>\n",
       "      <th>5</th>\n",
       "      <td>Damon Runyon's world of Times Square, in New Y...</td>\n",
       "    </tr>\n",
       "    <tr>\n",
       "      <th>6</th>\n",
       "      <td>After a group of young friends experience car ...</td>\n",
       "    </tr>\n",
       "    <tr>\n",
       "      <th>7</th>\n",
       "      <td>What makes for Best Picture material? The Osca...</td>\n",
       "    </tr>\n",
       "    <tr>\n",
       "      <th>8</th>\n",
       "      <td>I found this film extremely disturbing. Treadw...</td>\n",
       "    </tr>\n",
       "    <tr>\n",
       "      <th>9</th>\n",
       "      <td>This DVD set is the complete widescreen 15-epi...</td>\n",
       "    </tr>\n",
       "    <tr>\n",
       "      <th>10</th>\n",
       "      <td>Kevin Kline and Meg Ryan are among that class ...</td>\n",
       "    </tr>\n",
       "    <tr>\n",
       "      <th>11</th>\n",
       "      <td>Well...there were some great, creamy-smooth fa...</td>\n",
       "    </tr>\n",
       "    <tr>\n",
       "      <th>12</th>\n",
       "      <td>If I had not read Pat Barker's 'Union Street' ...</td>\n",
       "    </tr>\n",
       "    <tr>\n",
       "      <th>13</th>\n",
       "      <td>This movie is fun to watch. If you liked \"Dave...</td>\n",
       "    </tr>\n",
       "    <tr>\n",
       "      <th>14</th>\n",
       "      <td>A charming, funny film that gets a solid grade...</td>\n",
       "    </tr>\n",
       "    <tr>\n",
       "      <th>15</th>\n",
       "      <td>The movie is about a day in the life of a woma...</td>\n",
       "    </tr>\n",
       "    <tr>\n",
       "      <th>16</th>\n",
       "      <td>I just rented this movie from the video store ...</td>\n",
       "    </tr>\n",
       "    <tr>\n",
       "      <th>17</th>\n",
       "      <td>I suppose I always felt that Hotel du Nord was...</td>\n",
       "    </tr>\n",
       "    <tr>\n",
       "      <th>18</th>\n",
       "      <td>I saw this on cable. Someone had to lose their...</td>\n",
       "    </tr>\n",
       "    <tr>\n",
       "      <th>19</th>\n",
       "      <td>I was one of quite a few extras in this big bo...</td>\n",
       "    </tr>\n",
       "    <tr>\n",
       "      <th>20</th>\n",
       "      <td>Raising Victor Vargas is a movie you definitel...</td>\n",
       "    </tr>\n",
       "    <tr>\n",
       "      <th>21</th>\n",
       "      <td>First of all, I believe that this movie is muc...</td>\n",
       "    </tr>\n",
       "    <tr>\n",
       "      <th>22</th>\n",
       "      <td>Jörg Buttgereit goes a bit too far with his mo...</td>\n",
       "    </tr>\n",
       "    <tr>\n",
       "      <th>23</th>\n",
       "      <td>I had the opportunity to see this last evening...</td>\n",
       "    </tr>\n",
       "    <tr>\n",
       "      <th>24</th>\n",
       "      <td>Certainly not horrible, but definitely not goo...</td>\n",
       "    </tr>\n",
       "    <tr>\n",
       "      <th>25</th>\n",
       "      <td>Before watching this movie from beginning to e...</td>\n",
       "    </tr>\n",
       "    <tr>\n",
       "      <th>26</th>\n",
       "      <td>Outrageously trashy karate/horror thriller wit...</td>\n",
       "    </tr>\n",
       "    <tr>\n",
       "      <th>27</th>\n",
       "      <td>\"Death Promise\" is a lost 70's exploitation ge...</td>\n",
       "    </tr>\n",
       "    <tr>\n",
       "      <th>28</th>\n",
       "      <td>Of the Korean movies I've seen, only three had...</td>\n",
       "    </tr>\n",
       "    <tr>\n",
       "      <th>29</th>\n",
       "      <td>Of course I have disappeared into the movies. ...</td>\n",
       "    </tr>\n",
       "    <tr>\n",
       "      <th>...</th>\n",
       "      <td>...</td>\n",
       "    </tr>\n",
       "    <tr>\n",
       "      <th>4971</th>\n",
       "      <td>Its no surprise that Busey later developed a t...</td>\n",
       "    </tr>\n",
       "    <tr>\n",
       "      <th>4972</th>\n",
       "      <td>This movie looked like the out-takes of the de...</td>\n",
       "    </tr>\n",
       "    <tr>\n",
       "      <th>4973</th>\n",
       "      <td>This is a new Barbie movie. The graphics were ...</td>\n",
       "    </tr>\n",
       "    <tr>\n",
       "      <th>4974</th>\n",
       "      <td>The first word which comes into my mind after ...</td>\n",
       "    </tr>\n",
       "    <tr>\n",
       "      <th>4975</th>\n",
       "      <td>Duchess is a pretty white cat who lives with h...</td>\n",
       "    </tr>\n",
       "    <tr>\n",
       "      <th>4976</th>\n",
       "      <td>&lt;br /&gt;&lt;br /&gt;Attack Of The Killer Tomatoes is a...</td>\n",
       "    </tr>\n",
       "    <tr>\n",
       "      <th>4977</th>\n",
       "      <td>I don't know why some people criticise that sh...</td>\n",
       "    </tr>\n",
       "    <tr>\n",
       "      <th>4978</th>\n",
       "      <td>I enjoyed Still Crazy more than any film I hav...</td>\n",
       "    </tr>\n",
       "    <tr>\n",
       "      <th>4979</th>\n",
       "      <td>This movie begins with a man who appears to be...</td>\n",
       "    </tr>\n",
       "    <tr>\n",
       "      <th>4980</th>\n",
       "      <td>\"Tourist Trap\" is an odd thriller that came ou...</td>\n",
       "    </tr>\n",
       "    <tr>\n",
       "      <th>4981</th>\n",
       "      <td>This film could be one of the most underrated ...</td>\n",
       "    </tr>\n",
       "    <tr>\n",
       "      <th>4982</th>\n",
       "      <td>I can only assume that the other reviewers of ...</td>\n",
       "    </tr>\n",
       "    <tr>\n",
       "      <th>4983</th>\n",
       "      <td>As a geology student this movie depicts the ig...</td>\n",
       "    </tr>\n",
       "    <tr>\n",
       "      <th>4984</th>\n",
       "      <td>How sad it is when a film as wonderful as \"Jur...</td>\n",
       "    </tr>\n",
       "    <tr>\n",
       "      <th>4985</th>\n",
       "      <td>I love ghost stories and I will sit through a ...</td>\n",
       "    </tr>\n",
       "    <tr>\n",
       "      <th>4986</th>\n",
       "      <td>My wife and I enjoy bad science fiction movies...</td>\n",
       "    </tr>\n",
       "    <tr>\n",
       "      <th>4987</th>\n",
       "      <td>A response to previous comments made by reside...</td>\n",
       "    </tr>\n",
       "    <tr>\n",
       "      <th>4988</th>\n",
       "      <td>if u haven't seen Vijay in \"Ghillli\", \"Gilly\" ...</td>\n",
       "    </tr>\n",
       "    <tr>\n",
       "      <th>4989</th>\n",
       "      <td>Incredibly ARTISTIC NOBODY COULD MAKE THEM NOW...</td>\n",
       "    </tr>\n",
       "    <tr>\n",
       "      <th>4990</th>\n",
       "      <td>I disagree 100% with the reviewer who disagree...</td>\n",
       "    </tr>\n",
       "    <tr>\n",
       "      <th>4991</th>\n",
       "      <td>First saw this half a lifetime ago on a black-...</td>\n",
       "    </tr>\n",
       "    <tr>\n",
       "      <th>4992</th>\n",
       "      <td>this is what you would get if you allowed a 10...</td>\n",
       "    </tr>\n",
       "    <tr>\n",
       "      <th>4993</th>\n",
       "      <td>A brilliant chess player attends a tournament ...</td>\n",
       "    </tr>\n",
       "    <tr>\n",
       "      <th>4994</th>\n",
       "      <td>This is probably one of the worst movies I hav...</td>\n",
       "    </tr>\n",
       "    <tr>\n",
       "      <th>4995</th>\n",
       "      <td>There are a select few cartoon films where ani...</td>\n",
       "    </tr>\n",
       "    <tr>\n",
       "      <th>4996</th>\n",
       "      <td>There are some things I can never understand. ...</td>\n",
       "    </tr>\n",
       "    <tr>\n",
       "      <th>4997</th>\n",
       "      <td>Sheba Baby, is another Pam Grier Blaxploitatio...</td>\n",
       "    </tr>\n",
       "    <tr>\n",
       "      <th>4998</th>\n",
       "      <td>First of all sorry for giving even a rating of...</td>\n",
       "    </tr>\n",
       "    <tr>\n",
       "      <th>4999</th>\n",
       "      <td>The dead spots and picture-postcard superficia...</td>\n",
       "    </tr>\n",
       "    <tr>\n",
       "      <th>5000</th>\n",
       "      <td>I watched both Bourne Identity and Bourne Supr...</td>\n",
       "    </tr>\n",
       "  </tbody>\n",
       "</table>\n",
       "<p>5001 rows × 1 columns</p>\n",
       "</div>"
      ],
      "text/plain": [
       "                                                 review\n",
       "0     It's hard to put your finger on this one. Basi...\n",
       "1     I mean, nothing happens, 5 dumb kids go to Okl...\n",
       "2     \"Så som in himmelen\" was probably one of the 3...\n",
       "3     This noir may not be the best remembered film ...\n",
       "4     I'll be honest with yall, I was a junior in hi...\n",
       "5     Damon Runyon's world of Times Square, in New Y...\n",
       "6     After a group of young friends experience car ...\n",
       "7     What makes for Best Picture material? The Osca...\n",
       "8     I found this film extremely disturbing. Treadw...\n",
       "9     This DVD set is the complete widescreen 15-epi...\n",
       "10    Kevin Kline and Meg Ryan are among that class ...\n",
       "11    Well...there were some great, creamy-smooth fa...\n",
       "12    If I had not read Pat Barker's 'Union Street' ...\n",
       "13    This movie is fun to watch. If you liked \"Dave...\n",
       "14    A charming, funny film that gets a solid grade...\n",
       "15    The movie is about a day in the life of a woma...\n",
       "16    I just rented this movie from the video store ...\n",
       "17    I suppose I always felt that Hotel du Nord was...\n",
       "18    I saw this on cable. Someone had to lose their...\n",
       "19    I was one of quite a few extras in this big bo...\n",
       "20    Raising Victor Vargas is a movie you definitel...\n",
       "21    First of all, I believe that this movie is muc...\n",
       "22    Jörg Buttgereit goes a bit too far with his mo...\n",
       "23    I had the opportunity to see this last evening...\n",
       "24    Certainly not horrible, but definitely not goo...\n",
       "25    Before watching this movie from beginning to e...\n",
       "26    Outrageously trashy karate/horror thriller wit...\n",
       "27    \"Death Promise\" is a lost 70's exploitation ge...\n",
       "28    Of the Korean movies I've seen, only three had...\n",
       "29    Of course I have disappeared into the movies. ...\n",
       "...                                                 ...\n",
       "4971  Its no surprise that Busey later developed a t...\n",
       "4972  This movie looked like the out-takes of the de...\n",
       "4973  This is a new Barbie movie. The graphics were ...\n",
       "4974  The first word which comes into my mind after ...\n",
       "4975  Duchess is a pretty white cat who lives with h...\n",
       "4976  <br /><br />Attack Of The Killer Tomatoes is a...\n",
       "4977  I don't know why some people criticise that sh...\n",
       "4978  I enjoyed Still Crazy more than any film I hav...\n",
       "4979  This movie begins with a man who appears to be...\n",
       "4980  \"Tourist Trap\" is an odd thriller that came ou...\n",
       "4981  This film could be one of the most underrated ...\n",
       "4982  I can only assume that the other reviewers of ...\n",
       "4983  As a geology student this movie depicts the ig...\n",
       "4984  How sad it is when a film as wonderful as \"Jur...\n",
       "4985  I love ghost stories and I will sit through a ...\n",
       "4986  My wife and I enjoy bad science fiction movies...\n",
       "4987  A response to previous comments made by reside...\n",
       "4988  if u haven't seen Vijay in \"Ghillli\", \"Gilly\" ...\n",
       "4989  Incredibly ARTISTIC NOBODY COULD MAKE THEM NOW...\n",
       "4990  I disagree 100% with the reviewer who disagree...\n",
       "4991  First saw this half a lifetime ago on a black-...\n",
       "4992  this is what you would get if you allowed a 10...\n",
       "4993  A brilliant chess player attends a tournament ...\n",
       "4994  This is probably one of the worst movies I hav...\n",
       "4995  There are a select few cartoon films where ani...\n",
       "4996  There are some things I can never understand. ...\n",
       "4997  Sheba Baby, is another Pam Grier Blaxploitatio...\n",
       "4998  First of all sorry for giving even a rating of...\n",
       "4999  The dead spots and picture-postcard superficia...\n",
       "5000  I watched both Bourne Identity and Bourne Supr...\n",
       "\n",
       "[5001 rows x 1 columns]"
      ]
     },
     "execution_count": 14,
     "metadata": {},
     "output_type": "execute_result"
    }
   ],
   "source": [
    "X_train"
   ]
  },
  {
   "cell_type": "code",
   "execution_count": 15,
   "metadata": {
    "cell_style": "split",
    "scrolled": true
   },
   "outputs": [
    {
     "data": {
      "text/html": [
       "<div>\n",
       "<style scoped>\n",
       "    .dataframe tbody tr th:only-of-type {\n",
       "        vertical-align: middle;\n",
       "    }\n",
       "\n",
       "    .dataframe tbody tr th {\n",
       "        vertical-align: top;\n",
       "    }\n",
       "\n",
       "    .dataframe thead th {\n",
       "        text-align: right;\n",
       "    }\n",
       "</style>\n",
       "<table border=\"1\" class=\"dataframe\">\n",
       "  <thead>\n",
       "    <tr style=\"text-align: right;\">\n",
       "      <th></th>\n",
       "      <th>review</th>\n",
       "    </tr>\n",
       "  </thead>\n",
       "  <tbody>\n",
       "    <tr>\n",
       "      <th>0</th>\n",
       "      <td>The music and Laurence Olivier's sombre delive...</td>\n",
       "    </tr>\n",
       "    <tr>\n",
       "      <th>1</th>\n",
       "      <td>This movie is well made, it is beautiful and w...</td>\n",
       "    </tr>\n",
       "    <tr>\n",
       "      <th>2</th>\n",
       "      <td>I won't say the show is all bad, because there...</td>\n",
       "    </tr>\n",
       "    <tr>\n",
       "      <th>3</th>\n",
       "      <td>As a Southern Baptist, it pains me that I must...</td>\n",
       "    </tr>\n",
       "    <tr>\n",
       "      <th>4</th>\n",
       "      <td>The Lion King 1 1/2 is a very cute story to go...</td>\n",
       "    </tr>\n",
       "    <tr>\n",
       "      <th>5</th>\n",
       "      <td>This isn't a very good movie, but it is easily...</td>\n",
       "    </tr>\n",
       "    <tr>\n",
       "      <th>6</th>\n",
       "      <td>Some have praised -Atlantis:-The Lost Empire- ...</td>\n",
       "    </tr>\n",
       "    <tr>\n",
       "      <th>7</th>\n",
       "      <td>Roger Corman has enjoyed his shares of cinemat...</td>\n",
       "    </tr>\n",
       "    <tr>\n",
       "      <th>8</th>\n",
       "      <td>Why can't this type of compact, entertaining m...</td>\n",
       "    </tr>\n",
       "    <tr>\n",
       "      <th>9</th>\n",
       "      <td>For some perverse reason best known to themsel...</td>\n",
       "    </tr>\n",
       "    <tr>\n",
       "      <th>10</th>\n",
       "      <td>While some of the things in Haggard are dumb a...</td>\n",
       "    </tr>\n",
       "    <tr>\n",
       "      <th>11</th>\n",
       "      <td>Curl up with this one on a dark and stormy nig...</td>\n",
       "    </tr>\n",
       "    <tr>\n",
       "      <th>12</th>\n",
       "      <td>I loved it, it was really gruesome and disgust...</td>\n",
       "    </tr>\n",
       "    <tr>\n",
       "      <th>13</th>\n",
       "      <td>Red Rock West (1993)&lt;br /&gt;&lt;br /&gt;Nicolas Cage g...</td>\n",
       "    </tr>\n",
       "    <tr>\n",
       "      <th>14</th>\n",
       "      <td>This movie is not only poorly scripted and dir...</td>\n",
       "    </tr>\n",
       "    <tr>\n",
       "      <th>15</th>\n",
       "      <td>I notice the DVD version seems to have missing...</td>\n",
       "    </tr>\n",
       "    <tr>\n",
       "      <th>16</th>\n",
       "      <td>I can't believe it, IMDb really does have ever...</td>\n",
       "    </tr>\n",
       "    <tr>\n",
       "      <th>17</th>\n",
       "      <td>Since I am a fan of Natalie Portman, I had to ...</td>\n",
       "    </tr>\n",
       "    <tr>\n",
       "      <th>18</th>\n",
       "      <td>This is a movie that will brighten up your day...</td>\n",
       "    </tr>\n",
       "    <tr>\n",
       "      <th>19</th>\n",
       "      <td>This is the second part of 'The Animatrix', a ...</td>\n",
       "    </tr>\n",
       "    <tr>\n",
       "      <th>20</th>\n",
       "      <td>Mel Gibson's Braveheart was a spectacularly ac...</td>\n",
       "    </tr>\n",
       "    <tr>\n",
       "      <th>21</th>\n",
       "      <td>A dreary, hopelessly predictable film set in a...</td>\n",
       "    </tr>\n",
       "    <tr>\n",
       "      <th>22</th>\n",
       "      <td>I saw this version about a decade ago, and hav...</td>\n",
       "    </tr>\n",
       "    <tr>\n",
       "      <th>23</th>\n",
       "      <td>Or released on DVD or screened on a cable chan...</td>\n",
       "    </tr>\n",
       "    <tr>\n",
       "      <th>24</th>\n",
       "      <td>This film flopped miserably in the UK, and it ...</td>\n",
       "    </tr>\n",
       "    <tr>\n",
       "      <th>25</th>\n",
       "      <td>\"A scientist discovers signals from space that...</td>\n",
       "    </tr>\n",
       "    <tr>\n",
       "      <th>26</th>\n",
       "      <td>I have just watched the season 2 finale of Doc...</td>\n",
       "    </tr>\n",
       "    <tr>\n",
       "      <th>27</th>\n",
       "      <td>This film is just another distortion, among ma...</td>\n",
       "    </tr>\n",
       "    <tr>\n",
       "      <th>28</th>\n",
       "      <td>I had watched as much of the series as I could...</td>\n",
       "    </tr>\n",
       "    <tr>\n",
       "      <th>29</th>\n",
       "      <td>Bette Davis brings her full trunk of tics to t...</td>\n",
       "    </tr>\n",
       "    <tr>\n",
       "      <th>...</th>\n",
       "      <td>...</td>\n",
       "    </tr>\n",
       "    <tr>\n",
       "      <th>4970</th>\n",
       "      <td>I understand what this movie was trying to por...</td>\n",
       "    </tr>\n",
       "    <tr>\n",
       "      <th>4971</th>\n",
       "      <td>There is part of one sequence where some water...</td>\n",
       "    </tr>\n",
       "    <tr>\n",
       "      <th>4972</th>\n",
       "      <td>I think we all begin a lot of reviews with, \"T...</td>\n",
       "    </tr>\n",
       "    <tr>\n",
       "      <th>4973</th>\n",
       "      <td>My daughter liked it but I was aghast, that a ...</td>\n",
       "    </tr>\n",
       "    <tr>\n",
       "      <th>4974</th>\n",
       "      <td>I just saw this film again, I believe for the ...</td>\n",
       "    </tr>\n",
       "    <tr>\n",
       "      <th>4975</th>\n",
       "      <td>It utterly defeats me why Godard is taken so s...</td>\n",
       "    </tr>\n",
       "    <tr>\n",
       "      <th>4976</th>\n",
       "      <td>Jimmy (Heath Ledger) is given a simple job by ...</td>\n",
       "    </tr>\n",
       "    <tr>\n",
       "      <th>4977</th>\n",
       "      <td>I attempted to watch this film without being a...</td>\n",
       "    </tr>\n",
       "    <tr>\n",
       "      <th>4978</th>\n",
       "      <td>Bloody Birthday plays on the assumed innocence...</td>\n",
       "    </tr>\n",
       "    <tr>\n",
       "      <th>4979</th>\n",
       "      <td>Disappointing film. Performance of actors is w...</td>\n",
       "    </tr>\n",
       "    <tr>\n",
       "      <th>4980</th>\n",
       "      <td>One of Warner Brothers best and highest grossi...</td>\n",
       "    </tr>\n",
       "    <tr>\n",
       "      <th>4981</th>\n",
       "      <td>How this has not become a cult film I do not k...</td>\n",
       "    </tr>\n",
       "    <tr>\n",
       "      <th>4982</th>\n",
       "      <td>The laughs are few and far between in this dul...</td>\n",
       "    </tr>\n",
       "    <tr>\n",
       "      <th>4983</th>\n",
       "      <td>I wouldn't call \"We're Back! A Dinosaur's Stor...</td>\n",
       "    </tr>\n",
       "    <tr>\n",
       "      <th>4984</th>\n",
       "      <td>I contend that whoever is ultimately responsib...</td>\n",
       "    </tr>\n",
       "    <tr>\n",
       "      <th>4985</th>\n",
       "      <td>This was a well written tale of the Making of ...</td>\n",
       "    </tr>\n",
       "    <tr>\n",
       "      <th>4986</th>\n",
       "      <td>Even if you know absolutely nothing about Irel...</td>\n",
       "    </tr>\n",
       "    <tr>\n",
       "      <th>4987</th>\n",
       "      <td>`Rock star' is not on its way to any `stairway...</td>\n",
       "    </tr>\n",
       "    <tr>\n",
       "      <th>4988</th>\n",
       "      <td>I bought this game on an impulse buy from walm...</td>\n",
       "    </tr>\n",
       "    <tr>\n",
       "      <th>4989</th>\n",
       "      <td>A poorly-paced sf/horror venture that takes it...</td>\n",
       "    </tr>\n",
       "    <tr>\n",
       "      <th>4990</th>\n",
       "      <td>I don't understand how this garbage got on the...</td>\n",
       "    </tr>\n",
       "    <tr>\n",
       "      <th>4991</th>\n",
       "      <td>What seemed as a good premise for a movie...un...</td>\n",
       "    </tr>\n",
       "    <tr>\n",
       "      <th>4992</th>\n",
       "      <td>Although compared with \"Mad Max\", this film is...</td>\n",
       "    </tr>\n",
       "    <tr>\n",
       "      <th>4993</th>\n",
       "      <td>This show is a show that is great for adults a...</td>\n",
       "    </tr>\n",
       "    <tr>\n",
       "      <th>4994</th>\n",
       "      <td>(No spoilers, just plot details) I can't under...</td>\n",
       "    </tr>\n",
       "    <tr>\n",
       "      <th>4995</th>\n",
       "      <td>I'd heard this Japanese flick is edgy, creativ...</td>\n",
       "    </tr>\n",
       "    <tr>\n",
       "      <th>4996</th>\n",
       "      <td>The director does not know what to do with a c...</td>\n",
       "    </tr>\n",
       "    <tr>\n",
       "      <th>4997</th>\n",
       "      <td>I've seen this movie after watching Paltrow's ...</td>\n",
       "    </tr>\n",
       "    <tr>\n",
       "      <th>4998</th>\n",
       "      <td>I could never stand watching Happy Days after ...</td>\n",
       "    </tr>\n",
       "    <tr>\n",
       "      <th>4999</th>\n",
       "      <td>Stephen Hawkings is a genius. He is the king o...</td>\n",
       "    </tr>\n",
       "  </tbody>\n",
       "</table>\n",
       "<p>5000 rows × 1 columns</p>\n",
       "</div>"
      ],
      "text/plain": [
       "                                                 review\n",
       "0     The music and Laurence Olivier's sombre delive...\n",
       "1     This movie is well made, it is beautiful and w...\n",
       "2     I won't say the show is all bad, because there...\n",
       "3     As a Southern Baptist, it pains me that I must...\n",
       "4     The Lion King 1 1/2 is a very cute story to go...\n",
       "5     This isn't a very good movie, but it is easily...\n",
       "6     Some have praised -Atlantis:-The Lost Empire- ...\n",
       "7     Roger Corman has enjoyed his shares of cinemat...\n",
       "8     Why can't this type of compact, entertaining m...\n",
       "9     For some perverse reason best known to themsel...\n",
       "10    While some of the things in Haggard are dumb a...\n",
       "11    Curl up with this one on a dark and stormy nig...\n",
       "12    I loved it, it was really gruesome and disgust...\n",
       "13    Red Rock West (1993)<br /><br />Nicolas Cage g...\n",
       "14    This movie is not only poorly scripted and dir...\n",
       "15    I notice the DVD version seems to have missing...\n",
       "16    I can't believe it, IMDb really does have ever...\n",
       "17    Since I am a fan of Natalie Portman, I had to ...\n",
       "18    This is a movie that will brighten up your day...\n",
       "19    This is the second part of 'The Animatrix', a ...\n",
       "20    Mel Gibson's Braveheart was a spectacularly ac...\n",
       "21    A dreary, hopelessly predictable film set in a...\n",
       "22    I saw this version about a decade ago, and hav...\n",
       "23    Or released on DVD or screened on a cable chan...\n",
       "24    This film flopped miserably in the UK, and it ...\n",
       "25    \"A scientist discovers signals from space that...\n",
       "26    I have just watched the season 2 finale of Doc...\n",
       "27    This film is just another distortion, among ma...\n",
       "28    I had watched as much of the series as I could...\n",
       "29    Bette Davis brings her full trunk of tics to t...\n",
       "...                                                 ...\n",
       "4970  I understand what this movie was trying to por...\n",
       "4971  There is part of one sequence where some water...\n",
       "4972  I think we all begin a lot of reviews with, \"T...\n",
       "4973  My daughter liked it but I was aghast, that a ...\n",
       "4974  I just saw this film again, I believe for the ...\n",
       "4975  It utterly defeats me why Godard is taken so s...\n",
       "4976  Jimmy (Heath Ledger) is given a simple job by ...\n",
       "4977  I attempted to watch this film without being a...\n",
       "4978  Bloody Birthday plays on the assumed innocence...\n",
       "4979  Disappointing film. Performance of actors is w...\n",
       "4980  One of Warner Brothers best and highest grossi...\n",
       "4981  How this has not become a cult film I do not k...\n",
       "4982  The laughs are few and far between in this dul...\n",
       "4983  I wouldn't call \"We're Back! A Dinosaur's Stor...\n",
       "4984  I contend that whoever is ultimately responsib...\n",
       "4985  This was a well written tale of the Making of ...\n",
       "4986  Even if you know absolutely nothing about Irel...\n",
       "4987  `Rock star' is not on its way to any `stairway...\n",
       "4988  I bought this game on an impulse buy from walm...\n",
       "4989  A poorly-paced sf/horror venture that takes it...\n",
       "4990  I don't understand how this garbage got on the...\n",
       "4991  What seemed as a good premise for a movie...un...\n",
       "4992  Although compared with \"Mad Max\", this film is...\n",
       "4993  This show is a show that is great for adults a...\n",
       "4994  (No spoilers, just plot details) I can't under...\n",
       "4995  I'd heard this Japanese flick is edgy, creativ...\n",
       "4996  The director does not know what to do with a c...\n",
       "4997  I've seen this movie after watching Paltrow's ...\n",
       "4998  I could never stand watching Happy Days after ...\n",
       "4999  Stephen Hawkings is a genius. He is the king o...\n",
       "\n",
       "[5000 rows x 1 columns]"
      ]
     },
     "execution_count": 15,
     "metadata": {},
     "output_type": "execute_result"
    }
   ],
   "source": [
    "X_test"
   ]
  },
  {
   "cell_type": "code",
   "execution_count": 16,
   "metadata": {
    "cell_style": "split",
    "scrolled": true
   },
   "outputs": [
    {
     "data": {
      "text/html": [
       "<div>\n",
       "<style scoped>\n",
       "    .dataframe tbody tr th:only-of-type {\n",
       "        vertical-align: middle;\n",
       "    }\n",
       "\n",
       "    .dataframe tbody tr th {\n",
       "        vertical-align: top;\n",
       "    }\n",
       "\n",
       "    .dataframe thead th {\n",
       "        text-align: right;\n",
       "    }\n",
       "</style>\n",
       "<table border=\"1\" class=\"dataframe\">\n",
       "  <thead>\n",
       "    <tr style=\"text-align: right;\">\n",
       "      <th></th>\n",
       "      <th>sentiment</th>\n",
       "    </tr>\n",
       "  </thead>\n",
       "  <tbody>\n",
       "    <tr>\n",
       "      <th>0</th>\n",
       "      <td>1</td>\n",
       "    </tr>\n",
       "    <tr>\n",
       "      <th>1</th>\n",
       "      <td>0</td>\n",
       "    </tr>\n",
       "    <tr>\n",
       "      <th>2</th>\n",
       "      <td>1</td>\n",
       "    </tr>\n",
       "    <tr>\n",
       "      <th>3</th>\n",
       "      <td>1</td>\n",
       "    </tr>\n",
       "    <tr>\n",
       "      <th>4</th>\n",
       "      <td>1</td>\n",
       "    </tr>\n",
       "    <tr>\n",
       "      <th>5</th>\n",
       "      <td>1</td>\n",
       "    </tr>\n",
       "    <tr>\n",
       "      <th>6</th>\n",
       "      <td>1</td>\n",
       "    </tr>\n",
       "    <tr>\n",
       "      <th>7</th>\n",
       "      <td>1</td>\n",
       "    </tr>\n",
       "    <tr>\n",
       "      <th>8</th>\n",
       "      <td>0</td>\n",
       "    </tr>\n",
       "    <tr>\n",
       "      <th>9</th>\n",
       "      <td>1</td>\n",
       "    </tr>\n",
       "    <tr>\n",
       "      <th>10</th>\n",
       "      <td>0</td>\n",
       "    </tr>\n",
       "    <tr>\n",
       "      <th>11</th>\n",
       "      <td>0</td>\n",
       "    </tr>\n",
       "    <tr>\n",
       "      <th>12</th>\n",
       "      <td>0</td>\n",
       "    </tr>\n",
       "    <tr>\n",
       "      <th>13</th>\n",
       "      <td>1</td>\n",
       "    </tr>\n",
       "    <tr>\n",
       "      <th>14</th>\n",
       "      <td>1</td>\n",
       "    </tr>\n",
       "    <tr>\n",
       "      <th>15</th>\n",
       "      <td>0</td>\n",
       "    </tr>\n",
       "    <tr>\n",
       "      <th>16</th>\n",
       "      <td>1</td>\n",
       "    </tr>\n",
       "    <tr>\n",
       "      <th>17</th>\n",
       "      <td>1</td>\n",
       "    </tr>\n",
       "    <tr>\n",
       "      <th>18</th>\n",
       "      <td>0</td>\n",
       "    </tr>\n",
       "    <tr>\n",
       "      <th>19</th>\n",
       "      <td>0</td>\n",
       "    </tr>\n",
       "    <tr>\n",
       "      <th>20</th>\n",
       "      <td>1</td>\n",
       "    </tr>\n",
       "    <tr>\n",
       "      <th>21</th>\n",
       "      <td>1</td>\n",
       "    </tr>\n",
       "    <tr>\n",
       "      <th>22</th>\n",
       "      <td>1</td>\n",
       "    </tr>\n",
       "    <tr>\n",
       "      <th>23</th>\n",
       "      <td>1</td>\n",
       "    </tr>\n",
       "    <tr>\n",
       "      <th>24</th>\n",
       "      <td>0</td>\n",
       "    </tr>\n",
       "    <tr>\n",
       "      <th>25</th>\n",
       "      <td>1</td>\n",
       "    </tr>\n",
       "    <tr>\n",
       "      <th>26</th>\n",
       "      <td>0</td>\n",
       "    </tr>\n",
       "    <tr>\n",
       "      <th>27</th>\n",
       "      <td>1</td>\n",
       "    </tr>\n",
       "    <tr>\n",
       "      <th>28</th>\n",
       "      <td>1</td>\n",
       "    </tr>\n",
       "    <tr>\n",
       "      <th>29</th>\n",
       "      <td>0</td>\n",
       "    </tr>\n",
       "    <tr>\n",
       "      <th>...</th>\n",
       "      <td>...</td>\n",
       "    </tr>\n",
       "    <tr>\n",
       "      <th>4971</th>\n",
       "      <td>1</td>\n",
       "    </tr>\n",
       "    <tr>\n",
       "      <th>4972</th>\n",
       "      <td>0</td>\n",
       "    </tr>\n",
       "    <tr>\n",
       "      <th>4973</th>\n",
       "      <td>1</td>\n",
       "    </tr>\n",
       "    <tr>\n",
       "      <th>4974</th>\n",
       "      <td>1</td>\n",
       "    </tr>\n",
       "    <tr>\n",
       "      <th>4975</th>\n",
       "      <td>1</td>\n",
       "    </tr>\n",
       "    <tr>\n",
       "      <th>4976</th>\n",
       "      <td>0</td>\n",
       "    </tr>\n",
       "    <tr>\n",
       "      <th>4977</th>\n",
       "      <td>1</td>\n",
       "    </tr>\n",
       "    <tr>\n",
       "      <th>4978</th>\n",
       "      <td>1</td>\n",
       "    </tr>\n",
       "    <tr>\n",
       "      <th>4979</th>\n",
       "      <td>0</td>\n",
       "    </tr>\n",
       "    <tr>\n",
       "      <th>4980</th>\n",
       "      <td>1</td>\n",
       "    </tr>\n",
       "    <tr>\n",
       "      <th>4981</th>\n",
       "      <td>1</td>\n",
       "    </tr>\n",
       "    <tr>\n",
       "      <th>4982</th>\n",
       "      <td>0</td>\n",
       "    </tr>\n",
       "    <tr>\n",
       "      <th>4983</th>\n",
       "      <td>0</td>\n",
       "    </tr>\n",
       "    <tr>\n",
       "      <th>4984</th>\n",
       "      <td>0</td>\n",
       "    </tr>\n",
       "    <tr>\n",
       "      <th>4985</th>\n",
       "      <td>0</td>\n",
       "    </tr>\n",
       "    <tr>\n",
       "      <th>4986</th>\n",
       "      <td>0</td>\n",
       "    </tr>\n",
       "    <tr>\n",
       "      <th>4987</th>\n",
       "      <td>0</td>\n",
       "    </tr>\n",
       "    <tr>\n",
       "      <th>4988</th>\n",
       "      <td>1</td>\n",
       "    </tr>\n",
       "    <tr>\n",
       "      <th>4989</th>\n",
       "      <td>1</td>\n",
       "    </tr>\n",
       "    <tr>\n",
       "      <th>4990</th>\n",
       "      <td>0</td>\n",
       "    </tr>\n",
       "    <tr>\n",
       "      <th>4991</th>\n",
       "      <td>1</td>\n",
       "    </tr>\n",
       "    <tr>\n",
       "      <th>4992</th>\n",
       "      <td>0</td>\n",
       "    </tr>\n",
       "    <tr>\n",
       "      <th>4993</th>\n",
       "      <td>1</td>\n",
       "    </tr>\n",
       "    <tr>\n",
       "      <th>4994</th>\n",
       "      <td>0</td>\n",
       "    </tr>\n",
       "    <tr>\n",
       "      <th>4995</th>\n",
       "      <td>1</td>\n",
       "    </tr>\n",
       "    <tr>\n",
       "      <th>4996</th>\n",
       "      <td>0</td>\n",
       "    </tr>\n",
       "    <tr>\n",
       "      <th>4997</th>\n",
       "      <td>1</td>\n",
       "    </tr>\n",
       "    <tr>\n",
       "      <th>4998</th>\n",
       "      <td>0</td>\n",
       "    </tr>\n",
       "    <tr>\n",
       "      <th>4999</th>\n",
       "      <td>1</td>\n",
       "    </tr>\n",
       "    <tr>\n",
       "      <th>5000</th>\n",
       "      <td>1</td>\n",
       "    </tr>\n",
       "  </tbody>\n",
       "</table>\n",
       "<p>5001 rows × 1 columns</p>\n",
       "</div>"
      ],
      "text/plain": [
       "      sentiment\n",
       "0             1\n",
       "1             0\n",
       "2             1\n",
       "3             1\n",
       "4             1\n",
       "5             1\n",
       "6             1\n",
       "7             1\n",
       "8             0\n",
       "9             1\n",
       "10            0\n",
       "11            0\n",
       "12            0\n",
       "13            1\n",
       "14            1\n",
       "15            0\n",
       "16            1\n",
       "17            1\n",
       "18            0\n",
       "19            0\n",
       "20            1\n",
       "21            1\n",
       "22            1\n",
       "23            1\n",
       "24            0\n",
       "25            1\n",
       "26            0\n",
       "27            1\n",
       "28            1\n",
       "29            0\n",
       "...         ...\n",
       "4971          1\n",
       "4972          0\n",
       "4973          1\n",
       "4974          1\n",
       "4975          1\n",
       "4976          0\n",
       "4977          1\n",
       "4978          1\n",
       "4979          0\n",
       "4980          1\n",
       "4981          1\n",
       "4982          0\n",
       "4983          0\n",
       "4984          0\n",
       "4985          0\n",
       "4986          0\n",
       "4987          0\n",
       "4988          1\n",
       "4989          1\n",
       "4990          0\n",
       "4991          1\n",
       "4992          0\n",
       "4993          1\n",
       "4994          0\n",
       "4995          1\n",
       "4996          0\n",
       "4997          1\n",
       "4998          0\n",
       "4999          1\n",
       "5000          1\n",
       "\n",
       "[5001 rows x 1 columns]"
      ]
     },
     "execution_count": 16,
     "metadata": {},
     "output_type": "execute_result"
    }
   ],
   "source": [
    "y_train"
   ]
  },
  {
   "cell_type": "code",
   "execution_count": 17,
   "metadata": {
    "cell_style": "split",
    "scrolled": true
   },
   "outputs": [
    {
     "data": {
      "text/html": [
       "<div>\n",
       "<style scoped>\n",
       "    .dataframe tbody tr th:only-of-type {\n",
       "        vertical-align: middle;\n",
       "    }\n",
       "\n",
       "    .dataframe tbody tr th {\n",
       "        vertical-align: top;\n",
       "    }\n",
       "\n",
       "    .dataframe thead th {\n",
       "        text-align: right;\n",
       "    }\n",
       "</style>\n",
       "<table border=\"1\" class=\"dataframe\">\n",
       "  <thead>\n",
       "    <tr style=\"text-align: right;\">\n",
       "      <th></th>\n",
       "      <th>sentiment</th>\n",
       "    </tr>\n",
       "  </thead>\n",
       "  <tbody>\n",
       "    <tr>\n",
       "      <th>0</th>\n",
       "      <td>1</td>\n",
       "    </tr>\n",
       "    <tr>\n",
       "      <th>1</th>\n",
       "      <td>1</td>\n",
       "    </tr>\n",
       "    <tr>\n",
       "      <th>2</th>\n",
       "      <td>0</td>\n",
       "    </tr>\n",
       "    <tr>\n",
       "      <th>3</th>\n",
       "      <td>0</td>\n",
       "    </tr>\n",
       "    <tr>\n",
       "      <th>4</th>\n",
       "      <td>1</td>\n",
       "    </tr>\n",
       "    <tr>\n",
       "      <th>5</th>\n",
       "      <td>0</td>\n",
       "    </tr>\n",
       "    <tr>\n",
       "      <th>6</th>\n",
       "      <td>0</td>\n",
       "    </tr>\n",
       "    <tr>\n",
       "      <th>7</th>\n",
       "      <td>0</td>\n",
       "    </tr>\n",
       "    <tr>\n",
       "      <th>8</th>\n",
       "      <td>1</td>\n",
       "    </tr>\n",
       "    <tr>\n",
       "      <th>9</th>\n",
       "      <td>1</td>\n",
       "    </tr>\n",
       "    <tr>\n",
       "      <th>10</th>\n",
       "      <td>1</td>\n",
       "    </tr>\n",
       "    <tr>\n",
       "      <th>11</th>\n",
       "      <td>1</td>\n",
       "    </tr>\n",
       "    <tr>\n",
       "      <th>12</th>\n",
       "      <td>1</td>\n",
       "    </tr>\n",
       "    <tr>\n",
       "      <th>13</th>\n",
       "      <td>1</td>\n",
       "    </tr>\n",
       "    <tr>\n",
       "      <th>14</th>\n",
       "      <td>0</td>\n",
       "    </tr>\n",
       "    <tr>\n",
       "      <th>15</th>\n",
       "      <td>1</td>\n",
       "    </tr>\n",
       "    <tr>\n",
       "      <th>16</th>\n",
       "      <td>0</td>\n",
       "    </tr>\n",
       "    <tr>\n",
       "      <th>17</th>\n",
       "      <td>1</td>\n",
       "    </tr>\n",
       "    <tr>\n",
       "      <th>18</th>\n",
       "      <td>1</td>\n",
       "    </tr>\n",
       "    <tr>\n",
       "      <th>19</th>\n",
       "      <td>1</td>\n",
       "    </tr>\n",
       "    <tr>\n",
       "      <th>20</th>\n",
       "      <td>1</td>\n",
       "    </tr>\n",
       "    <tr>\n",
       "      <th>21</th>\n",
       "      <td>0</td>\n",
       "    </tr>\n",
       "    <tr>\n",
       "      <th>22</th>\n",
       "      <td>1</td>\n",
       "    </tr>\n",
       "    <tr>\n",
       "      <th>23</th>\n",
       "      <td>1</td>\n",
       "    </tr>\n",
       "    <tr>\n",
       "      <th>24</th>\n",
       "      <td>1</td>\n",
       "    </tr>\n",
       "    <tr>\n",
       "      <th>25</th>\n",
       "      <td>0</td>\n",
       "    </tr>\n",
       "    <tr>\n",
       "      <th>26</th>\n",
       "      <td>1</td>\n",
       "    </tr>\n",
       "    <tr>\n",
       "      <th>27</th>\n",
       "      <td>0</td>\n",
       "    </tr>\n",
       "    <tr>\n",
       "      <th>28</th>\n",
       "      <td>1</td>\n",
       "    </tr>\n",
       "    <tr>\n",
       "      <th>29</th>\n",
       "      <td>0</td>\n",
       "    </tr>\n",
       "    <tr>\n",
       "      <th>...</th>\n",
       "      <td>...</td>\n",
       "    </tr>\n",
       "    <tr>\n",
       "      <th>4970</th>\n",
       "      <td>0</td>\n",
       "    </tr>\n",
       "    <tr>\n",
       "      <th>4971</th>\n",
       "      <td>0</td>\n",
       "    </tr>\n",
       "    <tr>\n",
       "      <th>4972</th>\n",
       "      <td>0</td>\n",
       "    </tr>\n",
       "    <tr>\n",
       "      <th>4973</th>\n",
       "      <td>0</td>\n",
       "    </tr>\n",
       "    <tr>\n",
       "      <th>4974</th>\n",
       "      <td>1</td>\n",
       "    </tr>\n",
       "    <tr>\n",
       "      <th>4975</th>\n",
       "      <td>0</td>\n",
       "    </tr>\n",
       "    <tr>\n",
       "      <th>4976</th>\n",
       "      <td>1</td>\n",
       "    </tr>\n",
       "    <tr>\n",
       "      <th>4977</th>\n",
       "      <td>0</td>\n",
       "    </tr>\n",
       "    <tr>\n",
       "      <th>4978</th>\n",
       "      <td>1</td>\n",
       "    </tr>\n",
       "    <tr>\n",
       "      <th>4979</th>\n",
       "      <td>0</td>\n",
       "    </tr>\n",
       "    <tr>\n",
       "      <th>4980</th>\n",
       "      <td>1</td>\n",
       "    </tr>\n",
       "    <tr>\n",
       "      <th>4981</th>\n",
       "      <td>1</td>\n",
       "    </tr>\n",
       "    <tr>\n",
       "      <th>4982</th>\n",
       "      <td>0</td>\n",
       "    </tr>\n",
       "    <tr>\n",
       "      <th>4983</th>\n",
       "      <td>1</td>\n",
       "    </tr>\n",
       "    <tr>\n",
       "      <th>4984</th>\n",
       "      <td>1</td>\n",
       "    </tr>\n",
       "    <tr>\n",
       "      <th>4985</th>\n",
       "      <td>1</td>\n",
       "    </tr>\n",
       "    <tr>\n",
       "      <th>4986</th>\n",
       "      <td>1</td>\n",
       "    </tr>\n",
       "    <tr>\n",
       "      <th>4987</th>\n",
       "      <td>1</td>\n",
       "    </tr>\n",
       "    <tr>\n",
       "      <th>4988</th>\n",
       "      <td>1</td>\n",
       "    </tr>\n",
       "    <tr>\n",
       "      <th>4989</th>\n",
       "      <td>0</td>\n",
       "    </tr>\n",
       "    <tr>\n",
       "      <th>4990</th>\n",
       "      <td>0</td>\n",
       "    </tr>\n",
       "    <tr>\n",
       "      <th>4991</th>\n",
       "      <td>0</td>\n",
       "    </tr>\n",
       "    <tr>\n",
       "      <th>4992</th>\n",
       "      <td>1</td>\n",
       "    </tr>\n",
       "    <tr>\n",
       "      <th>4993</th>\n",
       "      <td>1</td>\n",
       "    </tr>\n",
       "    <tr>\n",
       "      <th>4994</th>\n",
       "      <td>1</td>\n",
       "    </tr>\n",
       "    <tr>\n",
       "      <th>4995</th>\n",
       "      <td>0</td>\n",
       "    </tr>\n",
       "    <tr>\n",
       "      <th>4996</th>\n",
       "      <td>0</td>\n",
       "    </tr>\n",
       "    <tr>\n",
       "      <th>4997</th>\n",
       "      <td>1</td>\n",
       "    </tr>\n",
       "    <tr>\n",
       "      <th>4998</th>\n",
       "      <td>0</td>\n",
       "    </tr>\n",
       "    <tr>\n",
       "      <th>4999</th>\n",
       "      <td>1</td>\n",
       "    </tr>\n",
       "  </tbody>\n",
       "</table>\n",
       "<p>5000 rows × 1 columns</p>\n",
       "</div>"
      ],
      "text/plain": [
       "      sentiment\n",
       "0             1\n",
       "1             1\n",
       "2             0\n",
       "3             0\n",
       "4             1\n",
       "5             0\n",
       "6             0\n",
       "7             0\n",
       "8             1\n",
       "9             1\n",
       "10            1\n",
       "11            1\n",
       "12            1\n",
       "13            1\n",
       "14            0\n",
       "15            1\n",
       "16            0\n",
       "17            1\n",
       "18            1\n",
       "19            1\n",
       "20            1\n",
       "21            0\n",
       "22            1\n",
       "23            1\n",
       "24            1\n",
       "25            0\n",
       "26            1\n",
       "27            0\n",
       "28            1\n",
       "29            0\n",
       "...         ...\n",
       "4970          0\n",
       "4971          0\n",
       "4972          0\n",
       "4973          0\n",
       "4974          1\n",
       "4975          0\n",
       "4976          1\n",
       "4977          0\n",
       "4978          1\n",
       "4979          0\n",
       "4980          1\n",
       "4981          1\n",
       "4982          0\n",
       "4983          1\n",
       "4984          1\n",
       "4985          1\n",
       "4986          1\n",
       "4987          1\n",
       "4988          1\n",
       "4989          0\n",
       "4990          0\n",
       "4991          0\n",
       "4992          1\n",
       "4993          1\n",
       "4994          1\n",
       "4995          0\n",
       "4996          0\n",
       "4997          1\n",
       "4998          0\n",
       "4999          1\n",
       "\n",
       "[5000 rows x 1 columns]"
      ]
     },
     "execution_count": 17,
     "metadata": {},
     "output_type": "execute_result"
    }
   ],
   "source": [
    "y_test"
   ]
  },
  {
   "cell_type": "code",
   "execution_count": null,
   "metadata": {},
   "outputs": [],
   "source": []
  },
  {
   "cell_type": "code",
   "execution_count": 18,
   "metadata": {
    "cell_style": "split",
    "scrolled": true
   },
   "outputs": [
    {
     "data": {
      "text/plain": [
       "(5001, 1)"
      ]
     },
     "execution_count": 18,
     "metadata": {},
     "output_type": "execute_result"
    },
    {
     "data": {
      "text/plain": [
       "pandas.core.frame.DataFrame"
      ]
     },
     "execution_count": 18,
     "metadata": {},
     "output_type": "execute_result"
    }
   ],
   "source": [
    "X_train.shape\n",
    "# X_train.info()\n",
    "type(X_train)"
   ]
  },
  {
   "cell_type": "code",
   "execution_count": 19,
   "metadata": {
    "cell_style": "split",
    "scrolled": false
   },
   "outputs": [
    {
     "data": {
      "text/plain": [
       "(5001, 1)"
      ]
     },
     "execution_count": 19,
     "metadata": {},
     "output_type": "execute_result"
    },
    {
     "data": {
      "text/plain": [
       "pandas.core.frame.DataFrame"
      ]
     },
     "execution_count": 19,
     "metadata": {},
     "output_type": "execute_result"
    }
   ],
   "source": [
    "y_train.shape\n",
    "# y_train.info()\n",
    "type(y_train)"
   ]
  },
  {
   "cell_type": "code",
   "execution_count": 20,
   "metadata": {
    "cell_style": "split"
   },
   "outputs": [
    {
     "data": {
      "text/plain": [
       "(5000, 1)"
      ]
     },
     "execution_count": 20,
     "metadata": {},
     "output_type": "execute_result"
    },
    {
     "data": {
      "text/plain": [
       "pandas.core.frame.DataFrame"
      ]
     },
     "execution_count": 20,
     "metadata": {},
     "output_type": "execute_result"
    }
   ],
   "source": [
    "X_test.shape\n",
    "# X_test.info()\n",
    "type(X_test)"
   ]
  },
  {
   "cell_type": "code",
   "execution_count": 21,
   "metadata": {
    "cell_style": "split"
   },
   "outputs": [
    {
     "data": {
      "text/plain": [
       "(5000, 1)"
      ]
     },
     "execution_count": 21,
     "metadata": {},
     "output_type": "execute_result"
    },
    {
     "data": {
      "text/plain": [
       "pandas.core.frame.DataFrame"
      ]
     },
     "execution_count": 21,
     "metadata": {},
     "output_type": "execute_result"
    }
   ],
   "source": [
    "y_test.shape\n",
    "# y_train.info()\n",
    "type(y_test)"
   ]
  },
  {
   "cell_type": "code",
   "execution_count": null,
   "metadata": {},
   "outputs": [],
   "source": []
  },
  {
   "cell_type": "markdown",
   "metadata": {},
   "source": [
    "# PRE LOADING"
   ]
  },
  {
   "cell_type": "code",
   "execution_count": 22,
   "metadata": {},
   "outputs": [],
   "source": [
    "def tokenizer_split(text):\n",
    "    return [porter.stem(w) for w in text.split(' ')]\n",
    "\n",
    "def tokenizer_porter(text):\n",
    "    return [porter.stem(w) for w in text.split(' ') if not w in stop_words ]\n",
    "\n",
    "tfidf = TfidfVectorizer(strip_accents=None, lowercase=False, preprocessor=None)"
   ]
  },
  {
   "cell_type": "code",
   "execution_count": 23,
   "metadata": {},
   "outputs": [],
   "source": [
    "master = Super_Analytica('master')"
   ]
  },
  {
   "cell_type": "code",
   "execution_count": 24,
   "metadata": {},
   "outputs": [],
   "source": [
    "stop_words = nltk.corpus.stopwords.words('english')\n",
    "porter = PorterStemmer()"
   ]
  },
  {
   "cell_type": "code",
   "execution_count": 25,
   "metadata": {},
   "outputs": [],
   "source": [
    "%run ../modules/params_imdb.ipynb"
   ]
  },
  {
   "cell_type": "markdown",
   "metadata": {},
   "source": [
    "# Load Pickle _1"
   ]
  },
  {
   "cell_type": "raw",
   "metadata": {},
   "source": [
    " - work in high level - Super Analytica"
   ]
  },
  {
   "cell_type": "code",
   "execution_count": 26,
   "metadata": {},
   "outputs": [
    {
     "data": {
      "text/plain": [
       "dict_keys([])"
      ]
     },
     "execution_count": 26,
     "metadata": {},
     "output_type": "execute_result"
    }
   ],
   "source": [
    "# master.pkl_R_evaluations_all('_1_Linear')\n",
    "master.get_members_evaluations_all()"
   ]
  },
  {
   "cell_type": "code",
   "execution_count": 27,
   "metadata": {
    "deletable": false,
    "editable": false,
    "run_control": {
     "frozen": true
    }
   },
   "outputs": [
    {
     "name": "stdout",
     "output_type": "stream",
     "text": [
      "Done. Evaluation pickled from pisk\n"
     ]
    },
    {
     "data": {
      "text/plain": [
       "dict_keys(['LinearSVC_1', 'LGR_1', 'DT_1', 'ADA_1', 'RF_1', 'XT_1', 'GB_1', 'NB_1', 'M_NB_1', 'SGDC_1', 'KNN_1', 'LNR_1', 'LGR_2', 'GB_2', 'M_NB_2', 'LGR_21'])"
      ]
     },
     "execution_count": 27,
     "metadata": {},
     "output_type": "execute_result"
    }
   ],
   "source": [
    "# master.pkl_R_evaluations_all('_1_SGDC')\n",
    "# master.pkl_R_evaluations_all('_1_KNN')\n",
    "# master.pkl_R_evaluations_all('_1_LNR')\n",
    "# master.pkl_R_evaluations_all('_2') LGR_21\n",
    "# master.pkl_R_evaluations_all('LGR_21') \n",
    "master.pkl_R('LGR_21') \n",
    "master.get_members_evaluations_all()"
   ]
  },
  {
   "cell_type": "code",
   "execution_count": null,
   "metadata": {},
   "outputs": [],
   "source": []
  },
  {
   "cell_type": "markdown",
   "metadata": {},
   "source": [
    "# Assessing Round 1"
   ]
  },
  {
   "cell_type": "code",
   "execution_count": 27,
   "metadata": {},
   "outputs": [],
   "source": [
    "# fazer uma anlise da rodada 1 , encher linguica e justificar a rodada 2\n"
   ]
  },
  {
   "cell_type": "markdown",
   "metadata": {},
   "source": [
    "## Scores"
   ]
  },
  {
   "cell_type": "code",
   "execution_count": 29,
   "metadata": {
    "deletable": false,
    "editable": false,
    "run_control": {
     "frozen": true
    }
   },
   "outputs": [
    {
     "data": {
      "image/png": "[encoded data removed]",
      "text/plain": [
       "<Figure size 432x288 with 1 Axes>"
      ]
     },
     "metadata": {},
     "output_type": "display_data"
    }
   ],
   "source": [
    "master.plot_ranking()"
   ]
  },
  {
   "cell_type": "code",
   "execution_count": 28,
   "metadata": {},
   "outputs": [],
   "source": [
    "top6 = [ 'LGR_1', 'RF_1', 'XT_1', 'GB_1', 'NB_1', 'M_NB_1']\n",
    "\n",
    "last6 = ['LinearSVC_1', 'DT_1', 'ADA_1', 'SGDC_1', 'KNN_1']"
   ]
  },
  {
   "cell_type": "code",
   "execution_count": 31,
   "metadata": {
    "cell_style": "split",
    "deletable": false,
    "editable": false,
    "run_control": {
     "frozen": true
    }
   },
   "outputs": [
    {
     "name": "stdout",
     "output_type": "stream",
     "text": [
      "opening the image LGR_1\n"
     ]
    },
    {
     "data": {
      "image/png": "[encoded data removed]",
      "text/plain": [
       "<Figure size 432x288 with 1 Axes>"
      ]
     },
     "metadata": {},
     "output_type": "display_data"
    },
    {
     "name": "stdout",
     "output_type": "stream",
     "text": [
      "opening the image RF_1\n"
     ]
    },
    {
     "data": {
      "image/png": "[encoded data removed]",
      "text/plain": [
       "<Figure size 432x288 with 1 Axes>"
      ]
     },
     "metadata": {},
     "output_type": "display_data"
    },
    {
     "name": "stdout",
     "output_type": "stream",
     "text": [
      "opening the image XT_1\n"
     ]
    },
    {
     "data": {
      "image/png": "[encoded data removed]",
      "text/plain": [
       "<Figure size 432x288 with 1 Axes>"
      ]
     },
     "metadata": {},
     "output_type": "display_data"
    },
    {
     "name": "stdout",
     "output_type": "stream",
     "text": [
      "opening the image GB_1\n"
     ]
    },
    {
     "data": {
      "image/png": "[encoded data removed]",
      "text/plain": [
       "<Figure size 432x288 with 1 Axes>"
      ]
     },
     "metadata": {},
     "output_type": "display_data"
    },
    {
     "name": "stdout",
     "output_type": "stream",
     "text": [
      "opening the image NB_1\n"
     ]
    },
    {
     "data": {
      "image/png": "[encoded data removed]",
      "text/plain": [
       "<Figure size 432x288 with 1 Axes>"
      ]
     },
     "metadata": {},
     "output_type": "display_data"
    },
    {
     "name": "stdout",
     "output_type": "stream",
     "text": [
      "opening the image M_NB_1\n"
     ]
    },
    {
     "data": {
      "image/png": "[encoded data removed]",
      "text/plain": [
       "<Figure size 432x288 with 1 Axes>"
      ]
     },
     "metadata": {},
     "output_type": "display_data"
    }
   ],
   "source": [
    "master.plot_learning_curve(chosen=top6)"
   ]
  },
  {
   "cell_type": "code",
   "execution_count": 36,
   "metadata": {
    "cell_style": "split",
    "deletable": false,
    "editable": false,
    "run_control": {
     "frozen": true
    },
    "scrolled": false
   },
   "outputs": [
    {
     "name": "stdout",
     "output_type": "stream",
     "text": [
      "opening the image LinearSVC_1\n"
     ]
    },
    {
     "data": {
      "image/png": "[encoded data removed]",
      "text/plain": [
       "<Figure size 432x288 with 1 Axes>"
      ]
     },
     "metadata": {},
     "output_type": "display_data"
    },
    {
     "name": "stdout",
     "output_type": "stream",
     "text": [
      "opening the image DT_1\n"
     ]
    },
    {
     "data": {
      "image/png": "[encoded data removed]",
      "text/plain": [
       "<Figure size 432x288 with 1 Axes>"
      ]
     },
     "metadata": {},
     "output_type": "display_data"
    },
    {
     "name": "stdout",
     "output_type": "stream",
     "text": [
      "opening the image ADA_1\n"
     ]
    },
    {
     "data": {
      "image/png": "[encoded data removed]",
      "text/plain": [
       "<Figure size 432x288 with 1 Axes>"
      ]
     },
     "metadata": {},
     "output_type": "display_data"
    },
    {
     "name": "stdout",
     "output_type": "stream",
     "text": [
      "opening the image SGDC_1\n"
     ]
    },
    {
     "data": {
      "image/png": "[encoded data removed]",
      "text/plain": [
       "<Figure size 432x288 with 1 Axes>"
      ]
     },
     "metadata": {},
     "output_type": "display_data"
    },
    {
     "name": "stdout",
     "output_type": "stream",
     "text": [
      "opening the image KNN_1\n"
     ]
    },
    {
     "data": {
      "image/png": "[encoded data removed]",
      "text/plain": [
       "<Figure size 432x288 with 1 Axes>"
      ]
     },
     "metadata": {},
     "output_type": "display_data"
    }
   ],
   "source": [
    "master.plot_learning_curve(chosen=last6)"
   ]
  },
  {
   "cell_type": "raw",
   "metadata": {},
   "source": [
    "Em Overfitting. Caminha para convergencia. \n",
    "LGR_1, GB_1,  M_NB_1\n",
    "\n",
    "\n",
    "Em Overfitting. Ainda longe da convergencia. \n",
    "RF_1,  XT_1,  NB_1,  DT_1, ADA_1,  KNN_1\n",
    "\n",
    "\n",
    "Em Underfitting\n",
    "LinearSVC_1, SGDC_1"
   ]
  },
  {
   "cell_type": "raw",
   "metadata": {},
   "source": [
    "Os 3 melhores scores pertencem a modelo em overfitting que apresentam sinais de convergencia entre trin score e test score."
   ]
  },
  {
   "cell_type": "code",
   "execution_count": 29,
   "metadata": {},
   "outputs": [
    {
     "data": {
      "text/plain": [
       "['LGR_1', 'RF_1', 'XT_1', 'GB_1', 'NB_1', 'M_NB_1']"
      ]
     },
     "execution_count": 29,
     "metadata": {},
     "output_type": "execute_result"
    }
   ],
   "source": [
    "top6"
   ]
  },
  {
   "cell_type": "markdown",
   "metadata": {},
   "source": [
    "## Quality"
   ]
  },
  {
   "cell_type": "code",
   "execution_count": 30,
   "metadata": {},
   "outputs": [
    {
     "data": {
      "text/plain": [
       "['LGR_1', 'RF_1', 'XT_1', 'GB_1', 'NB_1', 'M_NB_1']"
      ]
     },
     "execution_count": 30,
     "metadata": {},
     "output_type": "execute_result"
    }
   ],
   "source": [
    "top6"
   ]
  },
  {
   "cell_type": "code",
   "execution_count": 39,
   "metadata": {
    "cell_style": "split",
    "deletable": false,
    "editable": false,
    "run_control": {
     "frozen": true
    }
   },
   "outputs": [
    {
     "data": {
      "image/png": "[encoded data removed]",
      "text/plain": [
       "<Figure size 432x288 with 2 Axes>"
      ]
     },
     "metadata": {},
     "output_type": "display_data"
    },
    {
     "data": {
      "image/png": "[encoded data removed]",
      "text/plain": [
       "<Figure size 432x288 with 2 Axes>"
      ]
     },
     "metadata": {},
     "output_type": "display_data"
    },
    {
     "data": {
      "image/png": "[encoded data removed]",
      "text/plain": [
       "<Figure size 432x288 with 2 Axes>"
      ]
     },
     "metadata": {},
     "output_type": "display_data"
    },
    {
     "data": {
      "image/png": "[encoded data removed]",
      "text/plain": [
       "<Figure size 432x288 with 2 Axes>"
      ]
     },
     "metadata": {},
     "output_type": "display_data"
    },
    {
     "data": {
      "image/png": "[encoded data removed]",
      "text/plain": [
       "<Figure size 432x288 with 2 Axes>"
      ]
     },
     "metadata": {},
     "output_type": "display_data"
    },
    {
     "data": {
      "image/png": "[encoded data removed]",
      "text/plain": [
       "<Figure size 432x288 with 2 Axes>"
      ]
     },
     "metadata": {},
     "output_type": "display_data"
    }
   ],
   "source": [
    "master.plot_Classification_Report(chosen=top6)"
   ]
  },
  {
   "cell_type": "code",
   "execution_count": 42,
   "metadata": {
    "cell_style": "split",
    "deletable": false,
    "editable": false,
    "run_control": {
     "frozen": true
    }
   },
   "outputs": [
    {
     "data": {
      "image/png": "[encoded data removed]",
      "text/plain": [
       "<Figure size 432x288 with 2 Axes>"
      ]
     },
     "metadata": {},
     "output_type": "display_data"
    },
    {
     "data": {
      "image/png": "[encoded data removed]",
      "text/plain": [
       "<Figure size 432x288 with 2 Axes>"
      ]
     },
     "metadata": {},
     "output_type": "display_data"
    },
    {
     "data": {
      "image/png": "[encoded data removed]",
      "text/plain": [
       "<Figure size 432x288 with 2 Axes>"
      ]
     },
     "metadata": {},
     "output_type": "display_data"
    },
    {
     "data": {
      "image/png": "[encoded data removed]",
      "text/plain": [
       "<Figure size 432x288 with 2 Axes>"
      ]
     },
     "metadata": {},
     "output_type": "display_data"
    },
    {
     "data": {
      "image/png": "[encoded data removed]",
      "text/plain": [
       "<Figure size 432x288 with 2 Axes>"
      ]
     },
     "metadata": {},
     "output_type": "display_data"
    }
   ],
   "source": [
    "master.plot_Classification_Report(chosen=last6)"
   ]
  },
  {
   "cell_type": "code",
   "execution_count": null,
   "metadata": {},
   "outputs": [],
   "source": []
  },
  {
   "cell_type": "code",
   "execution_count": null,
   "metadata": {},
   "outputs": [],
   "source": []
  },
  {
   "cell_type": "code",
   "execution_count": null,
   "metadata": {},
   "outputs": [],
   "source": []
  },
  {
   "cell_type": "code",
   "execution_count": null,
   "metadata": {},
   "outputs": [],
   "source": []
  },
  {
   "cell_type": "markdown",
   "metadata": {},
   "source": [
    "# Round 2 TUNNING TOP4\n"
   ]
  },
  {
   "cell_type": "raw",
   "metadata": {},
   "source": [
    "5000 samples\n"
   ]
  },
  {
   "cell_type": "raw",
   "metadata": {},
   "source": [
    "VALORIZAR CADA PARAM, RELACIONANDO COM OVERFITTING E COM A LEARNING CURVE\n",
    "tem que explicar mais as parada\n",
    "ngram da nocao de contexto diferenciando 'not an issue'\n",
    "talvez achar palavras mal classificadas anteriormente, video coursera case study"
   ]
  },
  {
   "cell_type": "code",
   "execution_count": 31,
   "metadata": {},
   "outputs": [],
   "source": [
    "md_top4_2 = ['RF_2', 'XT_2', 'LGR_2', 'GB_2']"
   ]
  },
  {
   "cell_type": "code",
   "execution_count": 32,
   "metadata": {
    "deletable": false,
    "editable": false,
    "run_control": {
     "frozen": true
    }
   },
   "outputs": [
    {
     "name": "stdout",
     "output_type": "stream",
     "text": [
      "acc : 0.8408\n",
      "LGR_2   pickled to disk\n",
      "LGR_2   HP2 Done. Model is Fitted and Scored. Results in Evaluations_all.\n",
      "Time taken: 2941.6116457930184\n"
     ]
    }
   ],
   "source": [
    "start= timer()\n",
    "param['LGR_2'] = {\n",
    "    'feats__ngram_tf_idf__counts__min_df': hp.choice('zz_min_df', [2, 3, 4, 5]),\n",
    "    'feats__ngram_tf_idf__counts__ngram_range': hp.choice('ngram_range', [(1, 2), (1, 3)]),\n",
    "#     'feats__ngram_tf_idf__counts__analyzer': hp.choice('analyzer', ['word', 'char', 'char_wb']),\n",
    "    'feats__ngram_tf_idf__counts__analyzer': hp.choice('analyzer', ['char_wb', 'char']),\n",
    "#     'feats__ngram_tf_idf__counts__stop_words': hp.choice('stop_words', [stop_words, None]),\n",
    "#     'feats__ngram_tf_idf__counts__tokenizer': hp.choice('tokenizer', [tokenizer_split, tokenizer_porter]),\n",
    "    'LGR__penalty': hp.choice('LGR__penalty', ['l1', 'l2']),\n",
    "    'LGR__C': hp.uniform('LGR__C',1, 1000)\n",
    "}\n",
    "\n",
    "pipe = Pipeline([\n",
    "    ('col', Col_Extractor(['review'])),\n",
    "    ('prep', Preprocessor()),\n",
    "\n",
    "    ('feats', FeatureUnion([\n",
    "        ('ngram_tf_idf', Pipeline([\n",
    "            ('to_array', To_array()),\n",
    "            ('counts', CountVectorizer(stop_words=stop_words)),\n",
    "            ('tf_idf', TfidfTransformer())])),\n",
    "\n",
    "        ('mean_word_len', mean_word_len()),\n",
    "        ('num_stop_words', num_stop_words()),\n",
    "        ('num_uni_words', num_uni_words()),\n",
    "        ('num_words_title', num_words_title())\n",
    "\n",
    "    ])),\n",
    "    ('LGR', clf['LGR']) ])\n",
    "\n",
    "md_LGR_21 = Analytica_Bolada(clf['LGR'], param['LGR_2'], 'LGR_2')\n",
    "md_LGR_21.evaluate_HP2(pipe, pkl_W=True)\n",
    "\n",
    "end = timer() \n",
    "\n",
    "print(\"Time taken:\", end-start)"
   ]
  },
  {
   "cell_type": "code",
   "execution_count": null,
   "metadata": {
    "deletable": false,
    "editable": false,
    "run_control": {
     "frozen": true
    }
   },
   "outputs": [],
   "source": [
    "start= timer()\n",
    "param['GB_2'] = {\n",
    "    'feats__ngram_tf_idf__counts__min_df': hp.choice('min_df', [2, 3, 4]),\n",
    "    'feats__ngram_tf_idf__counts__ngram_range': hp.choice('mngram_range', [(1, 2), (1, 3)]),\n",
    "    'feats__ngram_tf_idf__counts__analyzer': hp.choice('analyzer', ['word', 'char', 'char_wb']),\n",
    "    'feats__ngram_tf_idf__counts__stop_words': hp.choice('stop_words', [stop_words, None]),\n",
    "    'feats__ngram_tf_idf__counts__tokenizer': hp.choice('tokenizer', [tokenizer_split, tokenizer_porter]),\n",
    "    'GB__max_depth'        : hp.choice(\"max_depth\",        np.arange(4, 7,    dtype=int)), \n",
    "    'GB__learning_rate'    : hp.loguniform('learning_rate', -6.9, -2.3),\n",
    "#     'GB__n_estimators'     : hp.choice('n_estimators', 100, 500, 1000),\n",
    "    'GB__random_state'    : hp.randint('random_state',20)\n",
    "   }\n",
    "\n",
    "pipe = Pipeline([\n",
    "    ('col', Col_Extractor(['review'])),\n",
    "    ('prep', Preprocessor()),\n",
    "\n",
    "    ('feats', FeatureUnion([\n",
    "        ('ngram_tf_idf', Pipeline([\n",
    "            ('to_array', To_array()),\n",
    "            ('counts', CountVectorizer(stop_words=stop_words)),\n",
    "            ('tf_idf', TfidfTransformer())])),\n",
    "\n",
    "        ('mean_word_len', mean_word_len()),\n",
    "        ('num_stop_words', num_stop_words()),\n",
    "        ('num_uni_words', num_uni_words()),\n",
    "        ('num_words_title', num_words_title())\n",
    "    ])),\n",
    "    ('GB', clf['GB'])])\n",
    "\n",
    "# pipe.fit(X_train, y_train)\n",
    "md_GB_2 = Analytica_Bolada(clf['GB'], param['GB_2'], 'GB_2')\n",
    "md_GB_2.evaluate_HP2(pipe)\n",
    "\n",
    "end = timer() \n",
    "\n",
    "print(\"Time taken:\", end-start)\n"
   ]
  },
  {
   "cell_type": "code",
   "execution_count": 33,
   "metadata": {
    "deletable": false,
    "editable": false,
    "run_control": {
     "frozen": true
    }
   },
   "outputs": [
    {
     "name": "stdout",
     "output_type": "stream",
     "text": [
      "GB_2\n"
     ]
    },
    {
     "data": {
      "text/plain": [
       "<Figure size 432x288 with 0 Axes>"
      ]
     },
     "metadata": {},
     "output_type": "display_data"
    }
   ],
   "source": [
    "md_GB_2.plot_learning_curve()"
   ]
  },
  {
   "cell_type": "code",
   "execution_count": 31,
   "metadata": {
    "deletable": false,
    "editable": false,
    "run_control": {
     "frozen": true
    }
   },
   "outputs": [
    {
     "name": "stdout",
     "output_type": "stream",
     "text": [
      "acc : 0.8534\n",
      "RF_2   pickled to disk\n",
      "RF_2   HP2 Done. Model is Fitted and Scored. Results in Evaluations_all.\n",
      "Time taken: 11282.320169678016\n"
     ]
    }
   ],
   "source": [
    "# RF\n",
    "start = timer()\n",
    "param['RF_2'] = {\n",
    "    'feats__ngram_tf_idf__counts__min_df': hp.choice('zz_min_df', [2, 3, 4]),\n",
    "    'feats__ngram_tf_idf__counts__ngram_range': hp.choice('zz_ngram_range', [(1, 2), (1, 3)]),\n",
    "    'feats__ngram_tf_idf__counts__analyzer': hp.choice('analyzer', ['word', 'char', 'char_wb']),\n",
    "    'feats__ngram_tf_idf__counts__stop_words': hp.choice('stop_words', [stop_words, None]),\n",
    "    'feats__ngram_tf_idf__counts__tokenizer': hp.choice('tokenizer', [tokenizer_split, tokenizer_porter]),\n",
    "    'RF__n_estimators': hp.choice('zz_RF__n_estimators',         np.arange(20, 1001, 50, dtype=int)),\n",
    "    'RF__max_depth': hp.choice(\"zz_RF__max_depth\",            np.arange(5, 100, 10,    dtype=int)),\n",
    "    'RF__min_samples_split': hp.choice(\"zz_RF__min_samples_split\",    np.arange(2, 30,    dtype=int)),\n",
    "    'RF__min_samples_leaf': hp.uniform(\"RF__min_samples_leaf\", 0, 0.5),\n",
    "    'RF__criterion': hp.choice('RF__criterion', [\"gini\", \"entropy\"]),\n",
    "    'RF__max_features': hp.choice('RF__max_features', ['auto', 'sqrt']),\n",
    "    'RF__n_jobs': -1,\n",
    "    'RF__oob_score': True,\n",
    "#     'RF__verbose': 1,\n",
    "    'RF__random_state': hp.randint('random_state', 20)\n",
    "}\n",
    "\n",
    "pipe = Pipeline([\n",
    "    ('col', Col_Extractor(['review'])),\n",
    "    ('prep', Preprocessor()),\n",
    "\n",
    "    ('feats', FeatureUnion([\n",
    "        ('ngram_tf_idf', Pipeline([\n",
    "            ('to_array', To_array()),\n",
    "            ('counts', CountVectorizer(stop_words=stop_words)),\n",
    "            ('tf_idf', TfidfTransformer())])),\n",
    "\n",
    "        ('mean_word_len', mean_word_len()),\n",
    "        ('num_stop_words', num_stop_words()),\n",
    "        ('num_uni_words', num_uni_words()),\n",
    "        ('num_words_title', num_words_title())\n",
    "    ])),\n",
    "    ('RF', clf['RF'])])\n",
    "\n",
    "# pipe.fit(X_train, y_train)\n",
    "md_RF_2 = Analytica_Bolada(clf['RF'], param['RF_2'], 'RF_2')\n",
    "md_RF_2.evaluate_HP2(pipe, pkl_W=True)\n",
    "\n",
    "end = timer()\n",
    "\n",
    "print(\"Time taken:\", end-start)"
   ]
  },
  {
   "cell_type": "code",
   "execution_count": 32,
   "metadata": {
    "deletable": false,
    "editable": false,
    "run_control": {
     "frozen": true
    }
   },
   "outputs": [
    {
     "name": "stdout",
     "output_type": "stream",
     "text": [
      "saving the image RF_2\n"
     ]
    },
    {
     "data": {
      "text/plain": [
       "<Figure size 432x288 with 0 Axes>"
      ]
     },
     "metadata": {},
     "output_type": "display_data"
    }
   ],
   "source": [
    "master.plot_learning_curve(load_saved=False, chosen=['RF_2'])"
   ]
  },
  {
   "cell_type": "code",
   "execution_count": 31,
   "metadata": {
    "deletable": false,
    "editable": false,
    "run_control": {
     "frozen": true
    }
   },
   "outputs": [
    {
     "name": "stdout",
     "output_type": "stream",
     "text": [
      "acc : 0.8614\n",
      "XT_2   pickled to disk\n",
      "XT_2   HP2 Done. Model is Fitted and Scored. Results in Evaluations_all.\n",
      "Time taken: 4208.076864561997\n"
     ]
    }
   ],
   "source": [
    "# XT\n",
    "# 5000 samples\n",
    "# HP max_evals=100\n",
    "\n",
    "start = timer()\n",
    "param['XT_2'] = {\n",
    "    'feats__ngram_tf_idf__counts__min_df': hp.choice('zz_min_df', [2, 3, 4]),\n",
    "    'feats__ngram_tf_idf__counts__ngram_range': hp.choice('mngram_range', [(1, 2), (1, 3)]),\n",
    "    'feats__ngram_tf_idf__counts__analyzer': hp.choice('analyzer', ['word', 'char', 'char_wb']),\n",
    "    'feats__ngram_tf_idf__counts__stop_words': hp.choice('stop_words', [stop_words, None]),\n",
    "    'feats__ngram_tf_idf__counts__tokenizer': hp.choice('tokenizer', [tokenizer_split, tokenizer_porter]),\n",
    "    'XT__n_estimators': hp.choice('zz_XT__n_estimators',         np.arange(20, 1001, 50, dtype=int)),\n",
    "    'XT__max_depth': hp.choice(\"zz_XT__max_depth\",            np.arange(5, 100, 10,    dtype=int)),\n",
    "    'XT__min_samples_split': hp.choice(\"zz_XT__min_samples_split\",    np.arange(2, 30,    dtype=int)),\n",
    "    'XT__min_samples_leaf': hp.uniform(\"XT__min_samples_leaf\", 0, 0.5),\n",
    "    'XT__criterion': hp.choice('RF__criterion', [\"gini\", \"entropy\"]),\n",
    "    'XT__max_features': hp.choice('RF__max_features', ['auto', 'sqrt']),\n",
    "    'XT__n_jobs': -1,\n",
    "    'XT__oob_score': True,\n",
    "    'XT__bootstrap': True,\n",
    "#     'XT__verbose': 1,\n",
    "    'XT__random_state': hp.randint('random_state', 20)\n",
    "}\n",
    "\n",
    "pipe = Pipeline([\n",
    "    ('col', Col_Extractor(['review'])),\n",
    "    ('prep', Preprocessor()),\n",
    "\n",
    "    ('feats', FeatureUnion([\n",
    "        ('ngram_tf_idf', Pipeline([\n",
    "            ('to_array', To_array()),\n",
    "            ('counts', CountVectorizer(stop_words=stop_words)),\n",
    "            ('tf_idf', TfidfTransformer())])),\n",
    "\n",
    "        ('mean_word_len', mean_word_len()),\n",
    "        ('num_stop_words', num_stop_words()),\n",
    "        ('num_uni_words', num_uni_words()),\n",
    "        ('num_words_title', num_words_title())\n",
    "    ])),\n",
    "    ('XT', clf['XT'])])\n",
    "\n",
    "# pipe.fit(X_train, y_train)\n",
    "md_XT_2 = Analytica_Bolada(clf['XT'], param['XT_2'], 'XT_2')\n",
    "md_XT_2.evaluate_HP2(pipe, pkl_W=True)\n",
    "\n",
    "end = timer()\n",
    "\n",
    "print(\"Time taken:\", end-start)"
   ]
  },
  {
   "cell_type": "code",
   "execution_count": 32,
   "metadata": {
    "deletable": false,
    "editable": false,
    "run_control": {
     "frozen": true
    }
   },
   "outputs": [
    {
     "name": "stdout",
     "output_type": "stream",
     "text": [
      "saving the image XT_2\n"
     ]
    },
    {
     "data": {
      "text/plain": [
       "<Figure size 432x288 with 0 Axes>"
      ]
     },
     "metadata": {},
     "output_type": "display_data"
    }
   ],
   "source": [
    "master.plot_learning_curve(load_saved=False, chosen=['XT_2'])"
   ]
  },
  {
   "cell_type": "markdown",
   "metadata": {},
   "source": [
    "# afternight"
   ]
  },
  {
   "cell_type": "code",
   "execution_count": 32,
   "metadata": {},
   "outputs": [],
   "source": [
    "# getting back where we left off for doing all the plots"
   ]
  },
  {
   "cell_type": "code",
   "execution_count": 33,
   "metadata": {},
   "outputs": [
    {
     "data": {
      "text/plain": [
       "['RF_2', 'XT_2', 'LGR_2', 'GB_2']"
      ]
     },
     "execution_count": 33,
     "metadata": {},
     "output_type": "execute_result"
    }
   ],
   "source": [
    "md_top4_2"
   ]
  },
  {
   "cell_type": "code",
   "execution_count": 33,
   "metadata": {
    "deletable": false,
    "editable": false,
    "run_control": {
     "frozen": true
    }
   },
   "outputs": [
    {
     "name": "stdout",
     "output_type": "stream",
     "text": [
      "Done. Evaluation pickled from pisk\n",
      "Done. Evaluation pickled from pisk\n",
      "Done. Evaluation pickled from pisk\n",
      "Done. Evaluation pickled from pisk\n",
      " One or more evaluations were overwriten\n"
     ]
    },
    {
     "data": {
      "text/plain": [
       "dict_keys(['RF_2', 'XT_2', 'LinearSVC_1', 'LGR_1', 'DT_1', 'ADA_1', 'RF_1', 'XT_1', 'GB_1', 'NB_1', 'M_NB_1', 'SGDC_1', 'KNN_1', 'LNR_1', 'LGR_2', 'GB_2', 'M_NB_2', 'LGR_21'])"
      ]
     },
     "execution_count": 33,
     "metadata": {},
     "output_type": "execute_result"
    }
   ],
   "source": [
    "master.pkl_R('clf_RF_2') \n",
    "master.pkl_R('clf_XT_2')\n",
    "master.pkl_R('LGR_21')\n",
    "master.pkl_R('clf_LGR_2')\n",
    "\n",
    "master.get_members_evaluations_all()"
   ]
  },
  {
   "cell_type": "code",
   "execution_count": 34,
   "metadata": {
    "deletable": false,
    "editable": false,
    "run_control": {
     "frozen": true
    }
   },
   "outputs": [
    {
     "name": "stdout",
     "output_type": "stream",
     "text": [
      "saving c_reprt_ image for RF_2\n",
      "saving c_reprt_ image for XT_2\n",
      "saving c_reprt_ image for LGR_2\n",
      "saving c_reprt_ image for GB_2\n",
      "saving c_matrx_ image for RF_2\n",
      "saving c_matrx_ image for XT_2\n",
      "saving c_matrx_ image for LGR_2\n",
      "saving c_matrx_ image for GB_2\n",
      "saving roc_auc_ image for RF_2\n",
      "saving roc_auc_ image for XT_2\n",
      "saving roc_auc_ image for LGR_2\n",
      "saving roc_auc_ image for GB_2\n",
      "CPU times: user 14min 11s, sys: 16 s, total: 14min 27s\n",
      "Wall time: 12min 26s\n"
     ]
    },
    {
     "data": {
      "text/plain": [
       "<Figure size 432x288 with 0 Axes>"
      ]
     },
     "metadata": {},
     "output_type": "display_data"
    }
   ],
   "source": [
    "%%time\n",
    "master.plot_Classification_Report(load_saved=False, chosen=md_top4_2)\n",
    "master.plot_Confusion_Matrix(load_saved=False, chosen=md_top4_2)\n",
    "master.plot_ROC_AUC(load_saved=False, chosen=md_top4_2)"
   ]
  },
  {
   "cell_type": "code",
   "execution_count": null,
   "metadata": {},
   "outputs": [],
   "source": []
  },
  {
   "cell_type": "markdown",
   "metadata": {},
   "source": [
    "# Round 3 PCA on  TOP4\n"
   ]
  },
  {
   "cell_type": "raw",
   "metadata": {},
   "source": [
    "5000 samples\n",
    "HP 150"
   ]
  },
  {
   "cell_type": "code",
   "execution_count": 34,
   "metadata": {},
   "outputs": [],
   "source": [
    "md_top4_3 = ['RF_3', 'XT_3', 'LGR_3', 'GB_3']"
   ]
  },
  {
   "cell_type": "code",
   "execution_count": 36,
   "metadata": {
    "deletable": false,
    "editable": false,
    "run_control": {
     "frozen": true
    }
   },
   "outputs": [
    {
     "name": "stdout",
     "output_type": "stream",
     "text": [
      "saving viz image for manif_1\n",
      "CPU times: user 28.7 s, sys: 5.68 s, total: 34.4 s\n",
      "Wall time: 28.9 s\n"
     ]
    },
    {
     "data": {
      "image/png": "[encoded data removed]",
      "text/plain": [
       "<Figure size 432x288 with 1 Axes>"
      ]
     },
     "metadata": {},
     "output_type": "display_data"
    }
   ],
   "source": [
    "%%time\n",
    "# MANIFOLD\n",
    "pipe = Pipeline([\n",
    "    ('col', Col_Extractor(['review'])),\n",
    "    ('prep', Preprocessor()),\n",
    "    ('feats', FeatureUnion([\n",
    "        ('ngram_tf_idf', Pipeline([\n",
    "            ('to_array', To_array()),\n",
    "            ('counts', CountVectorizer(stop_words=stop_words)),\n",
    "            ('tf_idf', TfidfTransformer())])),\n",
    "        ('mean_word_len', mean_word_len()),\n",
    "        ('num_stop_words', num_stop_words()),\n",
    "        ('num_uni_words', num_uni_words()),\n",
    "        ('num_words_title', num_words_title())\n",
    "    ])),\n",
    "    ('Dense', DenseTransformer()),\n",
    "    ('PCA', PCA(n_components=3)),\n",
    "    (\"viz\", Manifold(manifold='isomap', target='discrete'))\n",
    "])\n",
    "\n",
    "master.plot_Viz_pipe(pipe, 'manif_1', load_saved=False)"
   ]
  },
  {
   "cell_type": "code",
   "execution_count": 37,
   "metadata": {
    "deletable": false,
    "editable": false,
    "run_control": {
     "frozen": true
    }
   },
   "outputs": [
    {
     "name": "stdout",
     "output_type": "stream",
     "text": [
      "saving viz image for pca_proj_1\n",
      "CPU times: user 26.6 s, sys: 15.5 s, total: 42.1 s\n",
      "Wall time: 33.5 s\n"
     ]
    },
    {
     "data": {
      "image/png": "[encoded data removed]",
      "text/plain": [
       "<Figure size 432x288 with 1 Axes>"
      ]
     },
     "metadata": {},
     "output_type": "display_data"
    }
   ],
   "source": [
    "%%time\n",
    "# PCA PROJECTION\n",
    "pipe = Pipeline([\n",
    "    ('col', Col_Extractor(['review'])),\n",
    "    ('prep', Preprocessor()),\n",
    "    ('feats', FeatureUnion([\n",
    "        ('ngram_tf_idf', Pipeline([\n",
    "            ('to_array', To_array()),\n",
    "            ('counts', CountVectorizer(stop_words=stop_words)),\n",
    "            ('tf_idf', TfidfTransformer())])),\n",
    "        ('mean_word_len', mean_word_len()),\n",
    "        ('num_stop_words', num_stop_words()),\n",
    "        ('num_uni_words', num_uni_words()),\n",
    "        ('num_words_title', num_words_title())\n",
    "    ])),\n",
    "    ('Dense', DenseTransformer()),\n",
    "    (\"viz\", PCADecomposition(scale=True, proj_dim=3))\n",
    "])\n",
    "\n",
    "master.plot_Viz_pipe(pipe, 'pca_proj_1', load_saved=False)"
   ]
  },
  {
   "cell_type": "code",
   "execution_count": 38,
   "metadata": {
    "deletable": false,
    "editable": false,
    "run_control": {
     "frozen": true
    },
    "scrolled": true
   },
   "outputs": [
    {
     "name": "stdout",
     "output_type": "stream",
     "text": [
      "acc : 0.805\n",
      "LGR_3   pickled to disk\n",
      "LGR_3   HP2 Done. Model is Fitted and Scored. Results in Evaluations_all.\n",
      "CPU times: user 1min 23s, sys: 12 s, total: 1min 35s\n",
      "Wall time: 52min 10s\n"
     ]
    }
   ],
   "source": [
    "%%time\n",
    "param['LGR_3'] = {\n",
    "    'feats__ngram_tf_idf__counts__min_df': hp.choice('zz_min_df', [2, 3, 4, 5]),\n",
    "    'feats__ngram_tf_idf__counts__ngram_range': hp.choice('ngram_range', [(1, 2), (1, 3)]),\n",
    "    'feats__ngram_tf_idf__counts__analyzer': hp.choice('analyzer', ['word', 'char', 'char_wb']),\n",
    "    'feats__ngram_tf_idf__counts__analyzer': hp.choice('analyzer', ['char_wb', 'char']),\n",
    "    'PCA__n_components': hp.choice('zz_PCA__n_components', range(5, 100, 5)),\n",
    "    'LGR__penalty': hp.choice('LGR__penalty', ['l1', 'l2']),\n",
    "    'LGR__C': hp.uniform('LGR__C',1, 1000)\n",
    "}\n",
    "\n",
    "pipe = Pipeline([\n",
    "    ('col', Col_Extractor(['review'])),\n",
    "    ('prep', Preprocessor()),\n",
    "\n",
    "    ('feats', FeatureUnion([\n",
    "        ('ngram_tf_idf', Pipeline([\n",
    "            ('to_array', To_array()),\n",
    "            ('counts', CountVectorizer(stop_words=stop_words)),\n",
    "            ('tf_idf', TfidfTransformer())])),\n",
    "\n",
    "        ('mean_word_len', mean_word_len()),\n",
    "        ('num_stop_words', num_stop_words()),\n",
    "        ('num_uni_words', num_uni_words()),\n",
    "        ('num_words_title', num_words_title())\n",
    "\n",
    "    ])),\n",
    "    ('Dense', DenseTransformer()),\n",
    "    ('PCA', PCA()),\n",
    "    ('LGR', clf['LGR']) \n",
    "])\n",
    "\n",
    "md_LGR_3 = Analytica_Bolada(clf['LGR'], param['LGR_3'], 'LGR_3')\n",
    "md_LGR_3.evaluate_HP2(pipe, pkl_W=True)"
   ]
  },
  {
   "cell_type": "code",
   "execution_count": null,
   "metadata": {},
   "outputs": [],
   "source": []
  },
  {
   "cell_type": "code",
   "execution_count": null,
   "metadata": {},
   "outputs": [],
   "source": []
  },
  {
   "cell_type": "code",
   "execution_count": null,
   "metadata": {},
   "outputs": [],
   "source": []
  },
  {
   "cell_type": "code",
   "execution_count": null,
   "metadata": {},
   "outputs": [],
   "source": []
  },
  {
   "cell_type": "code",
   "execution_count": null,
   "metadata": {},
   "outputs": [],
   "source": [
    "%%time\n",
    "param['GB_3'] = {\n",
    "    'feats__ngram_tf_idf__counts__min_df': hp.choice('min_df', [2, 3, 4]),\n",
    "    'feats__ngram_tf_idf__counts__ngram_range': hp.choice('mngram_range', [(1, 2), (1, 3)]),\n",
    "    'feats__ngram_tf_idf__counts__analyzer': hp.choice('analyzer', ['word', 'char', 'char_wb']),\n",
    "    'feats__ngram_tf_idf__counts__stop_words': hp.choice('stop_words', [stop_words, None]),\n",
    "    'feats__ngram_tf_idf__counts__tokenizer': hp.choice('tokenizer', [tokenizer_split, tokenizer_porter]),\n",
    "    'PCA__n_components': hp.choice('zz_PCA__n_components', range(5, 25, 5)),\n",
    "    'GB__max_depth'        : hp.choice(\"max_depth\",        np.arange(4, 7,    dtype=int)), \n",
    "    'GB__learning_rate'    : hp.loguniform('learning_rate', -6.9, -2.3),\n",
    "    'GB__n_estimators'     : hp.choice('zz_n_estimators', [100, 500, 1000]),\n",
    "    'GB__random_state'    : hp.randint('random_state',20)\n",
    "   }\n",
    "\n",
    "pipe = Pipeline([\n",
    "    ('col', Col_Extractor(['review'])),\n",
    "    ('prep', Preprocessor()),\n",
    "\n",
    "    ('feats', FeatureUnion([\n",
    "        ('ngram_tf_idf', Pipeline([\n",
    "            ('to_array', To_array()),\n",
    "            ('counts', CountVectorizer(stop_words=stop_words)),\n",
    "            ('tf_idf', TfidfTransformer())])),\n",
    "\n",
    "        ('mean_word_len', mean_word_len()),\n",
    "        ('num_stop_words', num_stop_words()),\n",
    "        ('num_uni_words', num_uni_words()),\n",
    "        ('num_words_title', num_words_title())\n",
    "    ])),\n",
    "    ('Dense', DenseTransformer()),\n",
    "    ('PCA', PCA()),\n",
    "    ('GB', clf['GB'])])\n",
    "\n",
    "# pipe.fit(X_train, y_train)\n",
    "md_GB_3 = Analytica_Bolada(clf['GB'], param['GB_3'], 'GB_3')\n",
    "md_GB_3.evaluate_HP2(pipe)"
   ]
  },
  {
   "cell_type": "code",
   "execution_count": null,
   "metadata": {},
   "outputs": [],
   "source": [
    "%%time\n",
    "# RF\n",
    "start = timer()\n",
    "param['RF_3'] = {\n",
    "    'feats__ngram_tf_idf__counts__min_df': hp.choice('zz_min_df', [2, 3, 4]),\n",
    "    'feats__ngram_tf_idf__counts__ngram_range': hp.choice('zz_ngram_range', [(1, 2), (1, 3)]),\n",
    "    'feats__ngram_tf_idf__counts__analyzer': hp.choice('analyzer', ['word', 'char', 'char_wb']),\n",
    "    'feats__ngram_tf_idf__counts__stop_words': hp.choice('stop_words', [stop_words, None]),\n",
    "    'feats__ngram_tf_idf__counts__tokenizer': hp.choice('tokenizer', [tokenizer_split, tokenizer_porter]),\n",
    "   'PCA__n_components': hp.choice('zz_PCA__n_components', range(5, 100, 5)),\n",
    "    'RF__n_estimators': hp.choice('zz_RF__n_estimators',         np.arange(20, 1001, 50, dtype=int)),\n",
    "    'RF__max_depth': hp.choice(\"zz_RF__max_depth\",            np.arange(5, 100, 10,    dtype=int)),\n",
    "    'RF__min_samples_split': hp.choice(\"zz_RF__min_samples_split\",    np.arange(2, 30,    dtype=int)),\n",
    "    'RF__min_samples_leaf': hp.uniform(\"RF__min_samples_leaf\", 0, 0.5),\n",
    "    'RF__criterion': hp.choice('RF__criterion', [\"gini\", \"entropy\"]),\n",
    "    'RF__max_features': hp.choice('RF__max_features', ['auto', 'sqrt']),\n",
    "    'RF__n_jobs': -1,\n",
    "    'RF__oob_score': True,\n",
    "#     'RF__verbose': 1,\n",
    "    'RF__random_state': hp.randint('random_state', 20)\n",
    "}\n",
    "\n",
    "pipe = Pipeline([\n",
    "    ('col', Col_Extractor(['review'])),\n",
    "    ('prep', Preprocessor()),\n",
    "\n",
    "    ('feats', FeatureUnion([\n",
    "        ('ngram_tf_idf', Pipeline([\n",
    "            ('to_array', To_array()),\n",
    "            ('counts', CountVectorizer(stop_words=stop_words)),\n",
    "            ('tf_idf', TfidfTransformer())])),\n",
    "        ('mean_word_len', mean_word_len()),\n",
    "        ('num_stop_words', num_stop_words()),\n",
    "        ('num_uni_words', num_uni_words()),\n",
    "        ('num_words_title', num_words_title())\n",
    "    ])),\n",
    "    ('Dense', DenseTransformer()),\n",
    "    ('PCA', PCA()),\n",
    "    ('RF', clf['RF'])])\n",
    "\n",
    "# pipe.fit(X_train, y_train)\n",
    "md_RF_3 = Analytica_Bolada(clf['RF'], param['RF_3'], 'RF_3')\n",
    "md_RF_3.evaluate_HP2(pipe, pkl_W=True)\n",
    "\n",
    "end = timer()\n",
    "\n",
    "print(\"Time taken:\", end-start)"
   ]
  },
  {
   "cell_type": "code",
   "execution_count": null,
   "metadata": {},
   "outputs": [],
   "source": [
    "%%time\n",
    "# XT\n",
    "# 5000 samples\n",
    "# HP max_evals=100\n",
    "\n",
    "start = timer()\n",
    "param['XT_3'] = {\n",
    "    'feats__ngram_tf_idf__counts__min_df': hp.choice('zz_min_df', [2, 3, 4]),\n",
    "    'feats__ngram_tf_idf__counts__ngram_range': hp.choice('mngram_range', [(1, 2), (1, 3)]),\n",
    "    'feats__ngram_tf_idf__counts__analyzer': hp.choice('analyzer', ['word', 'char', 'char_wb']),\n",
    "    'feats__ngram_tf_idf__counts__stop_words': hp.choice('stop_words', [stop_words, None]),\n",
    "    'feats__ngram_tf_idf__counts__tokenizer': hp.choice('tokenizer', [tokenizer_split, tokenizer_porter]),\n",
    "    'PCA__n_components': hp.choice('zz_PCA__n_components', range(5, 100, 5)),\n",
    "    'XT__n_estimators': hp.choice('zz_XT__n_estimators',         np.arange(20, 1001, 50, dtype=int)),\n",
    "    'XT__max_depth': hp.choice(\"zz_XT__max_depth\",            np.arange(5, 100, 10,    dtype=int)),\n",
    "    'XT__min_samples_split': hp.choice(\"zz_XT__min_samples_split\",    np.arange(2, 30,    dtype=int)),\n",
    "    'XT__min_samples_leaf': hp.uniform(\"XT__min_samples_leaf\", 0, 0.5),\n",
    "    'XT__criterion': hp.choice('RF__criterion', [\"gini\", \"entropy\"]),\n",
    "    'XT__max_features': hp.choice('RF__max_features', ['auto', 'sqrt']),\n",
    "    'XT__n_jobs': -1,\n",
    "    'XT__oob_score': True,\n",
    "    'XT__bootstrap': True,\n",
    "    #     'XT__verbose': 1,\n",
    "    'XT__random_state': hp.randint('random_state', 20)\n",
    "}\n",
    "\n",
    "pipe = Pipeline([\n",
    "    ('col', Col_Extractor(['review'])),\n",
    "    ('prep', Preprocessor()),\n",
    "\n",
    "    ('feats', FeatureUnion([\n",
    "        ('ngram_tf_idf', Pipeline([\n",
    "            ('to_array', To_array()),\n",
    "            ('counts', CountVectorizer(stop_words=stop_words)),\n",
    "            ('tf_idf', TfidfTransformer())])),\n",
    "\n",
    "        ('mean_word_len', mean_word_len()),\n",
    "        ('num_stop_words', num_stop_words()),\n",
    "        ('num_uni_words', num_uni_words()),\n",
    "        ('num_words_title', num_words_title())\n",
    "    ])),\n",
    "    ('Dense', DenseTransformer()),\n",
    "    ('PCA', PCA()),\n",
    "    ('XT', clf['XT'])])\n",
    "\n",
    "# pipe.fit(X_train, y_train)\n",
    "md_XT_3 = Analytica_Bolada(clf['XT'], param['XT_3'], 'XT_3')\n",
    "md_XT_3.evaluate_HP2(pipe, pkl_W=True)"
   ]
  },
  {
   "cell_type": "code",
   "execution_count": null,
   "metadata": {},
   "outputs": [],
   "source": [
    "%%time\n",
    "master.plot_learning_curve(load_saved=False, chosen=md_top4_3)\n",
    "master.plot_Classification_Report(load_saved=False, chosen=md_top4_3)\n",
    "master.plot_Confusion_Matrix(load_saved=False, chosen=md_top4_3)\n",
    "master.plot_ROC_AUC(load_saved=False, chosen=md_top4_3)"
   ]
  },
  {
   "cell_type": "code",
   "execution_count": 1,
   "metadata": {},
   "outputs": [
    {
     "name": "stdout",
     "output_type": "stream",
     "text": [
      "done\n"
     ]
    }
   ],
   "source": [
    "print('done')"
   ]
  },
  {
   "cell_type": "code",
   "execution_count": 2,
   "metadata": {},
   "outputs": [],
   "source": [
    "# teste com todo o dataset e  max features"
   ]
  },
  {
   "cell_type": "code",
   "execution_count": null,
   "metadata": {},
   "outputs": [],
   "source": [
    "pipe = Pipeline([\n",
    "    ('col', Col_Extractor(['review'])),\n",
    "    ('prep', Preprocessor()),\n",
    "    ('to_array', To_array()),\n",
    "    ('counts', CountVectorizer(analyzer=\"word\",\n",
    "                               tokenizer=None,\n",
    "                               stop_words=stop_words,\n",
    "                               max_features=None))\n",
    "])\n",
    "\n",
    "train_features_matrix = pipe.fit_transform(X_train)\n",
    "vocab = pipe.named_steps['counts'].get_feature_names()"
   ]
  }
 ],
 "metadata": {
  "anaconda-cloud": {},
  "kernelspec": {
   "display_name": "Python 3",
   "language": "python",
   "name": "python3"
  },
  "language_info": {
   "codemirror_mode": {
    "name": "ipython",
    "version": 3
   },
   "file_extension": ".py",
   "mimetype": "text/x-python",
   "name": "python",
   "nbconvert_exporter": "python",
   "pygments_lexer": "ipython3",
   "version": "3.6.5"
  },
  "toc": {
   "base_numbering": 1,
   "nav_menu": {},
   "number_sections": true,
   "sideBar": false,
   "skip_h1_title": false,
   "title_cell": "Table of Contents",
   "title_sidebar": "Contents",
   "toc_cell": false,
   "toc_position": {
    "height": "342px",
    "left": "1000px",
    "top": "93px",
    "width": "189px"
   },
   "toc_section_display": true,
   "toc_window_display": true
  }
 },
 "nbformat": 4,
 "nbformat_minor": 2
}
