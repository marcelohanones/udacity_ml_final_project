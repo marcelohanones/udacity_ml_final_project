{
 "cells": [
  {
   "cell_type": "markdown",
   "metadata": {},
   "source": [
    "\n",
    "# Load Libraries / Data"
   ]
  },
  {
   "cell_type": "code",
   "execution_count": 71,
   "metadata": {},
   "outputs": [],
   "source": [
    "%run ../modules/library_to_import.ipynb"
   ]
  },
  {
   "cell_type": "code",
   "execution_count": 72,
   "metadata": {},
   "outputs": [
    {
     "data": {
      "text/plain": [
       "<Figure size 432x288 with 0 Axes>"
      ]
     },
     "metadata": {},
     "output_type": "display_data"
    }
   ],
   "source": [
    "%matplotlib inline\n",
    "import matplotlib.pyplot as plt\n",
    "import matplotlib.image as mpimg\n",
    "import seaborn as sns\n",
    "# sns.despine()\n",
    "sns.set()\n",
    "# sns.set(style='white', context='notebook', palette='deep')\n",
    "# sns.set(style='white', palette='deep')\n",
    "sns.despine()"
   ]
  },
  {
   "cell_type": "code",
   "execution_count": 73,
   "metadata": {},
   "outputs": [],
   "source": [
    "import warnings\n",
    "from sklearn.exceptions import DataConversionWarning\n",
    "warnings.filterwarnings(action='ignore', category=DataConversionWarning)\n",
    "warnings.filterwarnings(\"ignore\", category=DeprecationWarning) \n",
    "warnings.filterwarnings(\"ignore\", category=FutureWarning)  \n",
    "warnings.filterwarnings(\"ignore\", category=UserWarning)  \n",
    "\n",
    "np.set_printoptions(precision=2)"
   ]
  },
  {
   "cell_type": "code",
   "execution_count": 74,
   "metadata": {},
   "outputs": [],
   "source": [
    "from IPython.core.interactiveshell import InteractiveShell\n",
    "InteractiveShell.ast_node_interactivity = \"all\""
   ]
  },
  {
   "cell_type": "markdown",
   "metadata": {},
   "source": [
    "## Data\n"
   ]
  },
  {
   "cell_type": "code",
   "execution_count": 75,
   "metadata": {},
   "outputs": [],
   "source": [
    "random_state = 42\n",
    "\n",
    "kfold = StratifiedKFold(n_splits=8, shuffle=False, random_state=random_state)"
   ]
  },
  {
   "cell_type": "code",
   "execution_count": 76,
   "metadata": {},
   "outputs": [],
   "source": [
    "data_raw = pd.read_csv(\"../../data/labeledTrainData.tsv\", header=0, \\\n",
    "                    delimiter=\"\\t\", quoting=3)"
   ]
  },
  {
   "cell_type": "code",
   "execution_count": 77,
   "metadata": {},
   "outputs": [
    {
     "data": {
      "text/html": [
       "<div>\n",
       "<style scoped>\n",
       "    .dataframe tbody tr th:only-of-type {\n",
       "        vertical-align: middle;\n",
       "    }\n",
       "\n",
       "    .dataframe tbody tr th {\n",
       "        vertical-align: top;\n",
       "    }\n",
       "\n",
       "    .dataframe thead th {\n",
       "        text-align: right;\n",
       "    }\n",
       "</style>\n",
       "<table border=\"1\" class=\"dataframe\">\n",
       "  <thead>\n",
       "    <tr style=\"text-align: right;\">\n",
       "      <th></th>\n",
       "      <th>id</th>\n",
       "      <th>sentiment</th>\n",
       "      <th>review</th>\n",
       "    </tr>\n",
       "  </thead>\n",
       "  <tbody>\n",
       "    <tr>\n",
       "      <th>0</th>\n",
       "      <td>\"5814_8\"</td>\n",
       "      <td>1</td>\n",
       "      <td>\"With all this stuff going down at the moment ...</td>\n",
       "    </tr>\n",
       "    <tr>\n",
       "      <th>1</th>\n",
       "      <td>\"2381_9\"</td>\n",
       "      <td>1</td>\n",
       "      <td>\"\\\"The Classic War of the Worlds\\\" by Timothy ...</td>\n",
       "    </tr>\n",
       "    <tr>\n",
       "      <th>2</th>\n",
       "      <td>\"7759_3\"</td>\n",
       "      <td>0</td>\n",
       "      <td>\"The film starts with a manager (Nicholas Bell...</td>\n",
       "    </tr>\n",
       "    <tr>\n",
       "      <th>3</th>\n",
       "      <td>\"3630_4\"</td>\n",
       "      <td>0</td>\n",
       "      <td>\"It must be assumed that those who praised thi...</td>\n",
       "    </tr>\n",
       "    <tr>\n",
       "      <th>4</th>\n",
       "      <td>\"9495_8\"</td>\n",
       "      <td>1</td>\n",
       "      <td>\"Superbly trashy and wondrously unpretentious ...</td>\n",
       "    </tr>\n",
       "  </tbody>\n",
       "</table>\n",
       "</div>"
      ],
      "text/plain": [
       "         id  sentiment                                             review\n",
       "0  \"5814_8\"          1  \"With all this stuff going down at the moment ...\n",
       "1  \"2381_9\"          1  \"\\\"The Classic War of the Worlds\\\" by Timothy ...\n",
       "2  \"7759_3\"          0  \"The film starts with a manager (Nicholas Bell...\n",
       "3  \"3630_4\"          0  \"It must be assumed that those who praised thi...\n",
       "4  \"9495_8\"          1  \"Superbly trashy and wondrously unpretentious ..."
      ]
     },
     "execution_count": 77,
     "metadata": {},
     "output_type": "execute_result"
    },
    {
     "name": "stdout",
     "output_type": "stream",
     "text": [
      "<class 'pandas.core.frame.DataFrame'>\n",
      "RangeIndex: 25000 entries, 0 to 24999\n",
      "Data columns (total 3 columns):\n",
      "id           25000 non-null object\n",
      "sentiment    25000 non-null int64\n",
      "review       25000 non-null object\n",
      "dtypes: int64(1), object(2)\n",
      "memory usage: 586.0+ KB\n"
     ]
    }
   ],
   "source": [
    "data_raw.head()\n",
    "data_raw.info()"
   ]
  },
  {
   "cell_type": "code",
   "execution_count": 78,
   "metadata": {},
   "outputs": [
    {
     "data": {
      "text/plain": [
       "1    0.5\n",
       "0    0.5\n",
       "Name: sentiment, dtype: float64"
      ]
     },
     "execution_count": 78,
     "metadata": {},
     "output_type": "execute_result"
    }
   ],
   "source": [
    "data_raw.sentiment.value_counts(normalize=True)"
   ]
  },
  {
   "cell_type": "markdown",
   "metadata": {},
   "source": [
    "# X  y"
   ]
  },
  {
   "cell_type": "code",
   "execution_count": 79,
   "metadata": {},
   "outputs": [],
   "source": [
    "train_raw = data_raw[:20000]\n",
    "test_raw = data_raw[20000:]\n",
    "\n",
    "# train_raw = data_raw[:2000]\n",
    "# test_raw = data_raw[23000:]"
   ]
  },
  {
   "cell_type": "code",
   "execution_count": 80,
   "metadata": {
    "cell_style": "split"
   },
   "outputs": [
    {
     "data": {
      "text/html": [
       "<div>\n",
       "<style scoped>\n",
       "    .dataframe tbody tr th:only-of-type {\n",
       "        vertical-align: middle;\n",
       "    }\n",
       "\n",
       "    .dataframe tbody tr th {\n",
       "        vertical-align: top;\n",
       "    }\n",
       "\n",
       "    .dataframe thead th {\n",
       "        text-align: right;\n",
       "    }\n",
       "</style>\n",
       "<table border=\"1\" class=\"dataframe\">\n",
       "  <thead>\n",
       "    <tr style=\"text-align: right;\">\n",
       "      <th></th>\n",
       "      <th>id</th>\n",
       "      <th>sentiment</th>\n",
       "      <th>review</th>\n",
       "    </tr>\n",
       "  </thead>\n",
       "  <tbody>\n",
       "    <tr>\n",
       "      <th>0</th>\n",
       "      <td>\"5814_8\"</td>\n",
       "      <td>1</td>\n",
       "      <td>\"With all this stuff going down at the moment ...</td>\n",
       "    </tr>\n",
       "    <tr>\n",
       "      <th>1</th>\n",
       "      <td>\"2381_9\"</td>\n",
       "      <td>1</td>\n",
       "      <td>\"\\\"The Classic War of the Worlds\\\" by Timothy ...</td>\n",
       "    </tr>\n",
       "    <tr>\n",
       "      <th>2</th>\n",
       "      <td>\"7759_3\"</td>\n",
       "      <td>0</td>\n",
       "      <td>\"The film starts with a manager (Nicholas Bell...</td>\n",
       "    </tr>\n",
       "    <tr>\n",
       "      <th>3</th>\n",
       "      <td>\"3630_4\"</td>\n",
       "      <td>0</td>\n",
       "      <td>\"It must be assumed that those who praised thi...</td>\n",
       "    </tr>\n",
       "    <tr>\n",
       "      <th>4</th>\n",
       "      <td>\"9495_8\"</td>\n",
       "      <td>1</td>\n",
       "      <td>\"Superbly trashy and wondrously unpretentious ...</td>\n",
       "    </tr>\n",
       "  </tbody>\n",
       "</table>\n",
       "</div>"
      ],
      "text/plain": [
       "         id  sentiment                                             review\n",
       "0  \"5814_8\"          1  \"With all this stuff going down at the moment ...\n",
       "1  \"2381_9\"          1  \"\\\"The Classic War of the Worlds\\\" by Timothy ...\n",
       "2  \"7759_3\"          0  \"The film starts with a manager (Nicholas Bell...\n",
       "3  \"3630_4\"          0  \"It must be assumed that those who praised thi...\n",
       "4  \"9495_8\"          1  \"Superbly trashy and wondrously unpretentious ..."
      ]
     },
     "execution_count": 80,
     "metadata": {},
     "output_type": "execute_result"
    },
    {
     "name": "stdout",
     "output_type": "stream",
     "text": [
      "<class 'pandas.core.frame.DataFrame'>\n",
      "RangeIndex: 20000 entries, 0 to 19999\n",
      "Data columns (total 3 columns):\n",
      "id           20000 non-null object\n",
      "sentiment    20000 non-null int64\n",
      "review       20000 non-null object\n",
      "dtypes: int64(1), object(2)\n",
      "memory usage: 468.8+ KB\n"
     ]
    }
   ],
   "source": [
    "train_raw.head()\n",
    "train_raw.info()"
   ]
  },
  {
   "cell_type": "code",
   "execution_count": 81,
   "metadata": {
    "cell_style": "split"
   },
   "outputs": [
    {
     "data": {
      "text/html": [
       "<div>\n",
       "<style scoped>\n",
       "    .dataframe tbody tr th:only-of-type {\n",
       "        vertical-align: middle;\n",
       "    }\n",
       "\n",
       "    .dataframe tbody tr th {\n",
       "        vertical-align: top;\n",
       "    }\n",
       "\n",
       "    .dataframe thead th {\n",
       "        text-align: right;\n",
       "    }\n",
       "</style>\n",
       "<table border=\"1\" class=\"dataframe\">\n",
       "  <thead>\n",
       "    <tr style=\"text-align: right;\">\n",
       "      <th></th>\n",
       "      <th>id</th>\n",
       "      <th>sentiment</th>\n",
       "      <th>review</th>\n",
       "    </tr>\n",
       "  </thead>\n",
       "  <tbody>\n",
       "    <tr>\n",
       "      <th>20000</th>\n",
       "      <td>\"3862_4\"</td>\n",
       "      <td>0</td>\n",
       "      <td>\"I just watched it. A couple of laughs, but no...</td>\n",
       "    </tr>\n",
       "    <tr>\n",
       "      <th>20001</th>\n",
       "      <td>\"674_10\"</td>\n",
       "      <td>1</td>\n",
       "      <td>\"While to most people watching the movie, this...</td>\n",
       "    </tr>\n",
       "    <tr>\n",
       "      <th>20002</th>\n",
       "      <td>\"8828_10\"</td>\n",
       "      <td>1</td>\n",
       "      <td>\"I was so glad I came across this short film. ...</td>\n",
       "    </tr>\n",
       "    <tr>\n",
       "      <th>20003</th>\n",
       "      <td>\"2963_8\"</td>\n",
       "      <td>1</td>\n",
       "      <td>\"The creators of south park in their own film ...</td>\n",
       "    </tr>\n",
       "    <tr>\n",
       "      <th>20004</th>\n",
       "      <td>\"2483_1\"</td>\n",
       "      <td>0</td>\n",
       "      <td>\"Unspeakably discombobulated turkey, a mix of ...</td>\n",
       "    </tr>\n",
       "  </tbody>\n",
       "</table>\n",
       "</div>"
      ],
      "text/plain": [
       "              id  sentiment                                             review\n",
       "20000   \"3862_4\"          0  \"I just watched it. A couple of laughs, but no...\n",
       "20001   \"674_10\"          1  \"While to most people watching the movie, this...\n",
       "20002  \"8828_10\"          1  \"I was so glad I came across this short film. ...\n",
       "20003   \"2963_8\"          1  \"The creators of south park in their own film ...\n",
       "20004   \"2483_1\"          0  \"Unspeakably discombobulated turkey, a mix of ..."
      ]
     },
     "execution_count": 81,
     "metadata": {},
     "output_type": "execute_result"
    },
    {
     "name": "stdout",
     "output_type": "stream",
     "text": [
      "<class 'pandas.core.frame.DataFrame'>\n",
      "RangeIndex: 5000 entries, 20000 to 24999\n",
      "Data columns (total 3 columns):\n",
      "id           5000 non-null object\n",
      "sentiment    5000 non-null int64\n",
      "review       5000 non-null object\n",
      "dtypes: int64(1), object(2)\n",
      "memory usage: 117.3+ KB\n"
     ]
    }
   ],
   "source": [
    "test_raw.head()\n",
    "test_raw.info()"
   ]
  },
  {
   "cell_type": "code",
   "execution_count": 82,
   "metadata": {},
   "outputs": [],
   "source": [
    "X = train_raw[['review']]\n",
    "y = train_raw[['sentiment']]"
   ]
  },
  {
   "cell_type": "code",
   "execution_count": 83,
   "metadata": {},
   "outputs": [],
   "source": [
    "X_train, X_val, y_train, y_val = train_test_split(X, y, test_size=0.25, random_state=random_state)    "
   ]
  },
  {
   "cell_type": "code",
   "execution_count": 84,
   "metadata": {
    "cell_style": "split"
   },
   "outputs": [
    {
     "data": {
      "text/plain": [
       "(15000, 1)"
      ]
     },
     "execution_count": 84,
     "metadata": {},
     "output_type": "execute_result"
    },
    {
     "data": {
      "text/html": [
       "<div>\n",
       "<style scoped>\n",
       "    .dataframe tbody tr th:only-of-type {\n",
       "        vertical-align: middle;\n",
       "    }\n",
       "\n",
       "    .dataframe tbody tr th {\n",
       "        vertical-align: top;\n",
       "    }\n",
       "\n",
       "    .dataframe thead th {\n",
       "        text-align: right;\n",
       "    }\n",
       "</style>\n",
       "<table border=\"1\" class=\"dataframe\">\n",
       "  <thead>\n",
       "    <tr style=\"text-align: right;\">\n",
       "      <th></th>\n",
       "      <th>review</th>\n",
       "    </tr>\n",
       "  </thead>\n",
       "  <tbody>\n",
       "    <tr>\n",
       "      <th>5514</th>\n",
       "      <td>\"There is a DVD published in the UK in 2002 Co...</td>\n",
       "    </tr>\n",
       "    <tr>\n",
       "      <th>1266</th>\n",
       "      <td>\"Frownland is like one of those intensely emba...</td>\n",
       "    </tr>\n",
       "    <tr>\n",
       "      <th>5864</th>\n",
       "      <td>\"I rented this because I'm a bit weary of '80s...</td>\n",
       "    </tr>\n",
       "    <tr>\n",
       "      <th>15865</th>\n",
       "      <td>\"I like bad movies. I like to rent bad movies ...</td>\n",
       "    </tr>\n",
       "    <tr>\n",
       "      <th>12892</th>\n",
       "      <td>\"The story line was very straight forward and ...</td>\n",
       "    </tr>\n",
       "  </tbody>\n",
       "</table>\n",
       "</div>"
      ],
      "text/plain": [
       "                                                  review\n",
       "5514   \"There is a DVD published in the UK in 2002 Co...\n",
       "1266   \"Frownland is like one of those intensely emba...\n",
       "5864   \"I rented this because I'm a bit weary of '80s...\n",
       "15865  \"I like bad movies. I like to rent bad movies ...\n",
       "12892  \"The story line was very straight forward and ..."
      ]
     },
     "execution_count": 84,
     "metadata": {},
     "output_type": "execute_result"
    },
    {
     "data": {
      "text/plain": [
       "(15000, 1)"
      ]
     },
     "execution_count": 84,
     "metadata": {},
     "output_type": "execute_result"
    },
    {
     "data": {
      "text/html": [
       "<div>\n",
       "<style scoped>\n",
       "    .dataframe tbody tr th:only-of-type {\n",
       "        vertical-align: middle;\n",
       "    }\n",
       "\n",
       "    .dataframe tbody tr th {\n",
       "        vertical-align: top;\n",
       "    }\n",
       "\n",
       "    .dataframe thead th {\n",
       "        text-align: right;\n",
       "    }\n",
       "</style>\n",
       "<table border=\"1\" class=\"dataframe\">\n",
       "  <thead>\n",
       "    <tr style=\"text-align: right;\">\n",
       "      <th></th>\n",
       "      <th>sentiment</th>\n",
       "    </tr>\n",
       "  </thead>\n",
       "  <tbody>\n",
       "    <tr>\n",
       "      <th>5514</th>\n",
       "      <td>0</td>\n",
       "    </tr>\n",
       "    <tr>\n",
       "      <th>1266</th>\n",
       "      <td>1</td>\n",
       "    </tr>\n",
       "    <tr>\n",
       "      <th>5864</th>\n",
       "      <td>0</td>\n",
       "    </tr>\n",
       "    <tr>\n",
       "      <th>15865</th>\n",
       "      <td>0</td>\n",
       "    </tr>\n",
       "    <tr>\n",
       "      <th>12892</th>\n",
       "      <td>0</td>\n",
       "    </tr>\n",
       "  </tbody>\n",
       "</table>\n",
       "</div>"
      ],
      "text/plain": [
       "       sentiment\n",
       "5514           0\n",
       "1266           1\n",
       "5864           0\n",
       "15865          0\n",
       "12892          0"
      ]
     },
     "execution_count": 84,
     "metadata": {},
     "output_type": "execute_result"
    }
   ],
   "source": [
    "X_train.shape\n",
    "X_train.head()\n",
    "y_train.shape \n",
    "y_train.head()"
   ]
  },
  {
   "cell_type": "code",
   "execution_count": 85,
   "metadata": {
    "cell_style": "split"
   },
   "outputs": [
    {
     "data": {
      "text/plain": [
       "(5000, 1)"
      ]
     },
     "execution_count": 85,
     "metadata": {},
     "output_type": "execute_result"
    },
    {
     "data": {
      "text/html": [
       "<div>\n",
       "<style scoped>\n",
       "    .dataframe tbody tr th:only-of-type {\n",
       "        vertical-align: middle;\n",
       "    }\n",
       "\n",
       "    .dataframe tbody tr th {\n",
       "        vertical-align: top;\n",
       "    }\n",
       "\n",
       "    .dataframe thead th {\n",
       "        text-align: right;\n",
       "    }\n",
       "</style>\n",
       "<table border=\"1\" class=\"dataframe\">\n",
       "  <thead>\n",
       "    <tr style=\"text-align: right;\">\n",
       "      <th></th>\n",
       "      <th>review</th>\n",
       "    </tr>\n",
       "  </thead>\n",
       "  <tbody>\n",
       "    <tr>\n",
       "      <th>10650</th>\n",
       "      <td>\"I can't believe that Steven Segal's career ha...</td>\n",
       "    </tr>\n",
       "    <tr>\n",
       "      <th>2041</th>\n",
       "      <td>\"I wasn't quite sure if this was just going to...</td>\n",
       "    </tr>\n",
       "    <tr>\n",
       "      <th>8668</th>\n",
       "      <td>\"First of all, if you'r a fan of the comic, we...</td>\n",
       "    </tr>\n",
       "    <tr>\n",
       "      <th>1114</th>\n",
       "      <td>\"I really liked this movie, and went back to s...</td>\n",
       "    </tr>\n",
       "    <tr>\n",
       "      <th>13902</th>\n",
       "      <td>\"Yes, CHUNKY, this is the nick-name that Donna...</td>\n",
       "    </tr>\n",
       "  </tbody>\n",
       "</table>\n",
       "</div>"
      ],
      "text/plain": [
       "                                                  review\n",
       "10650  \"I can't believe that Steven Segal's career ha...\n",
       "2041   \"I wasn't quite sure if this was just going to...\n",
       "8668   \"First of all, if you'r a fan of the comic, we...\n",
       "1114   \"I really liked this movie, and went back to s...\n",
       "13902  \"Yes, CHUNKY, this is the nick-name that Donna..."
      ]
     },
     "execution_count": 85,
     "metadata": {},
     "output_type": "execute_result"
    },
    {
     "data": {
      "text/plain": [
       "(5000, 1)"
      ]
     },
     "execution_count": 85,
     "metadata": {},
     "output_type": "execute_result"
    },
    {
     "data": {
      "text/html": [
       "<div>\n",
       "<style scoped>\n",
       "    .dataframe tbody tr th:only-of-type {\n",
       "        vertical-align: middle;\n",
       "    }\n",
       "\n",
       "    .dataframe tbody tr th {\n",
       "        vertical-align: top;\n",
       "    }\n",
       "\n",
       "    .dataframe thead th {\n",
       "        text-align: right;\n",
       "    }\n",
       "</style>\n",
       "<table border=\"1\" class=\"dataframe\">\n",
       "  <thead>\n",
       "    <tr style=\"text-align: right;\">\n",
       "      <th></th>\n",
       "      <th>sentiment</th>\n",
       "    </tr>\n",
       "  </thead>\n",
       "  <tbody>\n",
       "    <tr>\n",
       "      <th>10650</th>\n",
       "      <td>0</td>\n",
       "    </tr>\n",
       "    <tr>\n",
       "      <th>2041</th>\n",
       "      <td>1</td>\n",
       "    </tr>\n",
       "    <tr>\n",
       "      <th>8668</th>\n",
       "      <td>0</td>\n",
       "    </tr>\n",
       "    <tr>\n",
       "      <th>1114</th>\n",
       "      <td>1</td>\n",
       "    </tr>\n",
       "    <tr>\n",
       "      <th>13902</th>\n",
       "      <td>0</td>\n",
       "    </tr>\n",
       "  </tbody>\n",
       "</table>\n",
       "</div>"
      ],
      "text/plain": [
       "       sentiment\n",
       "10650          0\n",
       "2041           1\n",
       "8668           0\n",
       "1114           1\n",
       "13902          0"
      ]
     },
     "execution_count": 85,
     "metadata": {},
     "output_type": "execute_result"
    }
   ],
   "source": [
    "X_val.shape \n",
    "X_val.head()\n",
    "y_val.shape\n",
    "y_val.head()"
   ]
  },
  {
   "cell_type": "code",
   "execution_count": 86,
   "metadata": {},
   "outputs": [
    {
     "data": {
      "text/html": [
       "<div>\n",
       "<style scoped>\n",
       "    .dataframe tbody tr th:only-of-type {\n",
       "        vertical-align: middle;\n",
       "    }\n",
       "\n",
       "    .dataframe tbody tr th {\n",
       "        vertical-align: top;\n",
       "    }\n",
       "\n",
       "    .dataframe thead th {\n",
       "        text-align: right;\n",
       "    }\n",
       "</style>\n",
       "<table border=\"1\" class=\"dataframe\">\n",
       "  <thead>\n",
       "    <tr style=\"text-align: right;\">\n",
       "      <th></th>\n",
       "      <th>id</th>\n",
       "      <th>sentiment</th>\n",
       "      <th>review</th>\n",
       "    </tr>\n",
       "  </thead>\n",
       "  <tbody>\n",
       "    <tr>\n",
       "      <th>20000</th>\n",
       "      <td>\"3862_4\"</td>\n",
       "      <td>0</td>\n",
       "      <td>\"I just watched it. A couple of laughs, but no...</td>\n",
       "    </tr>\n",
       "    <tr>\n",
       "      <th>20001</th>\n",
       "      <td>\"674_10\"</td>\n",
       "      <td>1</td>\n",
       "      <td>\"While to most people watching the movie, this...</td>\n",
       "    </tr>\n",
       "    <tr>\n",
       "      <th>20002</th>\n",
       "      <td>\"8828_10\"</td>\n",
       "      <td>1</td>\n",
       "      <td>\"I was so glad I came across this short film. ...</td>\n",
       "    </tr>\n",
       "    <tr>\n",
       "      <th>20003</th>\n",
       "      <td>\"2963_8\"</td>\n",
       "      <td>1</td>\n",
       "      <td>\"The creators of south park in their own film ...</td>\n",
       "    </tr>\n",
       "    <tr>\n",
       "      <th>20004</th>\n",
       "      <td>\"2483_1\"</td>\n",
       "      <td>0</td>\n",
       "      <td>\"Unspeakably discombobulated turkey, a mix of ...</td>\n",
       "    </tr>\n",
       "  </tbody>\n",
       "</table>\n",
       "</div>"
      ],
      "text/plain": [
       "              id  sentiment                                             review\n",
       "20000   \"3862_4\"          0  \"I just watched it. A couple of laughs, but no...\n",
       "20001   \"674_10\"          1  \"While to most people watching the movie, this...\n",
       "20002  \"8828_10\"          1  \"I was so glad I came across this short film. ...\n",
       "20003   \"2963_8\"          1  \"The creators of south park in their own film ...\n",
       "20004   \"2483_1\"          0  \"Unspeakably discombobulated turkey, a mix of ..."
      ]
     },
     "execution_count": 86,
     "metadata": {},
     "output_type": "execute_result"
    }
   ],
   "source": [
    "test_raw.head()"
   ]
  },
  {
   "cell_type": "code",
   "execution_count": 87,
   "metadata": {},
   "outputs": [],
   "source": [
    "X_test = test_raw[['review']]\n",
    "y_test = test_raw[['sentiment']]"
   ]
  },
  {
   "cell_type": "code",
   "execution_count": 88,
   "metadata": {},
   "outputs": [
    {
     "data": {
      "text/plain": [
       "(5000, 1)"
      ]
     },
     "execution_count": 88,
     "metadata": {},
     "output_type": "execute_result"
    },
    {
     "data": {
      "text/plain": [
       "(5000, 1)"
      ]
     },
     "execution_count": 88,
     "metadata": {},
     "output_type": "execute_result"
    }
   ],
   "source": [
    "X_test.shape\n",
    "y_test.shape"
   ]
  },
  {
   "cell_type": "code",
   "execution_count": null,
   "metadata": {},
   "outputs": [],
   "source": []
  },
  {
   "cell_type": "code",
   "execution_count": 89,
   "metadata": {
    "cell_style": "split",
    "scrolled": true
   },
   "outputs": [
    {
     "data": {
      "text/plain": [
       "(15000, 1)"
      ]
     },
     "execution_count": 89,
     "metadata": {},
     "output_type": "execute_result"
    },
    {
     "data": {
      "text/plain": [
       "pandas.core.frame.DataFrame"
      ]
     },
     "execution_count": 89,
     "metadata": {},
     "output_type": "execute_result"
    }
   ],
   "source": [
    "X_train.shape\n",
    "# X_train.info()\n",
    "type(X_train)"
   ]
  },
  {
   "cell_type": "code",
   "execution_count": 90,
   "metadata": {
    "cell_style": "split",
    "scrolled": true
   },
   "outputs": [
    {
     "data": {
      "text/plain": [
       "(15000, 1)"
      ]
     },
     "execution_count": 90,
     "metadata": {},
     "output_type": "execute_result"
    },
    {
     "data": {
      "text/plain": [
       "pandas.core.frame.DataFrame"
      ]
     },
     "execution_count": 90,
     "metadata": {},
     "output_type": "execute_result"
    }
   ],
   "source": [
    "y_train.shape\n",
    "# y_train.info()\n",
    "type(y_train)"
   ]
  },
  {
   "cell_type": "code",
   "execution_count": 91,
   "metadata": {
    "cell_style": "split"
   },
   "outputs": [
    {
     "data": {
      "text/plain": [
       "(5000, 1)"
      ]
     },
     "execution_count": 91,
     "metadata": {},
     "output_type": "execute_result"
    },
    {
     "data": {
      "text/plain": [
       "pandas.core.frame.DataFrame"
      ]
     },
     "execution_count": 91,
     "metadata": {},
     "output_type": "execute_result"
    }
   ],
   "source": [
    "X_test.shape\n",
    "# X_test.info()\n",
    "type(X_test)"
   ]
  },
  {
   "cell_type": "code",
   "execution_count": 92,
   "metadata": {
    "cell_style": "split"
   },
   "outputs": [
    {
     "data": {
      "text/plain": [
       "(5000, 1)"
      ]
     },
     "execution_count": 92,
     "metadata": {},
     "output_type": "execute_result"
    },
    {
     "data": {
      "text/plain": [
       "pandas.core.frame.DataFrame"
      ]
     },
     "execution_count": 92,
     "metadata": {},
     "output_type": "execute_result"
    }
   ],
   "source": [
    "y_test.shape\n",
    "# y_train.info()\n",
    "type(y_test)"
   ]
  },
  {
   "cell_type": "code",
   "execution_count": null,
   "metadata": {},
   "outputs": [],
   "source": []
  },
  {
   "cell_type": "markdown",
   "metadata": {},
   "source": [
    "# PRE LOADING"
   ]
  },
  {
   "cell_type": "code",
   "execution_count": 93,
   "metadata": {},
   "outputs": [],
   "source": [
    "def tokenizer_split(text):\n",
    "    return [porter.stem(w) for w in text.split(' ')]\n",
    "\n",
    "def tokenizer_porter(text):\n",
    "    return [porter.stem(w) for w in text.split(' ') if not w in stop_words ]\n",
    "\n",
    "tfidf = TfidfVectorizer(strip_accents=None, lowercase=False, preprocessor=None)"
   ]
  },
  {
   "cell_type": "code",
   "execution_count": 94,
   "metadata": {},
   "outputs": [],
   "source": [
    "stop_words = nltk.corpus.stopwords.words('english')\n",
    "porter = PorterStemmer()"
   ]
  },
  {
   "cell_type": "code",
   "execution_count": 95,
   "metadata": {},
   "outputs": [],
   "source": [
    "# %run ../modules/Class_imdb.ipynb\n",
    "%run ../modules/Class_imdb_new.ipynb \n",
    "%run ../modules/transformers_imdb.ipynb"
   ]
  },
  {
   "cell_type": "code",
   "execution_count": 96,
   "metadata": {},
   "outputs": [],
   "source": [
    "%run ../modules/params_imdb.ipynb"
   ]
  },
  {
   "cell_type": "code",
   "execution_count": null,
   "metadata": {},
   "outputs": [],
   "source": [
    "best_params = {\n",
    "    'vec__max_df': 0.9,\n",
    "    'vec__min_df': 2,\n",
    "    'vec__ngram_range': (1, 3),\n",
    "    'vec__sublinear_tf': True\n",
    "}"
   ]
  },
  {
   "cell_type": "markdown",
   "metadata": {},
   "source": [
    "# Data Exploration"
   ]
  },
  {
   "cell_type": "code",
   "execution_count": 30,
   "metadata": {},
   "outputs": [
    {
     "data": {
      "text/plain": [
       "0    \"with all this stuff going down at the moment ...\n",
       "1    \"\\\"the classic war of the worlds\\\" by timothy ...\n",
       "2    \"the film starts with a manager (nicholas bell...\n",
       "3    \"it must be assumed that those who praised thi...\n",
       "4    \"superbly trashy and wondrously unpretentious ...\n",
       "Name: review, dtype: object"
      ]
     },
     "execution_count": 30,
     "metadata": {},
     "output_type": "execute_result"
    }
   ],
   "source": [
    "# lower all carachters\n",
    "lowered = data_raw.review.str.lower()\n",
    "lowered[:5]"
   ]
  },
  {
   "cell_type": "code",
   "execution_count": 31,
   "metadata": {},
   "outputs": [
    {
     "data": {
      "image/png": "[encoded data removed]",
      "text/plain": [
       "<Figure size 432x288 with 1 Axes>"
      ]
     },
     "metadata": {},
     "output_type": "display_data"
    }
   ],
   "source": [
    "# histogram of RAW word count (with punctuation and stop words)\n",
    "lowered.map(lambda x: len(x)).hist(log=True, bins=50)\n",
    "plt.title('Histogram of RAW Word Count');"
   ]
  },
  {
   "cell_type": "code",
   "execution_count": 32,
   "metadata": {
    "scrolled": true
   },
   "outputs": [
    {
     "data": {
      "text/plain": [
       "0        [with, all, this, stuff, going, down, at, the,...\n",
       "1        [the, classic, war, of, the, worlds, by, timot...\n",
       "2        [the, film, starts, with, a, manager, nicholas...\n",
       "3        [it, must, be, assumed, that, those, who, prai...\n",
       "4        [superbly, trashy, and, wondrously, unpretenti...\n",
       "5        [i, dont, know, why, people, think, this, is, ...\n",
       "6        [this, movie, could, have, been, very, good, b...\n",
       "7        [i, watched, this, video, at, a, friend, s, ho...\n",
       "8        [a, friend, of, mine, bought, this, film, for,...\n",
       "9        [br, br, this, movie, is, full, of, references...\n",
       "10       [what, happens, when, an, army, of, wetbacks, ...\n",
       "11       [although, i, generally, do, not, like, remake...\n",
       "12       [mr, harvey, lights, a, candle, is, anchored, ...\n",
       "13       [i, had, a, feeling, that, after, submerged, t...\n",
       "14       [note, to, george, litman, and, others, the, m...\n",
       "15       [stephen, king, adaptation, scripted, by, king...\n",
       "16       [the, matrix, was, an, exciting, summer, block...\n",
       "17       [ulli, lommel, s, 1980, film, the, boogey, man...\n",
       "18       [this, movie, is, one, among, the, very, few, ...\n",
       "19       [most, people, especially, young, people, may,...\n",
       "20       [soylent, green, is, one, of, the, best, and, ...\n",
       "21       [michael, stearns, plays, mike, a, sexually, f...\n",
       "22       [this, happy, go, luck, 1939, military, swashb...\n",
       "23       [i, would, love, to, have, that, two, hours, o...\n",
       "24       [the, script, for, this, movie, was, probably,...\n",
       "25       [looking, for, quo, vadis, at, my, local, vide...\n",
       "26       [note, to, all, mad, scientists, everywhere, i...\n",
       "27       [what, the, is, this, this, must, without, a, ...\n",
       "28       [intrigued, by, the, synopsis, every, gay, vid...\n",
       "29       [would, anyone, really, watch, this, rubbish, ...\n",
       "                               ...                        \n",
       "24970    [red, rock, west, 1993, br, br, nicolas, cage,...\n",
       "24971    [what, can, i, say, ms, erika, eleniak, is, my...\n",
       "24972    [the, spoiler, warning, is, for, those, people...\n",
       "24973    [what, do, you, call, a, horror, story, withou...\n",
       "24974    [though, not, a, horror, film, in, the, tradit...\n",
       "24975    [this, was, what, black, society, was, like, b...\n",
       "24976    [they, probably, should, have, called, this, m...\n",
       "24977    [attractive, marjorie, farrah, fawcett, lives,...\n",
       "24978    [vaguely, reminiscent, of, great, 1940, s, wes...\n",
       "24979    [i, admit, i, had, no, idea, what, to, expect,...\n",
       "24980    [to, me, the, final, scene, in, which, harris,...\n",
       "24981    [this, is, by, far, the, funniest, short, made...\n",
       "24982    [to, be, a, buster, keaton, fan, is, to, have,...\n",
       "24983    [i, was, one, of, those, few, americans, that,...\n",
       "24984    [visually, disjointed, and, full, of, itself, ...\n",
       "24985    [this, movie, had, more, holes, than, a, piece...\n",
       "24986    [last, november, i, had, a, chance, to, see, t...\n",
       "24987    [first, off, i, d, like, to, make, a, correcti...\n",
       "24988    [while, originally, reluctant, to, jump, on, t...\n",
       "24989    [i, heard, about, this, movie, when, watching,...\n",
       "24990    [i, ve, never, been, huge, on, imax, films, th...\n",
       "24991    [steve, mcqueen, has, certainly, a, lot, of, l...\n",
       "24992    [sometimes, you, wonder, how, some, people, ge...\n",
       "24993    [i, am, a, student, of, film, and, have, been,...\n",
       "24994    [unimaginably, stupid, redundant, and, humilia...\n",
       "24995    [it, seems, like, more, consideration, has, go...\n",
       "24996    [i, don, t, believe, they, made, this, film, c...\n",
       "24997    [guy, is, a, loser, can, t, get, girls, needs,...\n",
       "24998    [this, 30, minute, documentary, buñuel, made, ...\n",
       "24999    [i, saw, this, movie, as, a, child, and, it, b...\n",
       "Name: review, Length: 25000, dtype: object"
      ]
     },
     "execution_count": 32,
     "metadata": {},
     "output_type": "execute_result"
    }
   ],
   "source": [
    "# remove punctuation, leave just words (still with stop words)\n",
    "tokenizer = RegexpTokenizer(r'\\w+')\n",
    "no_punctuation = lowered.map(tokenizer.tokenize)\n",
    "no_punctuation"
   ]
  },
  {
   "cell_type": "code",
   "execution_count": 33,
   "metadata": {},
   "outputs": [
    {
     "data": {
      "image/png": "[encoded data removed]",
      "text/plain": [
       "<Figure size 432x288 with 1 Axes>"
      ]
     },
     "metadata": {},
     "output_type": "display_data"
    }
   ],
   "source": [
    "# histogram of word count without punctuation (with stop words )\n",
    "no_punctuation.map(lambda x: len(x)).hist(log=True, bins=50)\n",
    "plt.title('Histogram of Word Count Without Punctuation');"
   ]
  },
  {
   "cell_type": "code",
   "execution_count": 34,
   "metadata": {},
   "outputs": [],
   "source": [
    "def remove_stop_words(text):\n",
    "    return [w for w in text if w not in stop_words]"
   ]
  },
  {
   "cell_type": "code",
   "execution_count": 35,
   "metadata": {
    "scrolled": true
   },
   "outputs": [
    {
     "data": {
      "text/plain": [
       "0        [stuff, going, moment, mj, started, listening,...\n",
       "1        [classic, war, worlds, timothy, hines, enterta...\n",
       "2        [film, starts, manager, nicholas, bell, giving...\n",
       "3        [must, assumed, praised, film, greatest, filme...\n",
       "4        [superbly, trashy, wondrously, unpretentious, ...\n",
       "5        [dont, know, people, think, bad, movie, got, p...\n",
       "6        [movie, could, good, comes, way, short, cheesy...\n",
       "7        [watched, video, friend, house, glad, waste, m...\n",
       "8        [friend, mine, bought, film, 1, even, grossly,...\n",
       "9        [br, br, movie, full, references, like, mad, m...\n",
       "10       [happens, army, wetbacks, towelheads, godless,...\n",
       "11       [although, generally, like, remakes, believing...\n",
       "12       [mr, harvey, lights, candle, anchored, brillia...\n",
       "13       [feeling, submerged, one, better, right, must,...\n",
       "14       [note, george, litman, others, mystery, scienc...\n",
       "15       [stephen, king, adaptation, scripted, king, yo...\n",
       "16       [matrix, exciting, summer, blockbuster, visual...\n",
       "17       [ulli, lommel, 1980, film, boogey, man, classi...\n",
       "18       [movie, one, among, indian, movies, would, nev...\n",
       "19       [people, especially, young, people, may, under...\n",
       "20       [soylent, green, one, best, disturbing, scienc...\n",
       "21       [michael, stearns, plays, mike, sexually, frus...\n",
       "22       [happy, go, luck, 1939, military, swashbuckler...\n",
       "23       [would, love, two, hours, life, back, seemed, ...\n",
       "24       [script, movie, probably, found, hair, ball, r...\n",
       "25       [looking, quo, vadis, local, video, store, fou...\n",
       "26       [note, mad, scientists, everywhere, going, tur...\n",
       "27       [must, without, doubt, biggest, waste, film, s...\n",
       "28       [intrigued, synopsis, every, gay, video, days,...\n",
       "29       [would, anyone, really, watch, rubbish, contai...\n",
       "                               ...                        \n",
       "24970    [red, rock, west, 1993, br, br, nicolas, cage,...\n",
       "24971    [say, ms, erika, eleniak, favorite, blonde, gi...\n",
       "24972    [spoiler, warning, people, want, see, animals,...\n",
       "24973    [call, horror, story, without, horror, story, ...\n",
       "24974    [though, horror, film, traditional, sense, cre...\n",
       "24975    [black, society, like, crack, epidemics, gangs...\n",
       "24976    [probably, called, movie, map, majority, whole...\n",
       "24977    [attractive, marjorie, farrah, fawcett, lives,...\n",
       "24978    [vaguely, reminiscent, great, 1940, westerns, ...\n",
       "24979    [admit, idea, expect, viewing, highly, stylize...\n",
       "24980    [final, scene, harris, responds, press, corp, ...\n",
       "24981    [far, funniest, short, made, two, comic, geniu...\n",
       "24982    [buster, keaton, fan, heart, broken, regular, ...\n",
       "24983    [one, americans, grew, gerry, andersen, marvel...\n",
       "24984    [visually, disjointed, full, director, apparen...\n",
       "24985    [movie, holes, piece, swiss, cheese, ben, affl...\n",
       "24986    [last, november, chance, see, film, reno, film...\n",
       "24987    [first, like, make, correction, another, revie...\n",
       "24988    [originally, reluctant, jump, bandwagon, watch...\n",
       "24989    [heard, movie, watching, vh1, 100, metal, mome...\n",
       "24990    [never, huge, imax, films, cool, get, initial,...\n",
       "24991    [steve, mcqueen, certainly, lot, loyal, fans, ...\n",
       "24992    [sometimes, wonder, people, get, funding, crea...\n",
       "24993    [student, film, several, years, concept, cyber...\n",
       "24994    [unimaginably, stupid, redundant, humiliating,...\n",
       "24995    [seems, like, consideration, gone, imdb, revie...\n",
       "24996    [believe, made, film, completely, unnecessary,...\n",
       "24997    [guy, loser, get, girls, needs, build, picked,...\n",
       "24998    [30, minute, documentary, buñuel, made, early,...\n",
       "24999    [saw, movie, child, broke, heart, story, unfin...\n",
       "Name: review, Length: 25000, dtype: object"
      ]
     },
     "execution_count": 35,
     "metadata": {},
     "output_type": "execute_result"
    }
   ],
   "source": [
    "no_stop_words = no_punctuation.map(remove_stop_words)\n",
    "no_stop_words"
   ]
  },
  {
   "cell_type": "code",
   "execution_count": 36,
   "metadata": {},
   "outputs": [
    {
     "data": {
      "image/png": "[encoded data removed]",
      "text/plain": [
       "<Figure size 432x288 with 1 Axes>"
      ]
     },
     "metadata": {},
     "output_type": "display_data"
    }
   ],
   "source": [
    "# histogram of word count without punctuation nor stop words\n",
    "no_stop_words.map(lambda x: len(x)).hist(log=True, bins=40)\n",
    "plt.title('Histogram of Word Count without Stop words nor Stop Words');"
   ]
  },
  {
   "cell_type": "code",
   "execution_count": null,
   "metadata": {},
   "outputs": [],
   "source": []
  },
  {
   "cell_type": "code",
   "execution_count": 37,
   "metadata": {},
   "outputs": [],
   "source": [
    "# coverting all the elements from all rows into a single list\n",
    "no_stop_words_L = [w for L in no_stop_words.tolist() for w in L]"
   ]
  },
  {
   "cell_type": "code",
   "execution_count": 38,
   "metadata": {},
   "outputs": [
    {
     "data": {
      "text/plain": [
       "FreqDist({'br': 101871, 'movie': 44047, 'film': 40159, 'one': 26795, 'like': 20281, 'good': 15147, 'time': 12727, 'even': 12655, 'would': 12436, 'story': 11988, ...})"
      ]
     },
     "execution_count": 38,
     "metadata": {},
     "output_type": "execute_result"
    }
   ],
   "source": [
    "dist = nltk.FreqDist(no_stop_words_L)\n",
    "dist"
   ]
  },
  {
   "cell_type": "code",
   "execution_count": 39,
   "metadata": {},
   "outputs": [],
   "source": [
    "# converting frequency values to log\n",
    "logs = np.log10(list(dist.values()))"
   ]
  },
  {
   "cell_type": "code",
   "execution_count": 50,
   "metadata": {},
   "outputs": [
    {
     "data": {
      "text/plain": [
       "'0'"
      ]
     },
     "execution_count": 50,
     "metadata": {},
     "output_type": "execute_result"
    },
    {
     "data": {
      "text/plain": [
       "\"'1'\""
      ]
     },
     "execution_count": 50,
     "metadata": {},
     "output_type": "execute_result"
    }
   ],
   "source": [
    "str(10*0)\n",
    "repr(str(10**0))"
   ]
  },
  {
   "cell_type": "code",
   "execution_count": 68,
   "metadata": {},
   "outputs": [
    {
     "data": {
      "text/plain": [
       "100000"
      ]
     },
     "execution_count": 68,
     "metadata": {},
     "output_type": "execute_result"
    }
   ],
   "source": [
    "10**5"
   ]
  },
  {
   "cell_type": "code",
   "execution_count": 70,
   "metadata": {},
   "outputs": [
    {
     "data": {
      "image/png": "[encoded data removed]",
      "text/plain": [
       "<Figure size 432x288 with 1 Axes>"
      ]
     },
     "metadata": {},
     "output_type": "display_data"
    }
   ],
   "source": [
    "plt.hist(logs, log=True, bins=50)\n",
    "plt.title('Histogram of Word Frequencies')\n",
    "plt.xticks([0,1,2,3,4], ['1', '10', '100', '1000', '10000']) ;"
   ]
  },
  {
   "cell_type": "code",
   "execution_count": 45,
   "metadata": {},
   "outputs": [
    {
     "data": {
      "image/png": "[encoded data removed]",
      "text/plain": [
       "<Figure size 432x288 with 1 Axes>"
      ]
     },
     "metadata": {},
     "output_type": "display_data"
    }
   ],
   "source": [
    "plt.hist(dist.values(), log=True, bins=50);"
   ]
  },
  {
   "cell_type": "code",
   "execution_count": 42,
   "metadata": {},
   "outputs": [
    {
     "name": "stdout",
     "output_type": "stream",
     "text": [
      "    br  movie   film    one   like \n",
      "101871  44047  40159  26795  20281 \n"
     ]
    }
   ],
   "source": [
    "dist.tabulate(5)"
   ]
  },
  {
   "cell_type": "code",
   "execution_count": null,
   "metadata": {},
   "outputs": [],
   "source": []
  },
  {
   "cell_type": "markdown",
   "metadata": {},
   "source": [
    "# KNN"
   ]
  },
  {
   "cell_type": "code",
   "execution_count": 71,
   "metadata": {
    "deletable": false,
    "editable": false,
    "run_control": {
     "frozen": true
    }
   },
   "outputs": [
    {
     "data": {
      "text/plain": [
       "Pipeline(memory=None,\n",
       "     steps=[('col', Col_Extractor(cols=['review'])), ('prep', Preprocessor()), ('to_array', To_array()), ('vec', TfidfVectorizer(analyzer='word', binary=False, decode_error='strict',\n",
       "        dtype=<class 'numpy.int64'>, encoding='utf-8', input='content',\n",
       "        lowercase=True, max_df=0.9, max_features=2...\n",
       "        token_pattern='(?u)\\\\b\\\\w\\\\w+\\\\b', tokenizer=None, use_idf=True,\n",
       "        vocabulary=None))])"
      ]
     },
     "execution_count": 71,
     "metadata": {},
     "output_type": "execute_result"
    }
   ],
   "source": [
    "pipe_11 = Pipeline([\n",
    "    ('col', Col_Extractor(['review'])),\n",
    "    ('prep', Preprocessor()),\n",
    "    ('to_array', To_array()),\n",
    "    ('vec', TfidfVectorizer(max_features=20000, stop_words='english'))\n",
    "])\n",
    "pipe_11.set_params(**best_params)"
   ]
  },
  {
   "cell_type": "code",
   "execution_count": 72,
   "metadata": {
    "deletable": false,
    "editable": false,
    "run_control": {
     "frozen": true
    }
   },
   "outputs": [],
   "source": [
    "space_all['KNN_space'] = {\n",
    "    'n_neighbors': hp.choice('n_neighbors', [5, 10, 20, 50, 100])\n",
    "}"
   ]
  },
  {
   "cell_type": "code",
   "execution_count": 73,
   "metadata": {
    "deletable": false,
    "editable": false,
    "run_control": {
     "frozen": true
    }
   },
   "outputs": [],
   "source": [
    "md_11 = Analytica_2(pipe_11)"
   ]
  },
  {
   "cell_type": "code",
   "execution_count": 74,
   "metadata": {
    "deletable": false,
    "editable": false,
    "run_control": {
     "frozen": true
    }
   },
   "outputs": [
    {
     "name": "stdout",
     "output_type": "stream",
     "text": [
      "Vectorizing Data\n",
      "(15000, 20000)\n",
      "(5000, 20000)\n",
      "(5000, 20000)\n",
      "Pickle Done\n"
     ]
    }
   ],
   "source": [
    "# md_11.make_data('_11', pkl_W=True)"
   ]
  },
  {
   "cell_type": "code",
   "execution_count": 75,
   "metadata": {
    "deletable": false,
    "editable": false,
    "run_control": {
     "frozen": true
    }
   },
   "outputs": [
    {
     "name": "stdout",
     "output_type": "stream",
     "text": [
      "Done Loading Data:  X_train__11   X_test__11   X_val__11\n"
     ]
    }
   ],
   "source": [
    "md_11.read_data('_11')"
   ]
  },
  {
   "cell_type": "code",
   "execution_count": 76,
   "metadata": {
    "deletable": false,
    "editable": false,
    "run_control": {
     "frozen": true
    }
   },
   "outputs": [
    {
     "name": "stdout",
     "output_type": "stream",
     "text": [
      "KNN_HP_val   Instance Created\n",
      "\n",
      "\n",
      "val score:  0.7988285128175261\n",
      "val score:  0.833428801237264\n",
      "val score:  0.8441641403672592\n",
      "val score:  0.8220452137059696\n",
      "val score:  0.833428801237264\n",
      "val score:  0.833428801237264\n",
      "val score:  0.8074270242542344\n",
      "val score:  0.8220452137059696\n",
      "val score:  0.7988285128175261\n",
      "val score:  0.8441641403672592\n",
      "val score:  0.8074270242542344\n",
      "val score:  0.7988285128175261\n",
      "val score:  0.833428801237264\n",
      "val score:  0.8220452137059696\n",
      "val score:  0.7988285128175261\n",
      "val score:  0.8441641403672592\n",
      "val score:  0.8074270242542344\n",
      "val score:  0.833428801237264\n",
      "val score:  0.7988285128175261\n",
      "val score:  0.8441641403672592\n",
      "acc : 0.9153389801216665 \n",
      "\n",
      "KNN_HP_val  HP_val and pickled to disk Done in 5.0  minutes\n"
     ]
    }
   ],
   "source": [
    "md_11.Evaluate_HP_val('KNN', 'KNN_space', 'KNN_HP_val', pkl_W=True)"
   ]
  },
  {
   "cell_type": "code",
   "execution_count": 77,
   "metadata": {
    "deletable": false,
    "editable": false,
    "run_control": {
     "frozen": true
    }
   },
   "outputs": [
    {
     "name": "stdout",
     "output_type": "stream",
     "text": [
      "saving l_curve_ image for  KNN_HP_val\n"
     ]
    },
    {
     "data": {
      "text/plain": [
       "<Figure size 432x288 with 0 Axes>"
      ]
     },
     "metadata": {},
     "output_type": "display_data"
    }
   ],
   "source": [
    "# md_11.plot_learning_curve_2(chosen=['KNN_HP_val'], load_saved=False)"
   ]
  },
  {
   "cell_type": "code",
   "execution_count": 78,
   "metadata": {
    "deletable": false,
    "editable": false,
    "run_control": {
     "frozen": true
    }
   },
   "outputs": [
    {
     "name": "stdout",
     "output_type": "stream",
     "text": [
      "opening the image KNN_HP_val\n"
     ]
    },
    {
     "data": {
      "image/png": "[encoded data removed]",
      "text/plain": [
       "<IPython.core.display.Image object>"
      ]
     },
     "metadata": {},
     "output_type": "display_data"
    }
   ],
   "source": [
    "md_11.plot_learning_curve_2(chosen=['KNN_HP_val'], load_saved=True)"
   ]
  },
  {
   "cell_type": "code",
   "execution_count": null,
   "metadata": {
    "deletable": false,
    "editable": false,
    "run_control": {
     "frozen": true
    }
   },
   "outputs": [],
   "source": []
  },
  {
   "cell_type": "markdown",
   "metadata": {
    "deletable": false,
    "editable": false,
    "run_control": {
     "frozen": true
    }
   },
   "source": [
    "# TREES"
   ]
  },
  {
   "cell_type": "code",
   "execution_count": 30,
   "metadata": {
    "deletable": false,
    "editable": false,
    "run_control": {
     "frozen": true
    },
    "scrolled": false
   },
   "outputs": [
    {
     "data": {
      "text/plain": [
       "['DT', 'ADA', 'RF', 'XT']"
      ]
     },
     "execution_count": 30,
     "metadata": {},
     "output_type": "execute_result"
    }
   ],
   "source": [
    "clf_T"
   ]
  },
  {
   "cell_type": "code",
   "execution_count": 30,
   "metadata": {
    "deletable": false,
    "editable": false,
    "run_control": {
     "frozen": true
    }
   },
   "outputs": [
    {
     "data": {
      "text/plain": [
       "Pipeline(memory=None,\n",
       "     steps=[('col', Col_Extractor(cols=['review'])), ('prep', Preprocessor()), ('to_array', To_array()), ('vec', TfidfVectorizer(analyzer='word', binary=False, decode_error='strict',\n",
       "        dtype=<class 'numpy.int64'>, encoding='utf-8', input='content',\n",
       "        lowercase=True, max_df=0.9, max_features=4...lary=None)), ('kbest', SelectPercentile(percentile=10, score_func=<function chi2 at 0x1a0a600a60>))])"
      ]
     },
     "execution_count": 30,
     "metadata": {},
     "output_type": "execute_result"
    }
   ],
   "source": [
    "class LemmaTokenizer(object):\n",
    "    def __init__(self):\n",
    "        self.wnl = WordNetLemmatizer()\n",
    "\n",
    "    def __call__(self, doc):\n",
    "        return [self.wnl.lemmatize(t) for t in word_tokenize(doc)]\n",
    "\n",
    "\n",
    "pipe_9 = Pipeline([\n",
    "    ('col', Col_Extractor(['review'])),\n",
    "    ('prep', Preprocessor()),\n",
    "    ('to_array', To_array()),\n",
    "    ('vec', TfidfVectorizer(max_features=4000, stop_words='english', tokenizer=LemmaTokenizer())),\n",
    "    ('kbest', SelectPercentile(chi2))\n",
    "])\n",
    "\n",
    "\n",
    "pipe_9.set_params(**best_params)"
   ]
  },
  {
   "cell_type": "code",
   "execution_count": 31,
   "metadata": {
    "deletable": false,
    "editable": false,
    "run_control": {
     "frozen": true
    }
   },
   "outputs": [],
   "source": [
    "md_9 = Analytica_2(pipe_9)"
   ]
  },
  {
   "cell_type": "code",
   "execution_count": 33,
   "metadata": {
    "deletable": false,
    "editable": false,
    "run_control": {
     "frozen": true
    }
   },
   "outputs": [
    {
     "name": "stdout",
     "output_type": "stream",
     "text": [
      "Vectorizing Data\n",
      "(15000, 400)\n",
      "(5000, 400)\n",
      "(5000, 400)\n",
      "Pickle Done\n"
     ]
    }
   ],
   "source": [
    "# md_9.make_data('_9', pkl_W=True)"
   ]
  },
  {
   "cell_type": "code",
   "execution_count": 32,
   "metadata": {
    "deletable": false,
    "editable": false,
    "run_control": {
     "frozen": true
    }
   },
   "outputs": [
    {
     "name": "stdout",
     "output_type": "stream",
     "text": [
      "Done Loading Data:  X_train__9   X_test__9   X_val__9\n"
     ]
    }
   ],
   "source": [
    "md_9.read_data('_9')"
   ]
  },
  {
   "cell_type": "code",
   "execution_count": null,
   "metadata": {
    "deletable": false,
    "editable": false,
    "run_control": {
     "frozen": true
    }
   },
   "outputs": [],
   "source": []
  },
  {
   "cell_type": "markdown",
   "metadata": {
    "deletable": false,
    "editable": false,
    "run_control": {
     "frozen": true
    }
   },
   "source": [
    "## RF\n"
   ]
  },
  {
   "cell_type": "code",
   "execution_count": null,
   "metadata": {
    "deletable": false,
    "editable": false,
    "run_control": {
     "frozen": true
    }
   },
   "outputs": [],
   "source": []
  },
  {
   "cell_type": "code",
   "execution_count": 33,
   "metadata": {
    "deletable": false,
    "editable": false,
    "run_control": {
     "frozen": true
    }
   },
   "outputs": [],
   "source": [
    "space_all['RF_space'] = {\n",
    "                    'n_estimators': hp.choice('XRF__n_estimators', [1, 10, 100]),\n",
    "                    'min_samples_split': hp.choice(\"XRF__min_samples_split\", [2, 5, 10])\n",
    "                    }"
   ]
  },
  {
   "cell_type": "code",
   "execution_count": 34,
   "metadata": {
    "deletable": false,
    "editable": false,
    "run_control": {
     "frozen": true
    }
   },
   "outputs": [
    {
     "name": "stdout",
     "output_type": "stream",
     "text": [
      "RF_HP_val   Instance Created\n",
      "\n",
      "\n",
      "val score:  0.8333438401361682\n",
      "val score:  0.7061249113788515\n",
      "val score:  0.6929218602673091\n",
      "val score:  0.7981957846173687\n",
      "val score:  0.8299329959316273\n",
      "val score:  0.6929218602673091\n",
      "val score:  0.8299329959316273\n",
      "val score:  0.83474745832706\n",
      "val score:  0.8131399782941187\n",
      "val score:  0.83474745832706\n",
      "val score:  0.83474745832706\n",
      "val score:  0.8081262333159838\n",
      "val score:  0.7035342378037218\n",
      "val score:  0.7981957846173687\n",
      "val score:  0.8081262333159838\n",
      "val score:  0.8333438401361682\n",
      "val score:  0.7061249113788515\n",
      "val score:  0.8299329959316273\n",
      "val score:  0.7035342378037218\n",
      "val score:  0.8081262333159838\n",
      "acc : 0.9131006193416904 \n",
      "\n",
      "RF_HP_val  HP_val and pickled to disk Done in 1.0  minutes\n"
     ]
    }
   ],
   "source": [
    "md_9.Evaluate_HP_val('RF', 'RF_space', 'RF_HP_val', pkl_W=True)"
   ]
  },
  {
   "cell_type": "code",
   "execution_count": 37,
   "metadata": {
    "deletable": false,
    "editable": false,
    "run_control": {
     "frozen": true
    }
   },
   "outputs": [
    {
     "name": "stdout",
     "output_type": "stream",
     "text": [
      "saving l_curve_ image for  RF_HP_val\n"
     ]
    },
    {
     "data": {
      "text/plain": [
       "<Figure size 432x288 with 0 Axes>"
      ]
     },
     "metadata": {},
     "output_type": "display_data"
    }
   ],
   "source": [
    "md_9.plot_learning_curve_2(chosen=['RF_HP_val'], load_saved=False)"
   ]
  },
  {
   "cell_type": "code",
   "execution_count": 38,
   "metadata": {
    "deletable": false,
    "editable": false,
    "run_control": {
     "frozen": true
    }
   },
   "outputs": [
    {
     "name": "stdout",
     "output_type": "stream",
     "text": [
      "opening the image RF_HP_val\n"
     ]
    },
    {
     "data": {
      "image/png": "[encoded data removed]",
      "text/plain": [
       "<IPython.core.display.Image object>"
      ]
     },
     "metadata": {},
     "output_type": "display_data"
    }
   ],
   "source": [
    "md_9.plot_learning_curve_2(chosen=['RF_HP_val'], load_saved=True)"
   ]
  },
  {
   "cell_type": "code",
   "execution_count": null,
   "metadata": {
    "deletable": false,
    "editable": false,
    "run_control": {
     "frozen": true
    }
   },
   "outputs": [],
   "source": []
  },
  {
   "cell_type": "code",
   "execution_count": 39,
   "metadata": {
    "deletable": false,
    "editable": false,
    "run_control": {
     "frozen": true
    }
   },
   "outputs": [],
   "source": [
    "# aqui"
   ]
  },
  {
   "cell_type": "markdown",
   "metadata": {
    "deletable": false,
    "editable": false,
    "run_control": {
     "frozen": true
    }
   },
   "source": [
    "## XT"
   ]
  },
  {
   "cell_type": "code",
   "execution_count": 40,
   "metadata": {
    "deletable": false,
    "editable": false,
    "run_control": {
     "frozen": true
    }
   },
   "outputs": [],
   "source": [
    "space_all['XT_space'] = {\n",
    "    \"n_estimators\": hp.choice('XT__n_estimators', [10, 50, 100, 300 ,500, 1000]),\n",
    "    \"max_features\": hp.choice(\"XT__max_features\", ['auto', 'sqrt'])  \n",
    "}"
   ]
  },
  {
   "cell_type": "code",
   "execution_count": 41,
   "metadata": {
    "deletable": false,
    "editable": false,
    "run_control": {
     "frozen": true
    }
   },
   "outputs": [
    {
     "name": "stdout",
     "output_type": "stream",
     "text": [
      "XT_HP_val   Instance Created\n",
      "\n",
      "\n",
      "val score:  0.8513541535498301\n",
      "val score:  0.8405309732814138\n",
      "val score:  0.8405309732814138\n",
      "val score:  0.8507534257643979\n",
      "val score:  0.8513541535498301\n",
      "val score:  0.8096240127272047\n",
      "val score:  0.8405309732814138\n",
      "val score:  0.8527577717407218\n",
      "val score:  0.8507534257643979\n",
      "val score:  0.8451403930194934\n",
      "val score:  0.8527577717407218\n",
      "val score:  0.8096240127272047\n",
      "val score:  0.8451403930194934\n",
      "val score:  0.8096240127272047\n",
      "val score:  0.8405309732814138\n",
      "val score:  0.8507534257643979\n",
      "val score:  0.8096240127272047\n",
      "val score:  0.8513541535498301\n",
      "val score:  0.8451403930194934\n",
      "val score:  0.8513541535498301\n",
      "acc : 0.926067845950596 \n",
      "\n",
      "XT_HP_val  HP_val and pickled to disk Done in 16.0  minutes\n"
     ]
    }
   ],
   "source": [
    "md_9.Evaluate_HP_val('XT','XT_space', 'XT_HP_val', pkl_W=True)"
   ]
  },
  {
   "cell_type": "code",
   "execution_count": 42,
   "metadata": {
    "deletable": false,
    "editable": false,
    "run_control": {
     "frozen": true
    }
   },
   "outputs": [
    {
     "name": "stdout",
     "output_type": "stream",
     "text": [
      "saving l_curve_ image for  XT_HP_val\n"
     ]
    },
    {
     "data": {
      "text/plain": [
       "<Figure size 432x288 with 0 Axes>"
      ]
     },
     "metadata": {},
     "output_type": "display_data"
    }
   ],
   "source": [
    "md_9.plot_learning_curve_2(chosen=['XT_HP_val'], load_saved=False)"
   ]
  },
  {
   "cell_type": "code",
   "execution_count": 43,
   "metadata": {
    "deletable": false,
    "editable": false,
    "run_control": {
     "frozen": true
    }
   },
   "outputs": [
    {
     "name": "stdout",
     "output_type": "stream",
     "text": [
      "opening the image XT_HP_val\n"
     ]
    },
    {
     "data": {
      "image/png": "[encoded data removed]",
      "text/plain": [
       "<IPython.core.display.Image object>"
      ]
     },
     "metadata": {},
     "output_type": "display_data"
    }
   ],
   "source": [
    "md_9.plot_learning_curve_2(chosen=['XT_HP_val'], load_saved=True)"
   ]
  },
  {
   "cell_type": "markdown",
   "metadata": {
    "deletable": false,
    "editable": false,
    "run_control": {
     "frozen": true
    }
   },
   "source": [
    "# LINEAR"
   ]
  },
  {
   "cell_type": "markdown",
   "metadata": {
    "deletable": false,
    "editable": false,
    "run_control": {
     "frozen": true
    }
   },
   "source": [
    "## Vectorizing Data First"
   ]
  },
  {
   "cell_type": "code",
   "execution_count": 30,
   "metadata": {
    "deletable": false,
    "editable": false,
    "run_control": {
     "frozen": true
    }
   },
   "outputs": [
    {
     "data": {
      "text/plain": [
       "Pipeline(memory=None,\n",
       "     steps=[('col', Col_Extractor(cols=['review'])), ('prep', Preprocessor()), ('to_array', To_array()), ('vec', TfidfVectorizer(analyzer='word', binary=False, decode_error='strict',\n",
       "        dtype=<class 'numpy.int64'>, encoding='utf-8', input='content',\n",
       "        lowercase=True, max_df=0.9, max_features=N...runcatedSVD(algorithm='randomized', n_components=800, n_iter=5,\n",
       "       random_state=None, tol=0.0))])"
      ]
     },
     "execution_count": 30,
     "metadata": {},
     "output_type": "execute_result"
    },
    {
     "data": {
      "text/plain": [
       "Pipeline(memory=None,\n",
       "     steps=[('col', Col_Extractor(cols=['review'])), ('prep', Preprocessor()), ('to_array', To_array()), ('vec', TfidfVectorizer(analyzer='word', binary=False, decode_error='strict',\n",
       "        dtype=<class 'numpy.int64'>, encoding='utf-8', input='content',\n",
       "        lowercase=True, max_df=0.9, max_features=N...r=5,\n",
       "       random_state=None, tol=0.0)), ('scaler', MinMaxScaler(copy=True, feature_range=(0, 1)))])"
      ]
     },
     "execution_count": 30,
     "metadata": {},
     "output_type": "execute_result"
    }
   ],
   "source": [
    "pipe_10 = Pipeline([\n",
    "    ('col', Col_Extractor(['review'])),\n",
    "    ('prep', Preprocessor()),\n",
    "    ('to_array', To_array()),\n",
    "    ('vec', TfidfVectorizer(stop_words='english')),\n",
    "    ('svd', TruncatedSVD(n_components=800))\n",
    "])\n",
    "\n",
    "# pipe to be used by NB\n",
    "pipe_12 = Pipeline([\n",
    "    ('col', Col_Extractor(['review'])),\n",
    "    ('prep', Preprocessor()),\n",
    "    ('to_array', To_array()),\n",
    "    ('vec', TfidfVectorizer(stop_words='english')),\n",
    "    ('svd', TruncatedSVD(n_components=800)),\n",
    "    ('scaler', MinMaxScaler())\n",
    "])\n",
    "\n",
    "best_params = {\n",
    "    'vec__max_df': 0.9,\n",
    "    'vec__min_df': 2,\n",
    "    'vec__ngram_range': (1, 3),\n",
    "    'vec__sublinear_tf': True\n",
    "}\n",
    "\n",
    "pipe_10.set_params(**best_params)\n",
    "pipe_12.set_params(**best_params)"
   ]
  },
  {
   "cell_type": "code",
   "execution_count": 31,
   "metadata": {
    "deletable": false,
    "editable": false,
    "run_control": {
     "frozen": true
    }
   },
   "outputs": [],
   "source": [
    "md_10 = Analytica_2(pipe_10)"
   ]
  },
  {
   "cell_type": "code",
   "execution_count": 32,
   "metadata": {
    "deletable": false,
    "editable": false,
    "run_control": {
     "frozen": true
    }
   },
   "outputs": [],
   "source": [
    "# md_10.make_data('_10', pkl_W=True)"
   ]
  },
  {
   "cell_type": "code",
   "execution_count": 33,
   "metadata": {
    "deletable": false,
    "editable": false,
    "run_control": {
     "frozen": true
    }
   },
   "outputs": [
    {
     "name": "stdout",
     "output_type": "stream",
     "text": [
      "Done Loading Data:  X_train__10   X_test__10   X_val__10\n"
     ]
    }
   ],
   "source": [
    "md_10.read_data('_10')"
   ]
  },
  {
   "cell_type": "markdown",
   "metadata": {
    "deletable": false,
    "editable": false,
    "run_control": {
     "frozen": true
    }
   },
   "source": [
    "## LGR"
   ]
  },
  {
   "cell_type": "code",
   "execution_count": 34,
   "metadata": {
    "deletable": false,
    "editable": false,
    "run_control": {
     "frozen": true
    }
   },
   "outputs": [],
   "source": [
    "P_algos = clf_L + ['NB', 'SGDC']"
   ]
  },
  {
   "cell_type": "code",
   "execution_count": 35,
   "metadata": {
    "deletable": false,
    "editable": false,
    "run_control": {
     "frozen": true
    }
   },
   "outputs": [],
   "source": [
    "space_all['LGR_vect'] = {\n",
    "#     'C': hp.choice('zz_LGR__C', [1.e-1, 1.e+0, 1.e+1, 1.e+2, 1.e+3]),\n",
    "#     'C': hp.choice('zz_LGR__C', [1.0, 2.0, 3.0]),\n",
    "    'C': hp.uniform('LGR__C', 1, 300),\n",
    "#     'tol': hp.choice('LGR__tol', [1.e-4, 1.e-3, 1.e-2, 1.e-1, 1.e+0, 1.e+1])\n",
    "#     'tol': hp.choice('LGR__tol', [1.e-4, 1.e-3]) # worked\n",
    "    'tol': hp.loguniform('loguniform', -5*np.log(10), -0.5*np.log(10))\n",
    "}"
   ]
  },
  {
   "cell_type": "code",
   "execution_count": 36,
   "metadata": {
    "deletable": false,
    "editable": false,
    "run_control": {
     "frozen": true
    },
    "scrolled": true
   },
   "outputs": [
    {
     "name": "stdout",
     "output_type": "stream",
     "text": [
      "LGR_HP_val   Instance Created\n",
      "\n",
      "\n",
      "val score:  0.8883971136265927\n",
      "val score:  0.8875956632397956\n",
      "val score:  0.8873920606011054\n",
      "val score:  0.8873920606011054\n",
      "val score:  0.8875927832024701\n",
      "val score:  0.8866021303636096\n",
      "val score:  0.8881978310438903\n",
      "val score:  0.8873906205824428\n",
      "val score:  0.8873920606011054\n",
      "val score:  0.8873920606011054\n",
      "val score:  0.8877935058038352\n",
      "val score:  0.8875942232211329\n",
      "val score:  0.887189897981078\n",
      "val score:  0.8873978206757559\n",
      "val score:  0.8873920606011054\n",
      "val score:  0.8873920606011054\n",
      "val score:  0.887189897981078\n",
      "val score:  0.8896057692907701\n",
      "val score:  0.887189897981078\n",
      "val score:  0.8877935058038352\n",
      "val score:  0.8881935109879024\n",
      "val score:  0.8902050570575394\n",
      "val score:  0.8902050570575394\n",
      "val score:  0.8875927832024701\n",
      "val score:  0.8875913431838077\n",
      "val score:  0.8898064918921348\n",
      "val score:  0.8875913431838077\n",
      "val score:  0.8875942232211329\n",
      "val score:  0.8881978310438903\n",
      "val score:  0.8879927883865375\n",
      "val score:  0.8883971136265927\n",
      "val score:  0.887393500619768\n",
      "val score:  0.8881978310438903\n",
      "val score:  0.8873920606011054\n",
      "val score:  0.8852085923033564\n",
      "val score:  0.8875999832957836\n",
      "val score:  0.8871942180370657\n",
      "val score:  0.8879999884798506\n",
      "val score:  0.8873920606011054\n",
      "val score:  0.8871927780184031\n",
      "val score:  0.8871956580557284\n",
      "val score:  0.8883971136265927\n",
      "val score:  0.8879999884798506\n",
      "val score:  0.8881978310438903\n",
      "val score:  0.8900057744748372\n",
      "val score:  0.8875913431838077\n",
      "val score:  0.8873920606011054\n",
      "val score:  0.887393500619768\n",
      "val score:  0.8875913431838077\n",
      "val score:  0.8875942232211329\n",
      "val score:  0.8875913431838077\n",
      "val score:  0.8881978310438903\n",
      "val score:  0.8883971136265927\n",
      "val score:  0.8873978206757559\n",
      "val score:  0.886989175379713\n",
      "val score:  0.8875927832024701\n",
      "val score:  0.8873920606011054\n",
      "val score:  0.887393500619768\n",
      "val score:  0.8871927780184031\n",
      "val score:  0.8873920606011054\n",
      "val score:  0.8873920606011054\n",
      "val score:  0.8881935109879024\n",
      "val score:  0.8879927883865375\n",
      "val score:  0.8877992658784859\n",
      "val score:  0.8806207728452161\n",
      "val score:  0.8900057744748372\n",
      "val score:  0.8881978310438903\n",
      "val score:  0.8900057744748372\n",
      "val score:  0.8873920606011054\n",
      "val score:  0.8885978362279575\n",
      "val score:  0.8879927883865375\n",
      "val score:  0.8873920606011054\n",
      "val score:  0.8883942335892673\n",
      "val score:  0.8873920606011054\n",
      "val score:  0.8900057744748372\n",
      "val score:  0.8881978310438903\n",
      "val score:  0.887189897981078\n",
      "val score:  0.8881978310438903\n",
      "val score:  0.8885978362279575\n",
      "val score:  0.8875913431838077\n",
      "val score:  0.8875913431838077\n",
      "val score:  0.8873920606011054\n",
      "val score:  0.887393500619768\n",
      "val score:  0.8871927780184031\n",
      "val score:  0.8873920606011054\n",
      "val score:  0.8871942180370657\n",
      "val score:  0.8875913431838077\n",
      "val score:  0.8873963806570934\n",
      "val score:  0.8879927883865375\n",
      "val score:  0.8877935058038352\n",
      "val score:  0.8883971136265927\n",
      "val score:  0.8877935058038352\n",
      "val score:  0.8883971136265927\n",
      "val score:  0.8873920606011054\n",
      "val score:  0.8879927883865375\n",
      "val score:  0.8875913431838077\n",
      "val score:  0.888199271062553\n",
      "val score:  0.8871956580557284\n",
      "val score:  0.8875913431838077\n",
      "val score:  0.8875942232211329\n",
      "val score:  0.8879927883865375\n",
      "val score:  0.8873920606011054\n",
      "val score:  0.8881978310438903\n",
      "val score:  0.8880028685171759\n",
      "val score:  0.8902050570575394\n",
      "val score:  0.8877992658784859\n",
      "val score:  0.8879927883865375\n",
      "val score:  0.8875913431838077\n",
      "val score:  0.887393500619768\n",
      "val score:  0.8873963806570934\n",
      "val score:  0.8871927780184031\n",
      "val score:  0.8879927883865375\n",
      "val score:  0.8904057796589043\n",
      "val score:  0.887189897981078\n",
      "val score:  0.8869906153983755\n",
      "val score:  0.8869906153983755\n",
      "val score:  0.8873920606011054\n",
      "val score:  0.8875913431838077\n",
      "val score:  0.8875913431838077\n",
      "val score:  0.8883942335892673\n",
      "val score:  0.8904057796589043\n",
      "val score:  0.8873920606011054\n",
      "val score:  0.8877992658784859\n",
      "val score:  0.8879927883865375\n",
      "val score:  0.8904057796589043\n",
      "val score:  0.8873920606011054\n",
      "val score:  0.8875913431838077\n",
      "val score:  0.8875913431838077\n",
      "val score:  0.8881978310438903\n",
      "val score:  0.887393500619768\n",
      "val score:  0.8881978310438903\n",
      "val score:  0.8879927883865375\n",
      "val score:  0.8875942232211329\n",
      "val score:  0.8875927832024701\n",
      "val score:  0.8883971136265927\n",
      "val score:  0.8875913431838077\n",
      "val score:  0.8873920606011054\n",
      "val score:  0.8877920657851724\n",
      "val score:  0.8885978362279575\n",
      "val score:  0.8875913431838077\n",
      "val score:  0.8879927883865375\n",
      "val score:  0.8875913431838077\n",
      "val score:  0.8883971136265927\n",
      "val score:  0.8875913431838077\n",
      "val score:  0.8875913431838077\n",
      "val score:  0.8904057796589043\n",
      "val score:  0.8904057796589043\n",
      "val score:  0.8881978310438903\n",
      "val score:  0.8904057796589043\n",
      "val score:  0.8883942335892673\n",
      "val score:  0.8898064918921348\n",
      "val score:  0.8879927883865375\n",
      "val score:  0.8883971136265927\n",
      "val score:  0.8881935109879024\n",
      "val score:  0.8885978362279575\n",
      "val score:  0.8875913431838077\n",
      "val score:  0.8883971136265927\n",
      "val score:  0.8879927883865375\n",
      "val score:  0.8875913431838077\n",
      "val score:  0.8879999884798506\n",
      "val score:  0.8883971136265927\n",
      "val score:  0.8881978310438903\n",
      "val score:  0.8881978310438903\n",
      "val score:  0.8877992658784859\n",
      "val score:  0.8873920606011054\n",
      "val score:  0.8875913431838077\n",
      "val score:  0.8877992658784859\n",
      "val score:  0.8904057796589043\n",
      "val score:  0.8875942232211329\n",
      "val score:  0.8871956580557284\n",
      "val score:  0.8879927883865375\n",
      "val score:  0.8879927883865375\n",
      "val score:  0.8879927883865375\n",
      "val score:  0.8873920606011054\n",
      "val score:  0.8885978362279575\n",
      "val score:  0.8883985536452552\n",
      "val score:  0.8904057796589043\n",
      "val score:  0.8881978310438903\n",
      "val score:  0.8875913431838077\n",
      "val score:  0.8900057744748372\n",
      "val score:  0.8877935058038352\n",
      "val score:  0.8875913431838077\n",
      "val score:  0.8871927780184031\n",
      "val score:  0.8883971136265927\n",
      "val score:  0.887393500619768\n",
      "val score:  0.8881978310438903\n",
      "val score:  0.8883971136265927\n",
      "val score:  0.8875913431838077\n",
      "val score:  0.8883942335892673\n",
      "val score:  0.8875913431838077\n",
      "val score:  0.887393500619768\n",
      "val score:  0.8873920606011054\n",
      "val score:  0.8881935109879024\n",
      "val score:  0.8881978310438903\n",
      "val score:  0.8873920606011054\n",
      "val score:  0.8881935109879024\n",
      "val score:  0.8873920606011054\n",
      "val score:  0.8873920606011054\n",
      "val score:  0.8883971136265927\n",
      "val score:  0.8879999884798506\n",
      "acc : 0.954018072026955 \n",
      "\n",
      "LGR_HP_val  HP_val and pickled to disk Done in 3.0  minutes\n"
     ]
    }
   ],
   "source": [
    "md_10.Evaluate_HP_val('LGR', 'LGR_vect', 'LGR_HP_val', pkl_W=True)"
   ]
  },
  {
   "cell_type": "code",
   "execution_count": 37,
   "metadata": {
    "deletable": false,
    "editable": false,
    "run_control": {
     "frozen": true
    }
   },
   "outputs": [
    {
     "name": "stdout",
     "output_type": "stream",
     "text": [
      "saving l_curve_ image for  LGR_HP_val\n"
     ]
    },
    {
     "data": {
      "text/plain": [
       "<Figure size 432x288 with 0 Axes>"
      ]
     },
     "metadata": {},
     "output_type": "display_data"
    }
   ],
   "source": [
    "md_10.plot_learning_curve_2(load_saved=False, chosen=['LGR_HP_val'])  "
   ]
  },
  {
   "cell_type": "code",
   "execution_count": 38,
   "metadata": {
    "deletable": false,
    "editable": false,
    "run_control": {
     "frozen": true
    }
   },
   "outputs": [
    {
     "name": "stdout",
     "output_type": "stream",
     "text": [
      "opening the image LGR_HP_val\n"
     ]
    },
    {
     "data": {
      "image/png": "[encoded data removed]",
      "text/plain": [
       "<IPython.core.display.Image object>"
      ]
     },
     "metadata": {},
     "output_type": "display_data"
    }
   ],
   "source": [
    "md_10.plot_learning_curve_2(load_saved=True, chosen=['LGR_HP_val'])  "
   ]
  },
  {
   "cell_type": "markdown",
   "metadata": {
    "deletable": false,
    "editable": false,
    "run_control": {
     "frozen": true
    }
   },
   "source": [
    "## NB"
   ]
  },
  {
   "cell_type": "code",
   "execution_count": 39,
   "metadata": {
    "code_folding": [],
    "deletable": false,
    "editable": false,
    "run_control": {
     "frozen": true
    }
   },
   "outputs": [],
   "source": [
    "# HP max_iter = 20\n",
    "space_all['NB_val'] = {\n",
    "                  'alpha': hp.choice('zz_alpha', [0.001, 0.1, 0.5, 1.0, 10.0, 100.0, 1000.0])\n",
    "} "
   ]
  },
  {
   "cell_type": "code",
   "execution_count": 40,
   "metadata": {
    "deletable": false,
    "editable": false,
    "run_control": {
     "frozen": true
    }
   },
   "outputs": [],
   "source": [
    "md_12 = Analytica_2(pipe_12)"
   ]
  },
  {
   "cell_type": "code",
   "execution_count": 41,
   "metadata": {
    "deletable": false,
    "editable": false,
    "run_control": {
     "frozen": true
    }
   },
   "outputs": [],
   "source": [
    "# md_12.make_data('_12', pkl_W=True)"
   ]
  },
  {
   "cell_type": "code",
   "execution_count": 42,
   "metadata": {
    "deletable": false,
    "editable": false,
    "run_control": {
     "frozen": true
    }
   },
   "outputs": [
    {
     "name": "stdout",
     "output_type": "stream",
     "text": [
      "Done Loading Data:  X_train__12   X_test__12   X_val__12\n"
     ]
    }
   ],
   "source": [
    "md_12.read_data('_12')"
   ]
  },
  {
   "cell_type": "code",
   "execution_count": 43,
   "metadata": {
    "deletable": false,
    "editable": false,
    "run_control": {
     "frozen": true
    }
   },
   "outputs": [
    {
     "name": "stdout",
     "output_type": "stream",
     "text": [
      "NB_HP_val   Instance Created\n",
      "\n",
      "\n",
      "val score:  0.8538771462478153\n",
      "val score:  0.8538771462478153\n",
      "val score:  0.85583829166426\n",
      "val score:  0.8546713965412991\n",
      "val score:  0.85583829166426\n",
      "val score:  0.8538771462478153\n",
      "val score:  0.8538771462478153\n",
      "val score:  0.8538771462478153\n",
      "val score:  0.85583829166426\n",
      "val score:  0.8538771462478153\n",
      "val score:  0.8538771462478153\n",
      "val score:  0.8546713965412991\n",
      "val score:  0.8538771462478153\n",
      "val score:  0.8538771462478153\n",
      "val score:  0.8546713965412991\n",
      "val score:  0.8538771462478153\n",
      "val score:  0.8538771462478153\n",
      "val score:  0.8538771462478153\n",
      "val score:  0.8538771462478153\n",
      "val score:  0.8538771462478153\n",
      "val score:  0.85583829166426\n",
      "val score:  0.85583829166426\n",
      "val score:  0.85583829166426\n",
      "val score:  0.85583829166426\n",
      "val score:  0.85583829166426\n",
      "val score:  0.85583829166426\n",
      "val score:  0.85583829166426\n",
      "val score:  0.85583829166426\n",
      "val score:  0.8538771462478153\n",
      "val score:  0.8538771462478153\n",
      "val score:  0.85583829166426\n",
      "val score:  0.8538771462478153\n",
      "val score:  0.85583829166426\n",
      "val score:  0.8546713965412991\n",
      "val score:  0.85583829166426\n",
      "val score:  0.8538771462478153\n",
      "val score:  0.8538771462478153\n",
      "val score:  0.8538771462478153\n",
      "val score:  0.85583829166426\n",
      "val score:  0.8538771462478153\n",
      "val score:  0.85583829166426\n",
      "val score:  0.8546713965412991\n",
      "val score:  0.8538771462478153\n",
      "val score:  0.8538771462478153\n",
      "val score:  0.8538771462478153\n",
      "val score:  0.8538771462478153\n",
      "val score:  0.85583829166426\n",
      "val score:  0.8546713965412991\n",
      "val score:  0.8538771462478153\n",
      "val score:  0.8538771462478153\n",
      "val score:  0.85583829166426\n",
      "val score:  0.8538771462478153\n",
      "val score:  0.8538771462478153\n",
      "val score:  0.8538771462478153\n",
      "val score:  0.85583829166426\n",
      "val score:  0.85583829166426\n",
      "val score:  0.8538771462478153\n",
      "val score:  0.8546713965412991\n",
      "val score:  0.85583829166426\n",
      "val score:  0.8538771462478153\n",
      "val score:  0.85583829166426\n",
      "val score:  0.8538771462478153\n",
      "val score:  0.8538771462478153\n",
      "val score:  0.8538771462478153\n",
      "val score:  0.85583829166426\n",
      "val score:  0.85583829166426\n",
      "val score:  0.85583829166426\n",
      "val score:  0.85583829166426\n",
      "val score:  0.85583829166426\n",
      "val score:  0.85583829166426\n",
      "val score:  0.85583829166426\n",
      "val score:  0.85583829166426\n",
      "val score:  0.8546713965412991\n",
      "val score:  0.8538771462478153\n",
      "val score:  0.85583829166426\n",
      "val score:  0.8538771462478153\n",
      "val score:  0.8538771462478153\n",
      "val score:  0.8538771462478153\n",
      "val score:  0.8538771462478153\n",
      "val score:  0.85583829166426\n",
      "val score:  0.85583829166426\n",
      "val score:  0.8538771462478153\n",
      "val score:  0.8546713965412991\n",
      "val score:  0.85583829166426\n",
      "val score:  0.8538771462478153\n",
      "val score:  0.8538771462478153\n",
      "val score:  0.8538771462478153\n",
      "val score:  0.85583829166426\n",
      "val score:  0.8538771462478153\n",
      "val score:  0.85583829166426\n",
      "val score:  0.85583829166426\n",
      "val score:  0.8538771462478153\n",
      "val score:  0.8546713965412991\n",
      "val score:  0.85583829166426\n",
      "val score:  0.8538771462478153\n",
      "val score:  0.85583829166426\n",
      "val score:  0.8538771462478153\n",
      "val score:  0.8538771462478153\n",
      "val score:  0.8538771462478153\n",
      "val score:  0.85583829166426\n",
      "val score:  0.85583829166426\n",
      "val score:  0.8538771462478153\n",
      "val score:  0.8546713965412991\n",
      "val score:  0.85583829166426\n",
      "val score:  0.85583829166426\n",
      "val score:  0.8538771462478153\n",
      "val score:  0.85583829166426\n",
      "val score:  0.8538771462478153\n",
      "val score:  0.8538771462478153\n",
      "val score:  0.8538771462478153\n",
      "val score:  0.85583829166426\n",
      "val score:  0.8538771462478153\n",
      "val score:  0.85583829166426\n",
      "val score:  0.8546713965412991\n",
      "val score:  0.85583829166426\n",
      "val score:  0.8538771462478153\n",
      "val score:  0.8538771462478153\n",
      "val score:  0.85583829166426\n",
      "val score:  0.8538771462478153\n",
      "val score:  0.8538771462478153\n",
      "val score:  0.85583829166426\n",
      "val score:  0.85583829166426\n",
      "val score:  0.8538771462478153\n",
      "val score:  0.85583829166426\n",
      "val score:  0.8546713965412991\n",
      "val score:  0.8538771462478153\n",
      "val score:  0.85583829166426\n",
      "val score:  0.8538771462478153\n",
      "val score:  0.85583829166426\n",
      "val score:  0.8538771462478153\n",
      "val score:  0.8538771462478153\n",
      "val score:  0.85583829166426\n",
      "val score:  0.8538771462478153\n",
      "val score:  0.85583829166426\n",
      "val score:  0.8546713965412991\n",
      "val score:  0.85583829166426\n",
      "val score:  0.8538771462478153\n",
      "val score:  0.8538771462478153\n",
      "val score:  0.8538771462478153\n",
      "val score:  0.85583829166426\n",
      "val score:  0.8538771462478153\n",
      "val score:  0.85583829166426\n",
      "val score:  0.85583829166426\n",
      "val score:  0.8538771462478153\n",
      "val score:  0.8546713965412991\n",
      "val score:  0.85583829166426\n",
      "val score:  0.85583829166426\n",
      "val score:  0.85583829166426\n",
      "val score:  0.85583829166426\n",
      "val score:  0.85583829166426\n",
      "val score:  0.85583829166426\n",
      "val score:  0.85583829166426\n",
      "val score:  0.85583829166426\n",
      "val score:  0.85583829166426\n",
      "val score:  0.85583829166426\n",
      "val score:  0.8538771462478153\n",
      "val score:  0.85583829166426\n",
      "val score:  0.8538771462478153\n",
      "val score:  0.8538771462478153\n",
      "val score:  0.8538771462478153\n",
      "val score:  0.85583829166426\n",
      "val score:  0.85583829166426\n",
      "val score:  0.85583829166426\n",
      "val score:  0.8538771462478153\n",
      "val score:  0.8546713965412991\n",
      "val score:  0.85583829166426\n",
      "val score:  0.8538771462478153\n",
      "val score:  0.85583829166426\n",
      "val score:  0.8538771462478153\n",
      "val score:  0.8538771462478153\n",
      "val score:  0.8538771462478153\n",
      "val score:  0.85583829166426\n",
      "val score:  0.85583829166426\n",
      "val score:  0.85583829166426\n",
      "val score:  0.8538771462478153\n",
      "val score:  0.8546713965412991\n",
      "val score:  0.8538771462478153\n",
      "val score:  0.85583829166426\n",
      "val score:  0.85583829166426\n",
      "val score:  0.8538771462478153\n",
      "val score:  0.8538771462478153\n",
      "val score:  0.85583829166426\n",
      "val score:  0.8538771462478153\n",
      "val score:  0.85583829166426\n",
      "val score:  0.85583829166426\n",
      "val score:  0.8538771462478153\n",
      "val score:  0.8546713965412991\n",
      "val score:  0.85583829166426\n",
      "val score:  0.8538771462478153\n",
      "val score:  0.85583829166426\n",
      "val score:  0.8538771462478153\n",
      "val score:  0.8538771462478153\n",
      "val score:  0.8538771462478153\n",
      "val score:  0.85583829166426\n",
      "val score:  0.85583829166426\n",
      "val score:  0.85583829166426\n",
      "val score:  0.8538771462478153\n",
      "val score:  0.8546713965412991\n",
      "val score:  0.85583829166426\n",
      "val score:  0.85583829166426\n",
      "acc : 0.9316002199315883 \n",
      "\n",
      "NB_HP_val  HP_val and pickled to disk Done in 0.0  minutes\n"
     ]
    }
   ],
   "source": [
    "md_12.Evaluate_HP_val('NB', 'NB_val', 'NB_HP_val', pkl_W=True)"
   ]
  },
  {
   "cell_type": "code",
   "execution_count": 44,
   "metadata": {
    "deletable": false,
    "editable": false,
    "run_control": {
     "frozen": true
    }
   },
   "outputs": [],
   "source": [
    "# md_12.plot_learning_curve_2(chosen=['NB_HP_val'], load_saved=False)"
   ]
  },
  {
   "cell_type": "code",
   "execution_count": 45,
   "metadata": {
    "deletable": false,
    "editable": false,
    "run_control": {
     "frozen": true
    }
   },
   "outputs": [
    {
     "name": "stdout",
     "output_type": "stream",
     "text": [
      "opening the image NB_HP_val\n"
     ]
    },
    {
     "data": {
      "image/png": "[encoded data removed]",
      "text/plain": [
       "<IPython.core.display.Image object>"
      ]
     },
     "metadata": {},
     "output_type": "display_data"
    }
   ],
   "source": [
    "md_12.plot_learning_curve_2(chosen=['NB_HP_val'], load_saved=True)"
   ]
  },
  {
   "cell_type": "markdown",
   "metadata": {
    "deletable": false,
    "editable": false,
    "run_control": {
     "frozen": true
    }
   },
   "source": [
    "## SGDC"
   ]
  },
  {
   "cell_type": "code",
   "execution_count": 46,
   "metadata": {
    "deletable": false,
    "editable": false,
    "run_control": {
     "frozen": true
    }
   },
   "outputs": [],
   "source": [
    "space_all['SGDC_space'] = {\n",
    "    'l1_ratio': hp.uniform('clf__l1_ratio', 0.0, 0.5),\n",
    "    'alpha': hp.loguniform('clf__alpha', -9*np.log(10), -4*np.log(10)),\n",
    "    'n_iter': 20 + 5*hp.randint('clf__n_iter', 12)\n",
    "}"
   ]
  },
  {
   "cell_type": "code",
   "execution_count": 47,
   "metadata": {
    "deletable": false,
    "editable": false,
    "run_control": {
     "frozen": true
    }
   },
   "outputs": [
    {
     "name": "stdout",
     "output_type": "stream",
     "text": [
      "SGDC_HP_val   Instance Created\n",
      "\n",
      "\n",
      "val score:  0.8839725762845887\n",
      "val score:  0.8575768741962896\n",
      "val score:  0.878625946992273\n",
      "val score:  0.8862640459820359\n",
      "val score:  0.8831653658231411\n",
      "val score:  0.8164194607962121\n",
      "val score:  0.8883697532720024\n",
      "val score:  0.8833718484991566\n",
      "val score:  0.8435688526523304\n",
      "val score:  0.8828451216727768\n",
      "val score:  0.8729837938699685\n",
      "val score:  0.8877431051506428\n",
      "val score:  0.7724223305934045\n",
      "val score:  0.888007188573164\n",
      "val score:  0.8838991353327939\n",
      "val score:  0.8759459922600598\n",
      "val score:  0.8572381498064215\n",
      "val score:  0.874851098070231\n",
      "val score:  0.8834991301487268\n",
      "val score:  0.8791762741245126\n",
      "val score:  0.8864086078555578\n",
      "val score:  0.8872215783916559\n",
      "val score:  0.855579728313279\n",
      "val score:  0.887373340358491\n",
      "val score:  0.8859193215144069\n",
      "val score:  0.8770000059200767\n",
      "val score:  0.8866654911847657\n",
      "val score:  0.8807316542822397\n",
      "val score:  0.8839308157433721\n",
      "val score:  0.8874021407317438\n",
      "val score:  0.8735298009462202\n",
      "val score:  0.8408889779211538\n",
      "val score:  0.8787921091457346\n",
      "val score:  0.8873776604144791\n",
      "val score:  0.8877963858411604\n",
      "val score:  0.8705160818884213\n",
      "val score:  0.883622971753714\n",
      "val score:  0.8528395328003451\n",
      "val score:  0.8836445720336535\n",
      "val score:  0.8805899724460429\n",
      "val score:  0.8830300040688528\n",
      "val score:  0.8772364089838605\n",
      "val score:  0.881061658559095\n",
      "val score:  0.8235657934126828\n",
      "val score:  0.8868028529649745\n",
      "val score:  0.8874323811236594\n",
      "val score:  0.8832998475660245\n",
      "val score:  0.8819187096664772\n",
      "val score:  0.8827043198479851\n",
      "val score:  0.8785510660218155\n",
      "val score:  0.8838553747656569\n",
      "val score:  0.852398407083356\n",
      "val score:  0.8856575581219533\n",
      "val score:  0.7445046087797298\n",
      "val score:  0.8449681507872342\n",
      "val score:  0.8853065135724159\n",
      "val score:  0.8594489784587608\n",
      "val score:  0.8523912069900427\n",
      "val score:  0.8266678336151236\n",
      "val score:  0.8550388413033834\n",
      "val score:  0.8720539418190859\n",
      "val score:  0.864696326464391\n",
      "val score:  0.880509331400935\n",
      "val score:  0.8774115312534452\n",
      "val score:  0.8873978206757559\n",
      "val score:  0.8877949458224978\n",
      "val score:  0.887025175846279\n",
      "val score:  0.8274664039645953\n",
      "val score:  0.8879755081625857\n",
      "val score:  0.8848777080150958\n",
      "val score:  0.8881776707826133\n",
      "val score:  0.8691067036228789\n",
      "val score:  0.8815763052289157\n",
      "val score:  0.8741708492542063\n",
      "val score:  0.8568511047903181\n",
      "val score:  0.8874467813102859\n",
      "val score:  0.8873675802838404\n",
      "val score:  0.8414868256692608\n",
      "val score:  0.8807345343195647\n",
      "val score:  0.8873848605077921\n",
      "val score:  0.885998522540852\n",
      "val score:  0.88627900617592\n",
      "val score:  0.8775503330523164\n",
      "val score:  0.8743715718555712\n",
      "val score:  0.8839826564152271\n",
      "val score:  0.8693218264108703\n",
      "val score:  0.8869877353610502\n",
      "val score:  0.8853949147180947\n",
      "val score:  0.799743644677635\n",
      "val score:  0.874761496909\n",
      "val score:  0.886973335174424\n",
      "val score:  0.8870035755663394\n",
      "val score:  0.8629143033693716\n",
      "val score:  0.8829079224866755\n",
      "val score:  0.87574814969602\n",
      "val score:  0.884727946074181\n",
      "val score:  0.8776695345971683\n",
      "val score:  0.8876287836690363\n",
      "val score:  0.8877747855612208\n",
      "val score:  0.8544237133313248\n",
      "val score:  0.8800738857575594\n",
      "val score:  0.8862453257394216\n",
      "val score:  0.7949162221142386\n",
      "val score:  0.880668853468341\n",
      "val score:  0.8166187433789143\n",
      "val score:  0.8852791532178258\n",
      "val score:  0.8526085698070647\n",
      "val score:  0.88134246219831\n",
      "val score:  0.8531926573768396\n",
      "val score:  0.8841056180088094\n",
      "val score:  0.88700933564099\n",
      "val score:  0.8856955586144396\n",
      "val score:  0.8757884702185741\n",
      "val score:  0.883265287118121\n",
      "val score:  0.8630706253953051\n",
      "val score:  0.888275592051673\n",
      "val score:  0.8758460709650797\n",
      "val score:  0.8780122590388771\n",
      "val score:  0.8868820539914197\n",
      "val score:  0.885284913292476\n",
      "val score:  0.885485635893841\n",
      "val score:  0.8879798282185738\n",
      "val score:  0.888079189506296\n",
      "val score:  0.8854294751659981\n",
      "val score:  0.8851005909036581\n",
      "val score:  0.8828278414488252\n",
      "val score:  0.8851029109337258\n",
      "val score:  0.8406709750958373\n",
      "val score:  0.8124146088933313\n",
      "val score:  0.8280685717686901\n",
      "val score:  0.8790270721908555\n",
      "val score:  0.8848805880524213\n",
      "val score:  0.8818184683673501\n",
      "val score:  0.8785985866376829\n",
      "val score:  0.8703268794363576\n",
      "val score:  0.8878165461024374\n",
      "val score:  0.8812119805072675\n",
      "val score:  0.880592532479221\n",
      "val score:  0.8842746601995961\n",
      "val score:  0.8580698405851339\n",
      "val score:  0.8524070471953317\n",
      "val score:  0.8541977104023268\n",
      "val score:  0.8778172965121627\n",
      "val score:  0.758566711024575\n",
      "val score:  0.8845085032302018\n",
      "val score:  0.8880820695436213\n",
      "val score:  0.8866885314833679\n",
      "val score:  0.8872849392128123\n",
      "val score:  0.8860935637725864\n",
      "val score:  0.8878799069235939\n",
      "val score:  0.8856921185698565\n",
      "val score:  0.8844791428496913\n",
      "val score:  0.8849257886382208\n",
      "val score:  0.8718546592363838\n",
      "val score:  0.8872129382796801\n",
      "val score:  0.8469998571181483\n",
      "val score:  0.8856690782712544\n",
      "val score:  0.8849185885449075\n",
      "val score:  0.8860546832686952\n",
      "val score:  0.8883294327494485\n",
      "val score:  0.7651934369069424\n",
      "val score:  0.8848552277237512\n",
      "val score:  0.8739571664848776\n",
      "val score:  0.7826678233749911\n",
      "val score:  0.8572482299370601\n",
      "val score:  0.8369190864713607\n",
      "val score:  0.886873413879444\n",
      "val score:  0.828874342211475\n",
      "val score:  0.8866352507928503\n",
      "val score:  0.8869243745398941\n",
      "val score:  0.8526020097220459\n",
      "val score:  0.8784065041482938\n",
      "val score:  0.8871596575891624\n",
      "val score:  0.8477955474302946\n",
      "val score:  0.8818213484046755\n",
      "val score:  0.8113869955754627\n",
      "val score:  0.873440279786026\n",
      "val score:  0.8840566573742796\n",
      "val score:  0.8844906629989925\n",
      "val score:  0.8845517037900811\n",
      "val score:  0.876364397682594\n",
      "val score:  0.886476288732702\n",
      "val score:  0.8708625663788602\n",
      "val score:  0.8871870179437525\n",
      "val score:  0.7412944871765538\n",
      "val score:  0.8805568520168021\n",
      "val score:  0.8748280577716285\n",
      "val score:  0.887625903631711\n",
      "val score:  0.7481204956416235\n",
      "val score:  0.881409823071307\n",
      "val score:  0.886059003324683\n",
      "val score:  0.8594590585893993\n",
      "val score:  0.8701218367790046\n",
      "val score:  0.8869819752863997\n",
      "val score:  0.8443717430577901\n",
      "val score:  0.8623265357519033\n",
      "val score:  0.8724496269471652\n",
      "val score:  0.8867956528716612\n",
      "val score:  0.8835639309885457\n",
      "val score:  0.8857272390250177\n",
      "acc : 0.9519054870242923 \n",
      "\n",
      "SGDC_HP_val  HP_val and pickled to disk Done in 12.0  minutes\n"
     ]
    }
   ],
   "source": [
    "md_10.Evaluate_HP_val('SGDC','SGDC_space', 'SGDC_HP_val', pkl_W=True)"
   ]
  },
  {
   "cell_type": "code",
   "execution_count": 48,
   "metadata": {
    "deletable": false,
    "editable": false,
    "run_control": {
     "frozen": true
    }
   },
   "outputs": [
    {
     "name": "stdout",
     "output_type": "stream",
     "text": [
      "saving l_curve_ image for  SGDC_HP_val\n"
     ]
    },
    {
     "data": {
      "text/plain": [
       "<Figure size 432x288 with 0 Axes>"
      ]
     },
     "metadata": {},
     "output_type": "display_data"
    }
   ],
   "source": [
    "md_10.plot_learning_curve_2(chosen=['SGDC_HP_val'], load_saved=False)"
   ]
  },
  {
   "cell_type": "code",
   "execution_count": 49,
   "metadata": {
    "deletable": false,
    "editable": false,
    "run_control": {
     "frozen": true
    }
   },
   "outputs": [
    {
     "name": "stdout",
     "output_type": "stream",
     "text": [
      "opening the image SGDC_HP_val\n"
     ]
    },
    {
     "data": {
      "image/png": "[encoded data removed]",
      "text/plain": [
       "<IPython.core.display.Image object>"
      ]
     },
     "metadata": {},
     "output_type": "display_data"
    }
   ],
   "source": [
    "md_10.plot_learning_curve_2(chosen=['SGDC_HP_val'], load_saved=True)"
   ]
  },
  {
   "cell_type": "code",
   "execution_count": 98,
   "metadata": {
    "deletable": false,
    "editable": false,
    "run_control": {
     "frozen": true
    }
   },
   "outputs": [
    {
     "name": "stdout",
     "output_type": "stream",
     "text": [
      "Done\n"
     ]
    }
   ],
   "source": [
    "print('Done')"
   ]
  },
  {
   "cell_type": "code",
   "execution_count": null,
   "metadata": {
    "deletable": false,
    "editable": false,
    "run_control": {
     "frozen": true
    }
   },
   "outputs": [],
   "source": []
  },
  {
   "cell_type": "code",
   "execution_count": null,
   "metadata": {
    "deletable": false,
    "editable": false,
    "run_control": {
     "frozen": true
    }
   },
   "outputs": [],
   "source": []
  }
 ],
 "metadata": {
  "anaconda-cloud": {},
  "kernelspec": {
   "display_name": "Python 3",
   "language": "python",
   "name": "python3"
  },
  "language_info": {
   "codemirror_mode": {
    "name": "ipython",
    "version": 3
   },
   "file_extension": ".py",
   "mimetype": "text/x-python",
   "name": "python",
   "nbconvert_exporter": "python",
   "pygments_lexer": "ipython3",
   "version": "3.6.5"
  },
  "toc": {
   "base_numbering": 1,
   "nav_menu": {},
   "number_sections": true,
   "sideBar": false,
   "skip_h1_title": false,
   "title_cell": "Table of Contents",
   "title_sidebar": "Contents",
   "toc_cell": false,
   "toc_position": {
    "height": "378px",
    "left": "896px",
    "top": "93px",
    "width": "165px"
   },
   "toc_section_display": true,
   "toc_window_display": true
  }
 },
 "nbformat": 4,
 "nbformat_minor": 2
}
