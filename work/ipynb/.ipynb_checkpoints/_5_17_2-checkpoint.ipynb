{
 "cells": [
  {
   "cell_type": "markdown",
   "metadata": {},
   "source": [
    "\n",
    "# Load Libraries / Data"
   ]
  },
  {
   "cell_type": "code",
   "execution_count": 1,
   "metadata": {},
   "outputs": [],
   "source": [
    "%run ../modules/library_to_import.ipynb"
   ]
  },
  {
   "cell_type": "code",
   "execution_count": 2,
   "metadata": {},
   "outputs": [],
   "source": [
    "%run ../modules/Class_imdb.ipynb\n",
    "%run ../modules/transformers_imdb.ipynb"
   ]
  },
  {
   "cell_type": "code",
   "execution_count": 3,
   "metadata": {},
   "outputs": [
    {
     "data": {
      "text/plain": [
       "<Figure size 432x288 with 0 Axes>"
      ]
     },
     "metadata": {},
     "output_type": "display_data"
    }
   ],
   "source": [
    "%matplotlib inline\n",
    "import matplotlib.pyplot as plt\n",
    "import matplotlib.image as mpimg\n",
    "import seaborn as sns\n",
    "# sns.despine()\n",
    "sns.set()\n",
    "# sns.set(style='white', context='notebook', palette='deep')\n",
    "# sns.set(style='white', palette='deep')\n",
    "sns.despine()"
   ]
  },
  {
   "cell_type": "code",
   "execution_count": 4,
   "metadata": {},
   "outputs": [],
   "source": [
    "import warnings\n",
    "from sklearn.exceptions import DataConversionWarning\n",
    "warnings.filterwarnings(action='ignore', category=DataConversionWarning)\n",
    "warnings.filterwarnings(\"ignore\", category=DeprecationWarning) \n",
    "warnings.filterwarnings(\"ignore\", category=FutureWarning)  \n",
    "warnings.filterwarnings(\"ignore\", category=UserWarning)  \n",
    "\n",
    "np.set_printoptions(precision=2)"
   ]
  },
  {
   "cell_type": "code",
   "execution_count": 5,
   "metadata": {},
   "outputs": [],
   "source": [
    "from IPython.core.interactiveshell import InteractiveShell\n",
    "InteractiveShell.ast_node_interactivity = \"all\""
   ]
  },
  {
   "cell_type": "code",
   "execution_count": 6,
   "metadata": {},
   "outputs": [],
   "source": [
    "random_state = 42"
   ]
  },
  {
   "cell_type": "raw",
   "metadata": {},
   "source": [
    "evaluations_all -  it is a dictionary where all the information regarding models performance scores gets recorded. It`s the 'cloud'.\n",
    "\n",
    "By acessing the 'cloud' the Class Super_Analtica will work in groups.\n",
    "Analytica_bolada is lower level."
   ]
  },
  {
   "cell_type": "markdown",
   "metadata": {},
   "source": [
    "## Data\n"
   ]
  },
  {
   "cell_type": "code",
   "execution_count": 7,
   "metadata": {},
   "outputs": [],
   "source": [
    "# df = pd.read_csv('../../data/movie_data.csv')\n",
    "data_raw = pd.read_csv(\"../../data/labeledTrainData.tsv\", header=0, \\\n",
    "                    delimiter=\"\\t\", quoting=3)"
   ]
  },
  {
   "cell_type": "code",
   "execution_count": 8,
   "metadata": {},
   "outputs": [
    {
     "data": {
      "text/html": [
       "<div>\n",
       "<style scoped>\n",
       "    .dataframe tbody tr th:only-of-type {\n",
       "        vertical-align: middle;\n",
       "    }\n",
       "\n",
       "    .dataframe tbody tr th {\n",
       "        vertical-align: top;\n",
       "    }\n",
       "\n",
       "    .dataframe thead th {\n",
       "        text-align: right;\n",
       "    }\n",
       "</style>\n",
       "<table border=\"1\" class=\"dataframe\">\n",
       "  <thead>\n",
       "    <tr style=\"text-align: right;\">\n",
       "      <th></th>\n",
       "      <th>id</th>\n",
       "      <th>sentiment</th>\n",
       "      <th>review</th>\n",
       "    </tr>\n",
       "  </thead>\n",
       "  <tbody>\n",
       "    <tr>\n",
       "      <th>0</th>\n",
       "      <td>\"5814_8\"</td>\n",
       "      <td>1</td>\n",
       "      <td>\"With all this stuff going down at the moment ...</td>\n",
       "    </tr>\n",
       "    <tr>\n",
       "      <th>1</th>\n",
       "      <td>\"2381_9\"</td>\n",
       "      <td>1</td>\n",
       "      <td>\"\\\"The Classic War of the Worlds\\\" by Timothy ...</td>\n",
       "    </tr>\n",
       "    <tr>\n",
       "      <th>2</th>\n",
       "      <td>\"7759_3\"</td>\n",
       "      <td>0</td>\n",
       "      <td>\"The film starts with a manager (Nicholas Bell...</td>\n",
       "    </tr>\n",
       "    <tr>\n",
       "      <th>3</th>\n",
       "      <td>\"3630_4\"</td>\n",
       "      <td>0</td>\n",
       "      <td>\"It must be assumed that those who praised thi...</td>\n",
       "    </tr>\n",
       "    <tr>\n",
       "      <th>4</th>\n",
       "      <td>\"9495_8\"</td>\n",
       "      <td>1</td>\n",
       "      <td>\"Superbly trashy and wondrously unpretentious ...</td>\n",
       "    </tr>\n",
       "  </tbody>\n",
       "</table>\n",
       "</div>"
      ],
      "text/plain": [
       "         id  sentiment                                             review\n",
       "0  \"5814_8\"          1  \"With all this stuff going down at the moment ...\n",
       "1  \"2381_9\"          1  \"\\\"The Classic War of the Worlds\\\" by Timothy ...\n",
       "2  \"7759_3\"          0  \"The film starts with a manager (Nicholas Bell...\n",
       "3  \"3630_4\"          0  \"It must be assumed that those who praised thi...\n",
       "4  \"9495_8\"          1  \"Superbly trashy and wondrously unpretentious ..."
      ]
     },
     "execution_count": 8,
     "metadata": {},
     "output_type": "execute_result"
    },
    {
     "name": "stdout",
     "output_type": "stream",
     "text": [
      "<class 'pandas.core.frame.DataFrame'>\n",
      "RangeIndex: 25000 entries, 0 to 24999\n",
      "Data columns (total 3 columns):\n",
      "id           25000 non-null object\n",
      "sentiment    25000 non-null int64\n",
      "review       25000 non-null object\n",
      "dtypes: int64(1), object(2)\n",
      "memory usage: 586.0+ KB\n"
     ]
    }
   ],
   "source": [
    "data_raw.head()\n",
    "data_raw.info()"
   ]
  },
  {
   "cell_type": "code",
   "execution_count": 9,
   "metadata": {},
   "outputs": [
    {
     "data": {
      "text/plain": [
       "1    0.5\n",
       "0    0.5\n",
       "Name: sentiment, dtype: float64"
      ]
     },
     "execution_count": 9,
     "metadata": {},
     "output_type": "execute_result"
    }
   ],
   "source": [
    "data_raw.sentiment.value_counts(normalize=True)"
   ]
  },
  {
   "cell_type": "markdown",
   "metadata": {},
   "source": [
    "# X  y"
   ]
  },
  {
   "cell_type": "code",
   "execution_count": 10,
   "metadata": {},
   "outputs": [
    {
     "data": {
      "text/html": [
       "<div>\n",
       "<style scoped>\n",
       "    .dataframe tbody tr th:only-of-type {\n",
       "        vertical-align: middle;\n",
       "    }\n",
       "\n",
       "    .dataframe tbody tr th {\n",
       "        vertical-align: top;\n",
       "    }\n",
       "\n",
       "    .dataframe thead th {\n",
       "        text-align: right;\n",
       "    }\n",
       "</style>\n",
       "<table border=\"1\" class=\"dataframe\">\n",
       "  <thead>\n",
       "    <tr style=\"text-align: right;\">\n",
       "      <th></th>\n",
       "      <th>id</th>\n",
       "      <th>sentiment</th>\n",
       "      <th>review</th>\n",
       "    </tr>\n",
       "  </thead>\n",
       "  <tbody>\n",
       "    <tr>\n",
       "      <th>0</th>\n",
       "      <td>\"5814_8\"</td>\n",
       "      <td>1</td>\n",
       "      <td>\"With all this stuff going down at the moment ...</td>\n",
       "    </tr>\n",
       "    <tr>\n",
       "      <th>1</th>\n",
       "      <td>\"2381_9\"</td>\n",
       "      <td>1</td>\n",
       "      <td>\"\\\"The Classic War of the Worlds\\\" by Timothy ...</td>\n",
       "    </tr>\n",
       "    <tr>\n",
       "      <th>2</th>\n",
       "      <td>\"7759_3\"</td>\n",
       "      <td>0</td>\n",
       "      <td>\"The film starts with a manager (Nicholas Bell...</td>\n",
       "    </tr>\n",
       "    <tr>\n",
       "      <th>3</th>\n",
       "      <td>\"3630_4\"</td>\n",
       "      <td>0</td>\n",
       "      <td>\"It must be assumed that those who praised thi...</td>\n",
       "    </tr>\n",
       "    <tr>\n",
       "      <th>4</th>\n",
       "      <td>\"9495_8\"</td>\n",
       "      <td>1</td>\n",
       "      <td>\"Superbly trashy and wondrously unpretentious ...</td>\n",
       "    </tr>\n",
       "  </tbody>\n",
       "</table>\n",
       "</div>"
      ],
      "text/plain": [
       "         id  sentiment                                             review\n",
       "0  \"5814_8\"          1  \"With all this stuff going down at the moment ...\n",
       "1  \"2381_9\"          1  \"\\\"The Classic War of the Worlds\\\" by Timothy ...\n",
       "2  \"7759_3\"          0  \"The film starts with a manager (Nicholas Bell...\n",
       "3  \"3630_4\"          0  \"It must be assumed that those who praised thi...\n",
       "4  \"9495_8\"          1  \"Superbly trashy and wondrously unpretentious ..."
      ]
     },
     "execution_count": 10,
     "metadata": {},
     "output_type": "execute_result"
    }
   ],
   "source": [
    "data_raw.head()"
   ]
  },
  {
   "cell_type": "code",
   "execution_count": 11,
   "metadata": {},
   "outputs": [],
   "source": [
    "train_raw = data_raw[:20000]\n",
    "test_raw = data_raw[20000:]\n",
    "\n",
    "\n",
    "# train_raw = data_raw[:2000]\n",
    "# test_raw = data_raw[2000:]"
   ]
  },
  {
   "cell_type": "code",
   "execution_count": 12,
   "metadata": {
    "cell_style": "split",
    "scrolled": true
   },
   "outputs": [
    {
     "data": {
      "text/html": [
       "<div>\n",
       "<style scoped>\n",
       "    .dataframe tbody tr th:only-of-type {\n",
       "        vertical-align: middle;\n",
       "    }\n",
       "\n",
       "    .dataframe tbody tr th {\n",
       "        vertical-align: top;\n",
       "    }\n",
       "\n",
       "    .dataframe thead th {\n",
       "        text-align: right;\n",
       "    }\n",
       "</style>\n",
       "<table border=\"1\" class=\"dataframe\">\n",
       "  <thead>\n",
       "    <tr style=\"text-align: right;\">\n",
       "      <th></th>\n",
       "      <th>id</th>\n",
       "      <th>sentiment</th>\n",
       "      <th>review</th>\n",
       "    </tr>\n",
       "  </thead>\n",
       "  <tbody>\n",
       "    <tr>\n",
       "      <th>0</th>\n",
       "      <td>\"5814_8\"</td>\n",
       "      <td>1</td>\n",
       "      <td>\"With all this stuff going down at the moment ...</td>\n",
       "    </tr>\n",
       "    <tr>\n",
       "      <th>1</th>\n",
       "      <td>\"2381_9\"</td>\n",
       "      <td>1</td>\n",
       "      <td>\"\\\"The Classic War of the Worlds\\\" by Timothy ...</td>\n",
       "    </tr>\n",
       "    <tr>\n",
       "      <th>2</th>\n",
       "      <td>\"7759_3\"</td>\n",
       "      <td>0</td>\n",
       "      <td>\"The film starts with a manager (Nicholas Bell...</td>\n",
       "    </tr>\n",
       "    <tr>\n",
       "      <th>3</th>\n",
       "      <td>\"3630_4\"</td>\n",
       "      <td>0</td>\n",
       "      <td>\"It must be assumed that those who praised thi...</td>\n",
       "    </tr>\n",
       "    <tr>\n",
       "      <th>4</th>\n",
       "      <td>\"9495_8\"</td>\n",
       "      <td>1</td>\n",
       "      <td>\"Superbly trashy and wondrously unpretentious ...</td>\n",
       "    </tr>\n",
       "  </tbody>\n",
       "</table>\n",
       "</div>"
      ],
      "text/plain": [
       "         id  sentiment                                             review\n",
       "0  \"5814_8\"          1  \"With all this stuff going down at the moment ...\n",
       "1  \"2381_9\"          1  \"\\\"The Classic War of the Worlds\\\" by Timothy ...\n",
       "2  \"7759_3\"          0  \"The film starts with a manager (Nicholas Bell...\n",
       "3  \"3630_4\"          0  \"It must be assumed that those who praised thi...\n",
       "4  \"9495_8\"          1  \"Superbly trashy and wondrously unpretentious ..."
      ]
     },
     "execution_count": 12,
     "metadata": {},
     "output_type": "execute_result"
    },
    {
     "name": "stdout",
     "output_type": "stream",
     "text": [
      "<class 'pandas.core.frame.DataFrame'>\n",
      "RangeIndex: 2000 entries, 0 to 1999\n",
      "Data columns (total 3 columns):\n",
      "id           2000 non-null object\n",
      "sentiment    2000 non-null int64\n",
      "review       2000 non-null object\n",
      "dtypes: int64(1), object(2)\n",
      "memory usage: 47.0+ KB\n"
     ]
    }
   ],
   "source": [
    "train_raw.head()\n",
    "train_raw.info()"
   ]
  },
  {
   "cell_type": "code",
   "execution_count": 13,
   "metadata": {
    "cell_style": "split",
    "scrolled": true
   },
   "outputs": [
    {
     "data": {
      "text/html": [
       "<div>\n",
       "<style scoped>\n",
       "    .dataframe tbody tr th:only-of-type {\n",
       "        vertical-align: middle;\n",
       "    }\n",
       "\n",
       "    .dataframe tbody tr th {\n",
       "        vertical-align: top;\n",
       "    }\n",
       "\n",
       "    .dataframe thead th {\n",
       "        text-align: right;\n",
       "    }\n",
       "</style>\n",
       "<table border=\"1\" class=\"dataframe\">\n",
       "  <thead>\n",
       "    <tr style=\"text-align: right;\">\n",
       "      <th></th>\n",
       "      <th>id</th>\n",
       "      <th>sentiment</th>\n",
       "      <th>review</th>\n",
       "    </tr>\n",
       "  </thead>\n",
       "  <tbody>\n",
       "    <tr>\n",
       "      <th>2000</th>\n",
       "      <td>\"1766_10\"</td>\n",
       "      <td>1</td>\n",
       "      <td>\"I got a free pass to a preview of this movie ...</td>\n",
       "    </tr>\n",
       "    <tr>\n",
       "      <th>2001</th>\n",
       "      <td>\"1027_1\"</td>\n",
       "      <td>0</td>\n",
       "      <td>\"Normally, I have much better things to do wit...</td>\n",
       "    </tr>\n",
       "    <tr>\n",
       "      <th>2002</th>\n",
       "      <td>\"3729_10\"</td>\n",
       "      <td>1</td>\n",
       "      <td>\"While I suppose this film could get the rap a...</td>\n",
       "    </tr>\n",
       "    <tr>\n",
       "      <th>2003</th>\n",
       "      <td>\"7353_7\"</td>\n",
       "      <td>1</td>\n",
       "      <td>\"This film could be one of the most underrated...</td>\n",
       "    </tr>\n",
       "    <tr>\n",
       "      <th>2004</th>\n",
       "      <td>\"6893_3\"</td>\n",
       "      <td>0</td>\n",
       "      <td>\"I had high hopes for this movie. The theater ...</td>\n",
       "    </tr>\n",
       "  </tbody>\n",
       "</table>\n",
       "</div>"
      ],
      "text/plain": [
       "             id  sentiment                                             review\n",
       "2000  \"1766_10\"          1  \"I got a free pass to a preview of this movie ...\n",
       "2001   \"1027_1\"          0  \"Normally, I have much better things to do wit...\n",
       "2002  \"3729_10\"          1  \"While I suppose this film could get the rap a...\n",
       "2003   \"7353_7\"          1  \"This film could be one of the most underrated...\n",
       "2004   \"6893_3\"          0  \"I had high hopes for this movie. The theater ..."
      ]
     },
     "execution_count": 13,
     "metadata": {},
     "output_type": "execute_result"
    },
    {
     "name": "stdout",
     "output_type": "stream",
     "text": [
      "<class 'pandas.core.frame.DataFrame'>\n",
      "RangeIndex: 23000 entries, 2000 to 24999\n",
      "Data columns (total 3 columns):\n",
      "id           23000 non-null object\n",
      "sentiment    23000 non-null int64\n",
      "review       23000 non-null object\n",
      "dtypes: int64(1), object(2)\n",
      "memory usage: 539.1+ KB\n"
     ]
    }
   ],
   "source": [
    "test_raw.head()\n",
    "test_raw.info()"
   ]
  },
  {
   "cell_type": "code",
   "execution_count": 14,
   "metadata": {},
   "outputs": [],
   "source": [
    "X = train_raw[['review']]\n",
    "y = train_raw[['sentiment']]"
   ]
  },
  {
   "cell_type": "code",
   "execution_count": 15,
   "metadata": {},
   "outputs": [],
   "source": [
    "X_train, X_val, y_train, y_val = train_test_split(X, y, test_size=0.25, random_state=random_state)    "
   ]
  },
  {
   "cell_type": "code",
   "execution_count": 16,
   "metadata": {
    "cell_style": "split",
    "scrolled": true
   },
   "outputs": [
    {
     "data": {
      "text/plain": [
       "(1500, 1)"
      ]
     },
     "execution_count": 16,
     "metadata": {},
     "output_type": "execute_result"
    },
    {
     "data": {
      "text/html": [
       "<div>\n",
       "<style scoped>\n",
       "    .dataframe tbody tr th:only-of-type {\n",
       "        vertical-align: middle;\n",
       "    }\n",
       "\n",
       "    .dataframe tbody tr th {\n",
       "        vertical-align: top;\n",
       "    }\n",
       "\n",
       "    .dataframe thead th {\n",
       "        text-align: right;\n",
       "    }\n",
       "</style>\n",
       "<table border=\"1\" class=\"dataframe\">\n",
       "  <thead>\n",
       "    <tr style=\"text-align: right;\">\n",
       "      <th></th>\n",
       "      <th>review</th>\n",
       "    </tr>\n",
       "  </thead>\n",
       "  <tbody>\n",
       "    <tr>\n",
       "      <th>1738</th>\n",
       "      <td>\"Harold Pinter rewrites Anthony Schaeffer's cl...</td>\n",
       "    </tr>\n",
       "    <tr>\n",
       "      <th>548</th>\n",
       "      <td>\"The American Humane Association, which is the...</td>\n",
       "    </tr>\n",
       "    <tr>\n",
       "      <th>936</th>\n",
       "      <td>\"a friend gave it to me saying it was another ...</td>\n",
       "    </tr>\n",
       "    <tr>\n",
       "      <th>1389</th>\n",
       "      <td>\"The movie is okay, it has it's moments, the m...</td>\n",
       "    </tr>\n",
       "    <tr>\n",
       "      <th>1607</th>\n",
       "      <td>\"Was this movie stupid? Yup. Did this movie de...</td>\n",
       "    </tr>\n",
       "  </tbody>\n",
       "</table>\n",
       "</div>"
      ],
      "text/plain": [
       "                                                 review\n",
       "1738  \"Harold Pinter rewrites Anthony Schaeffer's cl...\n",
       "548   \"The American Humane Association, which is the...\n",
       "936   \"a friend gave it to me saying it was another ...\n",
       "1389  \"The movie is okay, it has it's moments, the m...\n",
       "1607  \"Was this movie stupid? Yup. Did this movie de..."
      ]
     },
     "execution_count": 16,
     "metadata": {},
     "output_type": "execute_result"
    },
    {
     "data": {
      "text/plain": [
       "(1500, 1)"
      ]
     },
     "execution_count": 16,
     "metadata": {},
     "output_type": "execute_result"
    },
    {
     "data": {
      "text/html": [
       "<div>\n",
       "<style scoped>\n",
       "    .dataframe tbody tr th:only-of-type {\n",
       "        vertical-align: middle;\n",
       "    }\n",
       "\n",
       "    .dataframe tbody tr th {\n",
       "        vertical-align: top;\n",
       "    }\n",
       "\n",
       "    .dataframe thead th {\n",
       "        text-align: right;\n",
       "    }\n",
       "</style>\n",
       "<table border=\"1\" class=\"dataframe\">\n",
       "  <thead>\n",
       "    <tr style=\"text-align: right;\">\n",
       "      <th></th>\n",
       "      <th>sentiment</th>\n",
       "    </tr>\n",
       "  </thead>\n",
       "  <tbody>\n",
       "    <tr>\n",
       "      <th>1738</th>\n",
       "      <td>0</td>\n",
       "    </tr>\n",
       "    <tr>\n",
       "      <th>548</th>\n",
       "      <td>0</td>\n",
       "    </tr>\n",
       "    <tr>\n",
       "      <th>936</th>\n",
       "      <td>0</td>\n",
       "    </tr>\n",
       "    <tr>\n",
       "      <th>1389</th>\n",
       "      <td>1</td>\n",
       "    </tr>\n",
       "    <tr>\n",
       "      <th>1607</th>\n",
       "      <td>0</td>\n",
       "    </tr>\n",
       "  </tbody>\n",
       "</table>\n",
       "</div>"
      ],
      "text/plain": [
       "      sentiment\n",
       "1738          0\n",
       "548           0\n",
       "936           0\n",
       "1389          1\n",
       "1607          0"
      ]
     },
     "execution_count": 16,
     "metadata": {},
     "output_type": "execute_result"
    }
   ],
   "source": [
    "X_train.shape\n",
    "X_train.head()\n",
    "y_train.shape \n",
    "y_train.head()"
   ]
  },
  {
   "cell_type": "code",
   "execution_count": 17,
   "metadata": {
    "cell_style": "split",
    "scrolled": false
   },
   "outputs": [
    {
     "data": {
      "text/plain": [
       "(500, 1)"
      ]
     },
     "execution_count": 17,
     "metadata": {},
     "output_type": "execute_result"
    },
    {
     "data": {
      "text/html": [
       "<div>\n",
       "<style scoped>\n",
       "    .dataframe tbody tr th:only-of-type {\n",
       "        vertical-align: middle;\n",
       "    }\n",
       "\n",
       "    .dataframe tbody tr th {\n",
       "        vertical-align: top;\n",
       "    }\n",
       "\n",
       "    .dataframe thead th {\n",
       "        text-align: right;\n",
       "    }\n",
       "</style>\n",
       "<table border=\"1\" class=\"dataframe\">\n",
       "  <thead>\n",
       "    <tr style=\"text-align: right;\">\n",
       "      <th></th>\n",
       "      <th>review</th>\n",
       "    </tr>\n",
       "  </thead>\n",
       "  <tbody>\n",
       "    <tr>\n",
       "      <th>1860</th>\n",
       "      <td>\"I had never heard of this film before a coupl...</td>\n",
       "    </tr>\n",
       "    <tr>\n",
       "      <th>353</th>\n",
       "      <td>\"This movie is all about subtlety and the diff...</td>\n",
       "    </tr>\n",
       "    <tr>\n",
       "      <th>1333</th>\n",
       "      <td>\"If you loved Deep Cover, you might like this ...</td>\n",
       "    </tr>\n",
       "    <tr>\n",
       "      <th>905</th>\n",
       "      <td>\"I thought it was one of the best sequels I ha...</td>\n",
       "    </tr>\n",
       "    <tr>\n",
       "      <th>1289</th>\n",
       "      <td>\"Today I found \\\"They All Laughed\\\" on VHS on ...</td>\n",
       "    </tr>\n",
       "  </tbody>\n",
       "</table>\n",
       "</div>"
      ],
      "text/plain": [
       "                                                 review\n",
       "1860  \"I had never heard of this film before a coupl...\n",
       "353   \"This movie is all about subtlety and the diff...\n",
       "1333  \"If you loved Deep Cover, you might like this ...\n",
       "905   \"I thought it was one of the best sequels I ha...\n",
       "1289  \"Today I found \\\"They All Laughed\\\" on VHS on ..."
      ]
     },
     "execution_count": 17,
     "metadata": {},
     "output_type": "execute_result"
    },
    {
     "data": {
      "text/plain": [
       "(500, 1)"
      ]
     },
     "execution_count": 17,
     "metadata": {},
     "output_type": "execute_result"
    },
    {
     "data": {
      "text/html": [
       "<div>\n",
       "<style scoped>\n",
       "    .dataframe tbody tr th:only-of-type {\n",
       "        vertical-align: middle;\n",
       "    }\n",
       "\n",
       "    .dataframe tbody tr th {\n",
       "        vertical-align: top;\n",
       "    }\n",
       "\n",
       "    .dataframe thead th {\n",
       "        text-align: right;\n",
       "    }\n",
       "</style>\n",
       "<table border=\"1\" class=\"dataframe\">\n",
       "  <thead>\n",
       "    <tr style=\"text-align: right;\">\n",
       "      <th></th>\n",
       "      <th>sentiment</th>\n",
       "    </tr>\n",
       "  </thead>\n",
       "  <tbody>\n",
       "    <tr>\n",
       "      <th>1860</th>\n",
       "      <td>1</td>\n",
       "    </tr>\n",
       "    <tr>\n",
       "      <th>353</th>\n",
       "      <td>1</td>\n",
       "    </tr>\n",
       "    <tr>\n",
       "      <th>1333</th>\n",
       "      <td>1</td>\n",
       "    </tr>\n",
       "    <tr>\n",
       "      <th>905</th>\n",
       "      <td>1</td>\n",
       "    </tr>\n",
       "    <tr>\n",
       "      <th>1289</th>\n",
       "      <td>0</td>\n",
       "    </tr>\n",
       "  </tbody>\n",
       "</table>\n",
       "</div>"
      ],
      "text/plain": [
       "      sentiment\n",
       "1860          1\n",
       "353           1\n",
       "1333          1\n",
       "905           1\n",
       "1289          0"
      ]
     },
     "execution_count": 17,
     "metadata": {},
     "output_type": "execute_result"
    }
   ],
   "source": [
    "X_val.shape \n",
    "X_val.head()\n",
    "y_val.shape\n",
    "y_val.head()"
   ]
  },
  {
   "cell_type": "code",
   "execution_count": 18,
   "metadata": {},
   "outputs": [],
   "source": [
    "X_test = test_raw[['review']]\n",
    "y_test = test_raw[['sentiment']]"
   ]
  },
  {
   "cell_type": "code",
   "execution_count": 19,
   "metadata": {},
   "outputs": [
    {
     "data": {
      "text/plain": [
       "(23000, 1)"
      ]
     },
     "execution_count": 19,
     "metadata": {},
     "output_type": "execute_result"
    },
    {
     "data": {
      "text/plain": [
       "(23000, 1)"
      ]
     },
     "execution_count": 19,
     "metadata": {},
     "output_type": "execute_result"
    }
   ],
   "source": [
    "X_test.shape\n",
    "y_test.shape"
   ]
  },
  {
   "cell_type": "code",
   "execution_count": null,
   "metadata": {},
   "outputs": [],
   "source": []
  },
  {
   "cell_type": "code",
   "execution_count": 20,
   "metadata": {},
   "outputs": [],
   "source": [
    "kfold = StratifiedKFold(n_splits=8, shuffle=False, random_state=random_state)"
   ]
  },
  {
   "cell_type": "markdown",
   "metadata": {},
   "source": [
    "# PRE LOADING"
   ]
  },
  {
   "cell_type": "code",
   "execution_count": 21,
   "metadata": {},
   "outputs": [],
   "source": [
    "def tokenizer_split(text):\n",
    "    return [porter.stem(w) for w in text.split(' ')]\n",
    "\n",
    "def tokenizer_porter(text):\n",
    "    return [porter.stem(w) for w in text.split(' ') if not w in stop_words ]\n",
    "\n",
    "tfidf = TfidfVectorizer(strip_accents=None, lowercase=False, preprocessor=None)"
   ]
  },
  {
   "cell_type": "code",
   "execution_count": 22,
   "metadata": {},
   "outputs": [],
   "source": [
    "master = Super_Analytica('master')"
   ]
  },
  {
   "cell_type": "code",
   "execution_count": 23,
   "metadata": {},
   "outputs": [],
   "source": [
    "stop_words = nltk.corpus.stopwords.words('english')\n",
    "porter = PorterStemmer()"
   ]
  },
  {
   "cell_type": "code",
   "execution_count": 24,
   "metadata": {},
   "outputs": [],
   "source": [
    "%run ../modules/params_imdb.ipynb"
   ]
  },
  {
   "cell_type": "code",
   "execution_count": null,
   "metadata": {},
   "outputs": [],
   "source": []
  },
  {
   "cell_type": "code",
   "execution_count": null,
   "metadata": {},
   "outputs": [],
   "source": []
  },
  {
   "cell_type": "markdown",
   "metadata": {},
   "source": [
    "# Selecting Pipeline"
   ]
  },
  {
   "cell_type": "raw",
   "metadata": {},
   "source": [
    "fazer um comparativo entre pipelines onde o vextorizer é o TFIDF e onde o vectorizer esta \n",
    "dividido entre CountVect + TFIDF. Desse comparativo sai o pipeline que sera usado para o HP"
   ]
  },
  {
   "cell_type": "code",
   "execution_count": 25,
   "metadata": {},
   "outputs": [],
   "source": [
    "nc = 500"
   ]
  },
  {
   "cell_type": "markdown",
   "metadata": {},
   "source": [
    "## Mostrar como Truncated demora muito mais. Rodar em SGCD. teste simples"
   ]
  },
  {
   "cell_type": "code",
   "execution_count": 26,
   "metadata": {},
   "outputs": [
    {
     "name": "stdout",
     "output_type": "stream",
     "text": [
      "LGR   Cross Validation Done in  1.0  minutes  /-->acc : 0.8975913988570182 \n",
      "\n",
      "LGR   Cross Validation Done in  0.0  minutes  /-->acc : 0.8895506960483555 \n",
      "\n"
     ]
    }
   ],
   "source": [
    "# Conslusao é retirar Truncated dos pipelines posteriores. Podemos criar dois fature_matrix  \n",
    "# com a mesma qnt de features e mostrar como mesmo assim cada processo demora tempos bem diferentes.\n",
    "# Qual percentile gera a mesma quantidade de features de n_components ?\n",
    "\n",
    "pipe_1 = Pipeline([\n",
    "    ('col', Col_Extractor(['review'])),\n",
    "    ('prep', Preprocessor()),\n",
    "    ('to_array', To_array()),\n",
    "    ('tf-idf_vec', TfidfVectorizer()),\n",
    "    ('TruncatedSVD', TruncatedSVD(n_components=nc))\n",
    "])\n",
    "\n",
    "# variacao do pipe 1\n",
    "pipe_2 = Pipeline([\n",
    "    ('col', Col_Extractor(['review'])),\n",
    "    ('prep', Preprocessor()),\n",
    "    ('to_array', To_array()),\n",
    "    ('vec', TfidfVectorizer()),  \n",
    "    ('kbest', SelectPercentile(chi2))\n",
    "\n",
    "])\n",
    "\n",
    "master.evaluate_CV(pipe_1, ['LGR']) # precisa de pickle mesmo ?\n",
    "master.evaluate_CV(pipe_2, ['LGR']) \n",
    "\n",
    "\n",
    "# Demorou quase duas horas sem nenhum resultado. Talvez usar LGR ao inves de SGDC"
   ]
  },
  {
   "cell_type": "markdown",
   "metadata": {
    "deletable": false,
    "editable": false,
    "run_control": {
     "frozen": true
    }
   },
   "source": [
    "- Os pipes 2 e 3 tem reducao de dimensionalidade para algoritmos Non-Parametric\n",
    "- clf_T = ['DT', 'ADA', 'RF', 'XT'] + ['KNN']"
   ]
  },
  {
   "cell_type": "code",
   "execution_count": 27,
   "metadata": {},
   "outputs": [],
   "source": [
    "pipe_2 = Pipeline([\n",
    "    ('col', Col_Extractor(['review'])),\n",
    "    ('prep', Preprocessor()),\n",
    "    ('to_array', To_array()),\n",
    "    ('vec', TfidfVectorizer()),  \n",
    "    ('kbest', SelectPercentile(chi2))\n",
    "\n",
    "])\n",
    "\n",
    "pipe_3 = Pipeline([\n",
    "    ('col', Col_Extractor(['review'])),\n",
    "    ('prep', Preprocessor()),\n",
    "    ('to_array', To_array()),\n",
    "    ('counts', CountVectorizer()),\n",
    "    ('tf-idf', TfidfTransformer()),\n",
    "    ('kbest', SelectPercentile(chi2))\n",
    "])\n",
    "\n",
    "NonP_algos = clf_T + ['KNN'] # Non Parametric "
   ]
  },
  {
   "cell_type": "code",
   "execution_count": 28,
   "metadata": {},
   "outputs": [
    {
     "name": "stdout",
     "output_type": "stream",
     "text": [
      "DT_pp2   Cross Validation Done in  0.0  minutes  /-->acc : 0.6613403683367651 \n",
      "\n",
      "ADA_pp2   Cross Validation Done in  0.0  minutes  /-->acc : 0.6573724548158316 \n",
      "\n",
      "RF_pp2   Cross Validation Done in  0.0  minutes  /-->acc : 0.7751174132943249 \n",
      "\n",
      "XT_pp2   Cross Validation Done in  0.0  minutes  /-->acc : 0.8200535839127303 \n",
      "\n",
      "KNN_pp2   Cross Validation Done in  0.0  minutes  /-->acc : 0.6168128785563908 \n",
      "\n",
      "DT_pp3   Cross Validation Done in  0.0  minutes  /-->acc : 0.6613403683367651 \n",
      "\n",
      "ADA_pp3   Cross Validation Done in  0.0  minutes  /-->acc : 0.6573724548158316 \n",
      "\n",
      "RF_pp3   Cross Validation Done in  0.0  minutes  /-->acc : 0.7751174132943249 \n",
      "\n",
      "XT_pp3   Cross Validation Done in  0.0  minutes  /-->acc : 0.8200535839127303 \n",
      "\n",
      "KNN_pp3   Cross Validation Done in  0.0  minutes  /-->acc : 0.6168128785563908 \n",
      "\n"
     ]
    }
   ],
   "source": [
    "master.evaluate_CV(pipe_2, NonP_algos, '_pp2', pkl_W=True)\n",
    "master.evaluate_CV(pipe_3, NonP_algos, '_pp3', pkl_W=True)"
   ]
  },
  {
   "cell_type": "code",
   "execution_count": null,
   "metadata": {},
   "outputs": [],
   "source": []
  },
  {
   "cell_type": "markdown",
   "metadata": {
    "deletable": false,
    "editable": false,
    "run_control": {
     "frozen": true
    }
   },
   "source": [
    "- Os pipes 3 e 4 nao tem reducao de dimensionalidade, para algo parametricos\n",
    "- clf_L = ['LinearSVC', 'LGR', 'RDG'] + ['NB', 'SGDC']\n",
    "\n"
   ]
  },
  {
   "cell_type": "code",
   "execution_count": 29,
   "metadata": {},
   "outputs": [],
   "source": [
    "pipe_4 = Pipeline([\n",
    "    ('col', Col_Extractor(['review'])),\n",
    "    ('prep', Preprocessor()),\n",
    "    ('to_array', To_array()),\n",
    "    ('tf-idf_vec', TfidfVectorizer())\n",
    "])\n",
    "\n",
    "\n",
    "pipe_5 = Pipeline([\n",
    "    ('col', Col_Extractor(['review'])),\n",
    "    ('prep', Preprocessor()),\n",
    "    ('to_array', To_array()),\n",
    "    ('counts', CountVectorizer()),\n",
    "    ('tf-idf', TfidfTransformer())\n",
    "])\n",
    "\n",
    "P_algos = clf_L + ['NB', 'SGDC']"
   ]
  },
  {
   "cell_type": "code",
   "execution_count": 30,
   "metadata": {},
   "outputs": [
    {
     "name": "stdout",
     "output_type": "stream",
     "text": [
      "LSVC_pp4   Cross Validation Done in  0.0  minutes  /-->acc : 0.9209276742533788 \n",
      "\n",
      "LGR_pp4   Cross Validation Done in  0.0  minutes  /-->acc : 0.9036893115755709 \n",
      "\n",
      "RDG_pp4   Cross Validation Done in  0.0  minutes  /-->acc : 0.9195765811390468 \n",
      "\n",
      "NB_pp4   Cross Validation Done in  0.0  minutes  /-->acc : 0.9109742346514309 \n",
      "\n",
      "SGDC_pp4   Cross Validation Done in  0.0  minutes  /-->acc : 0.9011074268589052 \n",
      "\n",
      "LSVC_pp5   Cross Validation Done in  0.0  minutes  /-->acc : 0.9209276742533788 \n",
      "\n",
      "LGR_pp5   Cross Validation Done in  0.0  minutes  /-->acc : 0.9036893115755709 \n",
      "\n",
      "RDG_pp5   Cross Validation Done in  0.0  minutes  /-->acc : 0.9195765811390468 \n",
      "\n",
      "NB_pp5   Cross Validation Done in  0.0  minutes  /-->acc : 0.9109742346514309 \n",
      "\n",
      "SGDC_pp5   Cross Validation Done in  0.0  minutes  /-->acc : 0.9011074268589052 \n",
      "\n"
     ]
    }
   ],
   "source": [
    "master.evaluate_CV(pipe_4, P_algos, '_pp4', pkl_W=True)\n",
    "master.evaluate_CV(pipe_5, P_algos, '_pp5', pkl_W=True)"
   ]
  },
  {
   "cell_type": "code",
   "execution_count": null,
   "metadata": {},
   "outputs": [],
   "source": []
  },
  {
   "cell_type": "markdown",
   "metadata": {
    "deletable": false,
    "editable": false,
    "run_control": {
     "frozen": true
    }
   },
   "source": [
    "# PLOTTING"
   ]
  },
  {
   "cell_type": "code",
   "execution_count": 33,
   "metadata": {},
   "outputs": [
    {
     "data": {
      "text/plain": [
       "dict_keys(['LGR', 'DT_pp2', 'ADA_pp2', 'RF_pp2', 'XT_pp2', 'KNN_pp2', 'DT_pp3', 'ADA_pp3', 'RF_pp3', 'XT_pp3', 'KNN_pp3', 'LSVC_pp4', 'LGR_pp4', 'RDG_pp4', 'NB_pp4', 'SGDC_pp4', 'LSVC_pp5', 'LGR_pp5', 'RDG_pp5', 'NB_pp5', 'SGDC_pp5'])"
      ]
     },
     "execution_count": 33,
     "metadata": {},
     "output_type": "execute_result"
    }
   ],
   "source": [
    "master.get_members_evaluations_all()"
   ]
  },
  {
   "cell_type": "code",
   "execution_count": 34,
   "metadata": {},
   "outputs": [
    {
     "name": "stdout",
     "output_type": "stream",
     "text": [
      "saving l_curve_ image for  LGR\n",
      "saving l_curve_ image for  DT_pp2\n",
      "saving l_curve_ image for  ADA_pp2\n",
      "saving l_curve_ image for  RF_pp2\n",
      "saving l_curve_ image for  XT_pp2\n",
      "saving l_curve_ image for  KNN_pp2\n",
      "saving l_curve_ image for  DT_pp3\n",
      "saving l_curve_ image for  ADA_pp3\n",
      "saving l_curve_ image for  RF_pp3\n",
      "saving l_curve_ image for  XT_pp3\n",
      "saving l_curve_ image for  KNN_pp3\n",
      "saving l_curve_ image for  LSVC_pp4\n",
      "saving l_curve_ image for  LGR_pp4\n",
      "saving l_curve_ image for  RDG_pp4\n",
      "saving l_curve_ image for  NB_pp4\n",
      "saving l_curve_ image for  SGDC_pp4\n",
      "saving l_curve_ image for  LSVC_pp5\n",
      "saving l_curve_ image for  LGR_pp5\n",
      "saving l_curve_ image for  RDG_pp5\n",
      "saving l_curve_ image for  NB_pp5\n",
      "saving l_curve_ image for  SGDC_pp5\n",
      "CPU times: user 8min 8s, sys: 13.2 s, total: 8min 21s\n",
      "Wall time: 8min 57s\n"
     ]
    },
    {
     "data": {
      "text/plain": [
       "<Figure size 432x288 with 0 Axes>"
      ]
     },
     "metadata": {},
     "output_type": "display_data"
    }
   ],
   "source": [
    "%%time\n",
    "master.plot_learning_curve(load_saved=False)"
   ]
  },
  {
   "cell_type": "code",
   "execution_count": 35,
   "metadata": {},
   "outputs": [
    {
     "name": "stdout",
     "output_type": "stream",
     "text": [
      "saving c_reprt_ image for LGR\n",
      "saving c_reprt_ image for DT_pp2\n",
      "saving c_reprt_ image for ADA_pp2\n",
      "saving c_reprt_ image for RF_pp2\n",
      "saving c_reprt_ image for XT_pp2\n",
      "saving c_reprt_ image for KNN_pp2\n",
      "saving c_reprt_ image for DT_pp3\n",
      "saving c_reprt_ image for ADA_pp3\n",
      "saving c_reprt_ image for RF_pp3\n",
      "saving c_reprt_ image for XT_pp3\n",
      "saving c_reprt_ image for KNN_pp3\n",
      "saving c_reprt_ image for LSVC_pp4\n",
      "saving c_reprt_ image for LGR_pp4\n",
      "saving c_reprt_ image for RDG_pp4\n",
      "saving c_reprt_ image for NB_pp4\n",
      "saving c_reprt_ image for SGDC_pp4\n",
      "saving c_reprt_ image for LSVC_pp5\n",
      "saving c_reprt_ image for LGR_pp5\n",
      "saving c_reprt_ image for RDG_pp5\n",
      "saving c_reprt_ image for NB_pp5\n",
      "saving c_reprt_ image for SGDC_pp5\n",
      "CPU times: user 3min 33s, sys: 23.6 s, total: 3min 56s\n",
      "Wall time: 4min 4s\n"
     ]
    },
    {
     "data": {
      "text/plain": [
       "<Figure size 432x288 with 0 Axes>"
      ]
     },
     "metadata": {},
     "output_type": "display_data"
    }
   ],
   "source": [
    "%%time\n",
    "master.plot_Classification_Report( load_saved=False)"
   ]
  },
  {
   "cell_type": "code",
   "execution_count": 36,
   "metadata": {
    "scrolled": true
   },
   "outputs": [
    {
     "name": "stdout",
     "output_type": "stream",
     "text": [
      "saving c_matrx_ image for LGR\n",
      "saving c_matrx_ image for DT_pp2\n",
      "saving c_matrx_ image for ADA_pp2\n",
      "saving c_matrx_ image for RF_pp2\n",
      "saving c_matrx_ image for XT_pp2\n",
      "saving c_matrx_ image for KNN_pp2\n",
      "saving c_matrx_ image for DT_pp3\n",
      "saving c_matrx_ image for ADA_pp3\n",
      "saving c_matrx_ image for RF_pp3\n",
      "saving c_matrx_ image for XT_pp3\n",
      "saving c_matrx_ image for KNN_pp3\n",
      "saving c_matrx_ image for LSVC_pp4\n",
      "saving c_matrx_ image for LGR_pp4\n",
      "saving c_matrx_ image for RDG_pp4\n",
      "saving c_matrx_ image for NB_pp4\n",
      "saving c_matrx_ image for SGDC_pp4\n",
      "saving c_matrx_ image for LSVC_pp5\n",
      "saving c_matrx_ image for LGR_pp5\n",
      "saving c_matrx_ image for RDG_pp5\n",
      "saving c_matrx_ image for NB_pp5\n",
      "saving c_matrx_ image for SGDC_pp5\n",
      "CPU times: user 3min 47s, sys: 24.4 s, total: 4min 12s\n",
      "Wall time: 4min 22s\n"
     ]
    },
    {
     "data": {
      "text/plain": [
       "<Figure size 432x288 with 0 Axes>"
      ]
     },
     "metadata": {},
     "output_type": "display_data"
    }
   ],
   "source": [
    "%%time\n",
    "master.plot_Confusion_Matrix( load_saved=False)"
   ]
  },
  {
   "cell_type": "code",
   "execution_count": 37,
   "metadata": {},
   "outputs": [
    {
     "data": {
      "text/plain": [
       "dict_keys(['LGR', 'DT_pp2', 'ADA_pp2', 'RF_pp2', 'XT_pp2', 'KNN_pp2', 'DT_pp3', 'ADA_pp3', 'RF_pp3', 'XT_pp3', 'KNN_pp3', 'LSVC_pp4', 'LGR_pp4', 'RDG_pp4', 'NB_pp4', 'SGDC_pp4', 'LSVC_pp5', 'LGR_pp5', 'RDG_pp5', 'NB_pp5', 'SGDC_pp5'])"
      ]
     },
     "execution_count": 37,
     "metadata": {},
     "output_type": "execute_result"
    }
   ],
   "source": [
    "master.get_members_evaluations_all()"
   ]
  },
  {
   "cell_type": "code",
   "execution_count": 38,
   "metadata": {},
   "outputs": [
    {
     "name": "stdout",
     "output_type": "stream",
     "text": [
      "Done\n"
     ]
    }
   ],
   "source": [
    "print('Done')"
   ]
  }
 ],
 "metadata": {
  "anaconda-cloud": {},
  "kernelspec": {
   "display_name": "Python 3",
   "language": "python",
   "name": "python3"
  },
  "language_info": {
   "codemirror_mode": {
    "name": "ipython",
    "version": 3
   },
   "file_extension": ".py",
   "mimetype": "text/x-python",
   "name": "python",
   "nbconvert_exporter": "python",
   "pygments_lexer": "ipython3",
   "version": "3.6.5"
  },
  "toc": {
   "base_numbering": 1,
   "nav_menu": {},
   "number_sections": true,
   "sideBar": false,
   "skip_h1_title": false,
   "title_cell": "Table of Contents",
   "title_sidebar": "Contents",
   "toc_cell": false,
   "toc_position": {
    "height": "267px",
    "left": "1115px",
    "top": "93px",
    "width": "165px"
   },
   "toc_section_display": true,
   "toc_window_display": true
  }
 },
 "nbformat": 4,
 "nbformat_minor": 2
}
