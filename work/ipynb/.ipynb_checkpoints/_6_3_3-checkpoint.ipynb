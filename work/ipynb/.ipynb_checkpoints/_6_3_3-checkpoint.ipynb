{
 "cells": [
  {
   "cell_type": "markdown",
   "metadata": {},
   "source": [
    "\n",
    "# Load Libraries / Data"
   ]
  },
  {
   "cell_type": "code",
   "execution_count": 1,
   "metadata": {},
   "outputs": [],
   "source": [
    "%run ../modules/library_to_import.ipynb"
   ]
  },
  {
   "cell_type": "code",
   "execution_count": 2,
   "metadata": {},
   "outputs": [],
   "source": [
    "%run ../modules/Class_imdb.ipynb\n",
    "%run ../modules/transformers_imdb.ipynb"
   ]
  },
  {
   "cell_type": "code",
   "execution_count": 3,
   "metadata": {},
   "outputs": [
    {
     "data": {
      "text/plain": [
       "<Figure size 432x288 with 0 Axes>"
      ]
     },
     "metadata": {},
     "output_type": "display_data"
    }
   ],
   "source": [
    "%matplotlib inline\n",
    "import matplotlib.pyplot as plt\n",
    "import matplotlib.image as mpimg\n",
    "import seaborn as sns\n",
    "# sns.despine()\n",
    "sns.set()\n",
    "# sns.set(style='white', context='notebook', palette='deep')\n",
    "# sns.set(style='white', palette='deep')\n",
    "sns.despine()"
   ]
  },
  {
   "cell_type": "code",
   "execution_count": 4,
   "metadata": {},
   "outputs": [],
   "source": [
    "import warnings\n",
    "from sklearn.exceptions import DataConversionWarning\n",
    "warnings.filterwarnings(action='ignore', category=DataConversionWarning)\n",
    "warnings.filterwarnings(\"ignore\", category=DeprecationWarning) \n",
    "warnings.filterwarnings(\"ignore\", category=FutureWarning)  \n",
    "warnings.filterwarnings(\"ignore\", category=UserWarning)  \n",
    "\n",
    "np.set_printoptions(precision=2)"
   ]
  },
  {
   "cell_type": "code",
   "execution_count": 5,
   "metadata": {},
   "outputs": [],
   "source": [
    "from IPython.core.interactiveshell import InteractiveShell\n",
    "InteractiveShell.ast_node_interactivity = \"all\""
   ]
  },
  {
   "cell_type": "raw",
   "metadata": {},
   "source": [
    "evaluations_all -  it is a dictionary where all the information regarding models performance scores gets recorded. It`s the 'cloud'.\n",
    "\n",
    "By acessing the 'cloud' the Class Super_Analtica will work in groups.\n",
    "Analytica_bolada is lower level."
   ]
  },
  {
   "cell_type": "markdown",
   "metadata": {},
   "source": [
    "## Data\n"
   ]
  },
  {
   "cell_type": "code",
   "execution_count": 6,
   "metadata": {},
   "outputs": [],
   "source": [
    "random_state = 42\n",
    "\n",
    "kfold = StratifiedKFold(n_splits=8, shuffle=False, random_state=random_state)"
   ]
  },
  {
   "cell_type": "code",
   "execution_count": 7,
   "metadata": {},
   "outputs": [],
   "source": [
    "data_raw = pd.read_csv(\"../../data/labeledTrainData.tsv\", header=0, \\\n",
    "                    delimiter=\"\\t\", quoting=3)"
   ]
  },
  {
   "cell_type": "code",
   "execution_count": 8,
   "metadata": {},
   "outputs": [
    {
     "data": {
      "text/html": [
       "<div>\n",
       "<style scoped>\n",
       "    .dataframe tbody tr th:only-of-type {\n",
       "        vertical-align: middle;\n",
       "    }\n",
       "\n",
       "    .dataframe tbody tr th {\n",
       "        vertical-align: top;\n",
       "    }\n",
       "\n",
       "    .dataframe thead th {\n",
       "        text-align: right;\n",
       "    }\n",
       "</style>\n",
       "<table border=\"1\" class=\"dataframe\">\n",
       "  <thead>\n",
       "    <tr style=\"text-align: right;\">\n",
       "      <th></th>\n",
       "      <th>id</th>\n",
       "      <th>sentiment</th>\n",
       "      <th>review</th>\n",
       "    </tr>\n",
       "  </thead>\n",
       "  <tbody>\n",
       "    <tr>\n",
       "      <th>0</th>\n",
       "      <td>\"5814_8\"</td>\n",
       "      <td>1</td>\n",
       "      <td>\"With all this stuff going down at the moment ...</td>\n",
       "    </tr>\n",
       "    <tr>\n",
       "      <th>1</th>\n",
       "      <td>\"2381_9\"</td>\n",
       "      <td>1</td>\n",
       "      <td>\"\\\"The Classic War of the Worlds\\\" by Timothy ...</td>\n",
       "    </tr>\n",
       "    <tr>\n",
       "      <th>2</th>\n",
       "      <td>\"7759_3\"</td>\n",
       "      <td>0</td>\n",
       "      <td>\"The film starts with a manager (Nicholas Bell...</td>\n",
       "    </tr>\n",
       "    <tr>\n",
       "      <th>3</th>\n",
       "      <td>\"3630_4\"</td>\n",
       "      <td>0</td>\n",
       "      <td>\"It must be assumed that those who praised thi...</td>\n",
       "    </tr>\n",
       "    <tr>\n",
       "      <th>4</th>\n",
       "      <td>\"9495_8\"</td>\n",
       "      <td>1</td>\n",
       "      <td>\"Superbly trashy and wondrously unpretentious ...</td>\n",
       "    </tr>\n",
       "  </tbody>\n",
       "</table>\n",
       "</div>"
      ],
      "text/plain": [
       "         id  sentiment                                             review\n",
       "0  \"5814_8\"          1  \"With all this stuff going down at the moment ...\n",
       "1  \"2381_9\"          1  \"\\\"The Classic War of the Worlds\\\" by Timothy ...\n",
       "2  \"7759_3\"          0  \"The film starts with a manager (Nicholas Bell...\n",
       "3  \"3630_4\"          0  \"It must be assumed that those who praised thi...\n",
       "4  \"9495_8\"          1  \"Superbly trashy and wondrously unpretentious ..."
      ]
     },
     "execution_count": 8,
     "metadata": {},
     "output_type": "execute_result"
    },
    {
     "name": "stdout",
     "output_type": "stream",
     "text": [
      "<class 'pandas.core.frame.DataFrame'>\n",
      "RangeIndex: 25000 entries, 0 to 24999\n",
      "Data columns (total 3 columns):\n",
      "id           25000 non-null object\n",
      "sentiment    25000 non-null int64\n",
      "review       25000 non-null object\n",
      "dtypes: int64(1), object(2)\n",
      "memory usage: 586.0+ KB\n"
     ]
    }
   ],
   "source": [
    "data_raw.head()\n",
    "data_raw.info()"
   ]
  },
  {
   "cell_type": "code",
   "execution_count": 9,
   "metadata": {},
   "outputs": [
    {
     "data": {
      "text/plain": [
       "1    0.5\n",
       "0    0.5\n",
       "Name: sentiment, dtype: float64"
      ]
     },
     "execution_count": 9,
     "metadata": {},
     "output_type": "execute_result"
    }
   ],
   "source": [
    "data_raw.sentiment.value_counts(normalize=True)"
   ]
  },
  {
   "cell_type": "markdown",
   "metadata": {},
   "source": [
    "# X  y"
   ]
  },
  {
   "cell_type": "code",
   "execution_count": 10,
   "metadata": {},
   "outputs": [],
   "source": [
    "train_raw = data_raw[:20000]\n",
    "test_raw = data_raw[20000:]\n",
    "\n",
    "# train_raw = data_raw[:2000]\n",
    "# test_raw = data_raw[2000:]"
   ]
  },
  {
   "cell_type": "code",
   "execution_count": 11,
   "metadata": {
    "cell_style": "split"
   },
   "outputs": [
    {
     "data": {
      "text/html": [
       "<div>\n",
       "<style scoped>\n",
       "    .dataframe tbody tr th:only-of-type {\n",
       "        vertical-align: middle;\n",
       "    }\n",
       "\n",
       "    .dataframe tbody tr th {\n",
       "        vertical-align: top;\n",
       "    }\n",
       "\n",
       "    .dataframe thead th {\n",
       "        text-align: right;\n",
       "    }\n",
       "</style>\n",
       "<table border=\"1\" class=\"dataframe\">\n",
       "  <thead>\n",
       "    <tr style=\"text-align: right;\">\n",
       "      <th></th>\n",
       "      <th>id</th>\n",
       "      <th>sentiment</th>\n",
       "      <th>review</th>\n",
       "    </tr>\n",
       "  </thead>\n",
       "  <tbody>\n",
       "    <tr>\n",
       "      <th>0</th>\n",
       "      <td>\"5814_8\"</td>\n",
       "      <td>1</td>\n",
       "      <td>\"With all this stuff going down at the moment ...</td>\n",
       "    </tr>\n",
       "    <tr>\n",
       "      <th>1</th>\n",
       "      <td>\"2381_9\"</td>\n",
       "      <td>1</td>\n",
       "      <td>\"\\\"The Classic War of the Worlds\\\" by Timothy ...</td>\n",
       "    </tr>\n",
       "    <tr>\n",
       "      <th>2</th>\n",
       "      <td>\"7759_3\"</td>\n",
       "      <td>0</td>\n",
       "      <td>\"The film starts with a manager (Nicholas Bell...</td>\n",
       "    </tr>\n",
       "    <tr>\n",
       "      <th>3</th>\n",
       "      <td>\"3630_4\"</td>\n",
       "      <td>0</td>\n",
       "      <td>\"It must be assumed that those who praised thi...</td>\n",
       "    </tr>\n",
       "    <tr>\n",
       "      <th>4</th>\n",
       "      <td>\"9495_8\"</td>\n",
       "      <td>1</td>\n",
       "      <td>\"Superbly trashy and wondrously unpretentious ...</td>\n",
       "    </tr>\n",
       "  </tbody>\n",
       "</table>\n",
       "</div>"
      ],
      "text/plain": [
       "         id  sentiment                                             review\n",
       "0  \"5814_8\"          1  \"With all this stuff going down at the moment ...\n",
       "1  \"2381_9\"          1  \"\\\"The Classic War of the Worlds\\\" by Timothy ...\n",
       "2  \"7759_3\"          0  \"The film starts with a manager (Nicholas Bell...\n",
       "3  \"3630_4\"          0  \"It must be assumed that those who praised thi...\n",
       "4  \"9495_8\"          1  \"Superbly trashy and wondrously unpretentious ..."
      ]
     },
     "execution_count": 11,
     "metadata": {},
     "output_type": "execute_result"
    },
    {
     "name": "stdout",
     "output_type": "stream",
     "text": [
      "<class 'pandas.core.frame.DataFrame'>\n",
      "RangeIndex: 20000 entries, 0 to 19999\n",
      "Data columns (total 3 columns):\n",
      "id           20000 non-null object\n",
      "sentiment    20000 non-null int64\n",
      "review       20000 non-null object\n",
      "dtypes: int64(1), object(2)\n",
      "memory usage: 468.8+ KB\n"
     ]
    }
   ],
   "source": [
    "train_raw.head()\n",
    "train_raw.info()"
   ]
  },
  {
   "cell_type": "code",
   "execution_count": 12,
   "metadata": {
    "cell_style": "split"
   },
   "outputs": [
    {
     "data": {
      "text/html": [
       "<div>\n",
       "<style scoped>\n",
       "    .dataframe tbody tr th:only-of-type {\n",
       "        vertical-align: middle;\n",
       "    }\n",
       "\n",
       "    .dataframe tbody tr th {\n",
       "        vertical-align: top;\n",
       "    }\n",
       "\n",
       "    .dataframe thead th {\n",
       "        text-align: right;\n",
       "    }\n",
       "</style>\n",
       "<table border=\"1\" class=\"dataframe\">\n",
       "  <thead>\n",
       "    <tr style=\"text-align: right;\">\n",
       "      <th></th>\n",
       "      <th>id</th>\n",
       "      <th>sentiment</th>\n",
       "      <th>review</th>\n",
       "    </tr>\n",
       "  </thead>\n",
       "  <tbody>\n",
       "    <tr>\n",
       "      <th>20000</th>\n",
       "      <td>\"3862_4\"</td>\n",
       "      <td>0</td>\n",
       "      <td>\"I just watched it. A couple of laughs, but no...</td>\n",
       "    </tr>\n",
       "    <tr>\n",
       "      <th>20001</th>\n",
       "      <td>\"674_10\"</td>\n",
       "      <td>1</td>\n",
       "      <td>\"While to most people watching the movie, this...</td>\n",
       "    </tr>\n",
       "    <tr>\n",
       "      <th>20002</th>\n",
       "      <td>\"8828_10\"</td>\n",
       "      <td>1</td>\n",
       "      <td>\"I was so glad I came across this short film. ...</td>\n",
       "    </tr>\n",
       "    <tr>\n",
       "      <th>20003</th>\n",
       "      <td>\"2963_8\"</td>\n",
       "      <td>1</td>\n",
       "      <td>\"The creators of south park in their own film ...</td>\n",
       "    </tr>\n",
       "    <tr>\n",
       "      <th>20004</th>\n",
       "      <td>\"2483_1\"</td>\n",
       "      <td>0</td>\n",
       "      <td>\"Unspeakably discombobulated turkey, a mix of ...</td>\n",
       "    </tr>\n",
       "  </tbody>\n",
       "</table>\n",
       "</div>"
      ],
      "text/plain": [
       "              id  sentiment                                             review\n",
       "20000   \"3862_4\"          0  \"I just watched it. A couple of laughs, but no...\n",
       "20001   \"674_10\"          1  \"While to most people watching the movie, this...\n",
       "20002  \"8828_10\"          1  \"I was so glad I came across this short film. ...\n",
       "20003   \"2963_8\"          1  \"The creators of south park in their own film ...\n",
       "20004   \"2483_1\"          0  \"Unspeakably discombobulated turkey, a mix of ..."
      ]
     },
     "execution_count": 12,
     "metadata": {},
     "output_type": "execute_result"
    },
    {
     "name": "stdout",
     "output_type": "stream",
     "text": [
      "<class 'pandas.core.frame.DataFrame'>\n",
      "RangeIndex: 5000 entries, 20000 to 24999\n",
      "Data columns (total 3 columns):\n",
      "id           5000 non-null object\n",
      "sentiment    5000 non-null int64\n",
      "review       5000 non-null object\n",
      "dtypes: int64(1), object(2)\n",
      "memory usage: 117.3+ KB\n"
     ]
    }
   ],
   "source": [
    "test_raw.head()\n",
    "test_raw.info()"
   ]
  },
  {
   "cell_type": "code",
   "execution_count": 13,
   "metadata": {},
   "outputs": [],
   "source": [
    "X = train_raw[:20000][['review']]\n",
    "y = train_raw[:20000][['sentiment']]"
   ]
  },
  {
   "cell_type": "code",
   "execution_count": 14,
   "metadata": {},
   "outputs": [],
   "source": [
    "X_train, X_val, y_train, y_val = train_test_split(X, y, test_size=0.25, random_state=random_state)    "
   ]
  },
  {
   "cell_type": "code",
   "execution_count": 15,
   "metadata": {
    "cell_style": "split"
   },
   "outputs": [
    {
     "data": {
      "text/plain": [
       "(15000, 1)"
      ]
     },
     "execution_count": 15,
     "metadata": {},
     "output_type": "execute_result"
    },
    {
     "data": {
      "text/html": [
       "<div>\n",
       "<style scoped>\n",
       "    .dataframe tbody tr th:only-of-type {\n",
       "        vertical-align: middle;\n",
       "    }\n",
       "\n",
       "    .dataframe tbody tr th {\n",
       "        vertical-align: top;\n",
       "    }\n",
       "\n",
       "    .dataframe thead th {\n",
       "        text-align: right;\n",
       "    }\n",
       "</style>\n",
       "<table border=\"1\" class=\"dataframe\">\n",
       "  <thead>\n",
       "    <tr style=\"text-align: right;\">\n",
       "      <th></th>\n",
       "      <th>review</th>\n",
       "    </tr>\n",
       "  </thead>\n",
       "  <tbody>\n",
       "    <tr>\n",
       "      <th>5514</th>\n",
       "      <td>\"There is a DVD published in the UK in 2002 Co...</td>\n",
       "    </tr>\n",
       "    <tr>\n",
       "      <th>1266</th>\n",
       "      <td>\"Frownland is like one of those intensely emba...</td>\n",
       "    </tr>\n",
       "    <tr>\n",
       "      <th>5864</th>\n",
       "      <td>\"I rented this because I'm a bit weary of '80s...</td>\n",
       "    </tr>\n",
       "    <tr>\n",
       "      <th>15865</th>\n",
       "      <td>\"I like bad movies. I like to rent bad movies ...</td>\n",
       "    </tr>\n",
       "    <tr>\n",
       "      <th>12892</th>\n",
       "      <td>\"The story line was very straight forward and ...</td>\n",
       "    </tr>\n",
       "  </tbody>\n",
       "</table>\n",
       "</div>"
      ],
      "text/plain": [
       "                                                  review\n",
       "5514   \"There is a DVD published in the UK in 2002 Co...\n",
       "1266   \"Frownland is like one of those intensely emba...\n",
       "5864   \"I rented this because I'm a bit weary of '80s...\n",
       "15865  \"I like bad movies. I like to rent bad movies ...\n",
       "12892  \"The story line was very straight forward and ..."
      ]
     },
     "execution_count": 15,
     "metadata": {},
     "output_type": "execute_result"
    },
    {
     "data": {
      "text/plain": [
       "(15000, 1)"
      ]
     },
     "execution_count": 15,
     "metadata": {},
     "output_type": "execute_result"
    },
    {
     "data": {
      "text/html": [
       "<div>\n",
       "<style scoped>\n",
       "    .dataframe tbody tr th:only-of-type {\n",
       "        vertical-align: middle;\n",
       "    }\n",
       "\n",
       "    .dataframe tbody tr th {\n",
       "        vertical-align: top;\n",
       "    }\n",
       "\n",
       "    .dataframe thead th {\n",
       "        text-align: right;\n",
       "    }\n",
       "</style>\n",
       "<table border=\"1\" class=\"dataframe\">\n",
       "  <thead>\n",
       "    <tr style=\"text-align: right;\">\n",
       "      <th></th>\n",
       "      <th>sentiment</th>\n",
       "    </tr>\n",
       "  </thead>\n",
       "  <tbody>\n",
       "    <tr>\n",
       "      <th>5514</th>\n",
       "      <td>0</td>\n",
       "    </tr>\n",
       "    <tr>\n",
       "      <th>1266</th>\n",
       "      <td>1</td>\n",
       "    </tr>\n",
       "    <tr>\n",
       "      <th>5864</th>\n",
       "      <td>0</td>\n",
       "    </tr>\n",
       "    <tr>\n",
       "      <th>15865</th>\n",
       "      <td>0</td>\n",
       "    </tr>\n",
       "    <tr>\n",
       "      <th>12892</th>\n",
       "      <td>0</td>\n",
       "    </tr>\n",
       "  </tbody>\n",
       "</table>\n",
       "</div>"
      ],
      "text/plain": [
       "       sentiment\n",
       "5514           0\n",
       "1266           1\n",
       "5864           0\n",
       "15865          0\n",
       "12892          0"
      ]
     },
     "execution_count": 15,
     "metadata": {},
     "output_type": "execute_result"
    }
   ],
   "source": [
    "X_train.shape\n",
    "X_train.head()\n",
    "y_train.shape \n",
    "y_train.head()"
   ]
  },
  {
   "cell_type": "code",
   "execution_count": 16,
   "metadata": {
    "cell_style": "split"
   },
   "outputs": [
    {
     "data": {
      "text/plain": [
       "(5000, 1)"
      ]
     },
     "execution_count": 16,
     "metadata": {},
     "output_type": "execute_result"
    },
    {
     "data": {
      "text/html": [
       "<div>\n",
       "<style scoped>\n",
       "    .dataframe tbody tr th:only-of-type {\n",
       "        vertical-align: middle;\n",
       "    }\n",
       "\n",
       "    .dataframe tbody tr th {\n",
       "        vertical-align: top;\n",
       "    }\n",
       "\n",
       "    .dataframe thead th {\n",
       "        text-align: right;\n",
       "    }\n",
       "</style>\n",
       "<table border=\"1\" class=\"dataframe\">\n",
       "  <thead>\n",
       "    <tr style=\"text-align: right;\">\n",
       "      <th></th>\n",
       "      <th>review</th>\n",
       "    </tr>\n",
       "  </thead>\n",
       "  <tbody>\n",
       "    <tr>\n",
       "      <th>10650</th>\n",
       "      <td>\"I can't believe that Steven Segal's career ha...</td>\n",
       "    </tr>\n",
       "    <tr>\n",
       "      <th>2041</th>\n",
       "      <td>\"I wasn't quite sure if this was just going to...</td>\n",
       "    </tr>\n",
       "    <tr>\n",
       "      <th>8668</th>\n",
       "      <td>\"First of all, if you'r a fan of the comic, we...</td>\n",
       "    </tr>\n",
       "    <tr>\n",
       "      <th>1114</th>\n",
       "      <td>\"I really liked this movie, and went back to s...</td>\n",
       "    </tr>\n",
       "    <tr>\n",
       "      <th>13902</th>\n",
       "      <td>\"Yes, CHUNKY, this is the nick-name that Donna...</td>\n",
       "    </tr>\n",
       "  </tbody>\n",
       "</table>\n",
       "</div>"
      ],
      "text/plain": [
       "                                                  review\n",
       "10650  \"I can't believe that Steven Segal's career ha...\n",
       "2041   \"I wasn't quite sure if this was just going to...\n",
       "8668   \"First of all, if you'r a fan of the comic, we...\n",
       "1114   \"I really liked this movie, and went back to s...\n",
       "13902  \"Yes, CHUNKY, this is the nick-name that Donna..."
      ]
     },
     "execution_count": 16,
     "metadata": {},
     "output_type": "execute_result"
    },
    {
     "data": {
      "text/plain": [
       "(5000, 1)"
      ]
     },
     "execution_count": 16,
     "metadata": {},
     "output_type": "execute_result"
    },
    {
     "data": {
      "text/html": [
       "<div>\n",
       "<style scoped>\n",
       "    .dataframe tbody tr th:only-of-type {\n",
       "        vertical-align: middle;\n",
       "    }\n",
       "\n",
       "    .dataframe tbody tr th {\n",
       "        vertical-align: top;\n",
       "    }\n",
       "\n",
       "    .dataframe thead th {\n",
       "        text-align: right;\n",
       "    }\n",
       "</style>\n",
       "<table border=\"1\" class=\"dataframe\">\n",
       "  <thead>\n",
       "    <tr style=\"text-align: right;\">\n",
       "      <th></th>\n",
       "      <th>sentiment</th>\n",
       "    </tr>\n",
       "  </thead>\n",
       "  <tbody>\n",
       "    <tr>\n",
       "      <th>10650</th>\n",
       "      <td>0</td>\n",
       "    </tr>\n",
       "    <tr>\n",
       "      <th>2041</th>\n",
       "      <td>1</td>\n",
       "    </tr>\n",
       "    <tr>\n",
       "      <th>8668</th>\n",
       "      <td>0</td>\n",
       "    </tr>\n",
       "    <tr>\n",
       "      <th>1114</th>\n",
       "      <td>1</td>\n",
       "    </tr>\n",
       "    <tr>\n",
       "      <th>13902</th>\n",
       "      <td>0</td>\n",
       "    </tr>\n",
       "  </tbody>\n",
       "</table>\n",
       "</div>"
      ],
      "text/plain": [
       "       sentiment\n",
       "10650          0\n",
       "2041           1\n",
       "8668           0\n",
       "1114           1\n",
       "13902          0"
      ]
     },
     "execution_count": 16,
     "metadata": {},
     "output_type": "execute_result"
    }
   ],
   "source": [
    "X_val.shape \n",
    "X_val.head()\n",
    "y_val.shape\n",
    "y_val.head()"
   ]
  },
  {
   "cell_type": "code",
   "execution_count": 17,
   "metadata": {},
   "outputs": [
    {
     "data": {
      "text/html": [
       "<div>\n",
       "<style scoped>\n",
       "    .dataframe tbody tr th:only-of-type {\n",
       "        vertical-align: middle;\n",
       "    }\n",
       "\n",
       "    .dataframe tbody tr th {\n",
       "        vertical-align: top;\n",
       "    }\n",
       "\n",
       "    .dataframe thead th {\n",
       "        text-align: right;\n",
       "    }\n",
       "</style>\n",
       "<table border=\"1\" class=\"dataframe\">\n",
       "  <thead>\n",
       "    <tr style=\"text-align: right;\">\n",
       "      <th></th>\n",
       "      <th>id</th>\n",
       "      <th>sentiment</th>\n",
       "      <th>review</th>\n",
       "    </tr>\n",
       "  </thead>\n",
       "  <tbody>\n",
       "    <tr>\n",
       "      <th>20000</th>\n",
       "      <td>\"3862_4\"</td>\n",
       "      <td>0</td>\n",
       "      <td>\"I just watched it. A couple of laughs, but no...</td>\n",
       "    </tr>\n",
       "    <tr>\n",
       "      <th>20001</th>\n",
       "      <td>\"674_10\"</td>\n",
       "      <td>1</td>\n",
       "      <td>\"While to most people watching the movie, this...</td>\n",
       "    </tr>\n",
       "    <tr>\n",
       "      <th>20002</th>\n",
       "      <td>\"8828_10\"</td>\n",
       "      <td>1</td>\n",
       "      <td>\"I was so glad I came across this short film. ...</td>\n",
       "    </tr>\n",
       "    <tr>\n",
       "      <th>20003</th>\n",
       "      <td>\"2963_8\"</td>\n",
       "      <td>1</td>\n",
       "      <td>\"The creators of south park in their own film ...</td>\n",
       "    </tr>\n",
       "    <tr>\n",
       "      <th>20004</th>\n",
       "      <td>\"2483_1\"</td>\n",
       "      <td>0</td>\n",
       "      <td>\"Unspeakably discombobulated turkey, a mix of ...</td>\n",
       "    </tr>\n",
       "  </tbody>\n",
       "</table>\n",
       "</div>"
      ],
      "text/plain": [
       "              id  sentiment                                             review\n",
       "20000   \"3862_4\"          0  \"I just watched it. A couple of laughs, but no...\n",
       "20001   \"674_10\"          1  \"While to most people watching the movie, this...\n",
       "20002  \"8828_10\"          1  \"I was so glad I came across this short film. ...\n",
       "20003   \"2963_8\"          1  \"The creators of south park in their own film ...\n",
       "20004   \"2483_1\"          0  \"Unspeakably discombobulated turkey, a mix of ..."
      ]
     },
     "execution_count": 17,
     "metadata": {},
     "output_type": "execute_result"
    }
   ],
   "source": [
    "test_raw.head()"
   ]
  },
  {
   "cell_type": "code",
   "execution_count": 18,
   "metadata": {},
   "outputs": [],
   "source": [
    "X_test = test_raw[['review']]\n",
    "y_test = test_raw[['sentiment']]"
   ]
  },
  {
   "cell_type": "code",
   "execution_count": 19,
   "metadata": {},
   "outputs": [
    {
     "data": {
      "text/plain": [
       "(5000, 1)"
      ]
     },
     "execution_count": 19,
     "metadata": {},
     "output_type": "execute_result"
    },
    {
     "data": {
      "text/plain": [
       "(5000, 1)"
      ]
     },
     "execution_count": 19,
     "metadata": {},
     "output_type": "execute_result"
    }
   ],
   "source": [
    "X_test.shape\n",
    "y_test.shape"
   ]
  },
  {
   "cell_type": "code",
   "execution_count": null,
   "metadata": {},
   "outputs": [],
   "source": []
  },
  {
   "cell_type": "code",
   "execution_count": 20,
   "metadata": {
    "cell_style": "split",
    "scrolled": true
   },
   "outputs": [
    {
     "data": {
      "text/plain": [
       "(15000, 1)"
      ]
     },
     "execution_count": 20,
     "metadata": {},
     "output_type": "execute_result"
    },
    {
     "data": {
      "text/plain": [
       "pandas.core.frame.DataFrame"
      ]
     },
     "execution_count": 20,
     "metadata": {},
     "output_type": "execute_result"
    }
   ],
   "source": [
    "X_train.shape\n",
    "# X_train.info()\n",
    "type(X_train)"
   ]
  },
  {
   "cell_type": "code",
   "execution_count": 21,
   "metadata": {
    "cell_style": "split",
    "scrolled": true
   },
   "outputs": [
    {
     "data": {
      "text/plain": [
       "(15000, 1)"
      ]
     },
     "execution_count": 21,
     "metadata": {},
     "output_type": "execute_result"
    },
    {
     "data": {
      "text/plain": [
       "pandas.core.frame.DataFrame"
      ]
     },
     "execution_count": 21,
     "metadata": {},
     "output_type": "execute_result"
    }
   ],
   "source": [
    "y_train.shape\n",
    "# y_train.info()\n",
    "type(y_train)"
   ]
  },
  {
   "cell_type": "code",
   "execution_count": 22,
   "metadata": {
    "cell_style": "split"
   },
   "outputs": [
    {
     "data": {
      "text/plain": [
       "(5000, 1)"
      ]
     },
     "execution_count": 22,
     "metadata": {},
     "output_type": "execute_result"
    },
    {
     "data": {
      "text/plain": [
       "pandas.core.frame.DataFrame"
      ]
     },
     "execution_count": 22,
     "metadata": {},
     "output_type": "execute_result"
    }
   ],
   "source": [
    "X_test.shape\n",
    "# X_test.info()\n",
    "type(X_test)"
   ]
  },
  {
   "cell_type": "code",
   "execution_count": 23,
   "metadata": {
    "cell_style": "split"
   },
   "outputs": [
    {
     "data": {
      "text/plain": [
       "(5000, 1)"
      ]
     },
     "execution_count": 23,
     "metadata": {},
     "output_type": "execute_result"
    },
    {
     "data": {
      "text/plain": [
       "pandas.core.frame.DataFrame"
      ]
     },
     "execution_count": 23,
     "metadata": {},
     "output_type": "execute_result"
    }
   ],
   "source": [
    "y_test.shape\n",
    "# y_train.info()\n",
    "type(y_test)"
   ]
  },
  {
   "cell_type": "code",
   "execution_count": null,
   "metadata": {},
   "outputs": [],
   "source": []
  },
  {
   "cell_type": "markdown",
   "metadata": {},
   "source": [
    "# PRE LOADING"
   ]
  },
  {
   "cell_type": "code",
   "execution_count": 24,
   "metadata": {},
   "outputs": [],
   "source": [
    "def tokenizer_split(text):\n",
    "    return [porter.stem(w) for w in text.split(' ')]\n",
    "\n",
    "def tokenizer_porter(text):\n",
    "    return [porter.stem(w) for w in text.split(' ') if not w in stop_words ]\n",
    "\n",
    "tfidf = TfidfVectorizer(strip_accents=None, lowercase=False, preprocessor=None)"
   ]
  },
  {
   "cell_type": "code",
   "execution_count": 25,
   "metadata": {},
   "outputs": [],
   "source": [
    "master = Super_Analytica()"
   ]
  },
  {
   "cell_type": "code",
   "execution_count": 26,
   "metadata": {},
   "outputs": [],
   "source": [
    "stop_words = nltk.corpus.stopwords.words('english')\n",
    "porter = PorterStemmer()"
   ]
  },
  {
   "cell_type": "code",
   "execution_count": 27,
   "metadata": {},
   "outputs": [],
   "source": [
    "%run ../modules/params_imdb.ipynb"
   ]
  },
  {
   "cell_type": "code",
   "execution_count": null,
   "metadata": {},
   "outputs": [],
   "source": []
  },
  {
   "cell_type": "markdown",
   "metadata": {},
   "source": [
    "# KNN"
   ]
  },
  {
   "cell_type": "code",
   "execution_count": 28,
   "metadata": {
    "deletable": false,
    "editable": false,
    "run_control": {
     "frozen": true
    }
   },
   "outputs": [],
   "source": [
    "best_params = {\n",
    "    'vec__max_df': 0.9,\n",
    "    'vec__min_df': 2,\n",
    "    'vec__ngram_range': (1, 3),\n",
    "    'vec__sublinear_tf': True\n",
    "}"
   ]
  },
  {
   "cell_type": "code",
   "execution_count": 29,
   "metadata": {
    "deletable": false,
    "editable": false,
    "run_control": {
     "frozen": true
    }
   },
   "outputs": [],
   "source": [
    "pipe_11 = Pipeline([\n",
    "    ('col', Col_Extractor(['review'])),\n",
    "    ('prep', Preprocessor()),\n",
    "    ('to_array', To_array()),\n",
    "    ('vec', TfidfVectorizer(max_features=20000, stop_words='english'))\n",
    "])\n",
    "pipe_11_vect =  clone(pipe_11).set_params(**best_params)"
   ]
  },
  {
   "cell_type": "code",
   "execution_count": 30,
   "metadata": {
    "deletable": false,
    "editable": false,
    "run_control": {
     "frozen": true
    }
   },
   "outputs": [],
   "source": [
    "param['KNN_HP_no_vect'] = {\n",
    "    'vec__ngram_range': hp.choice('vec__ngram_range', [(1, 1), (1, 2), (1, 3)]),\n",
    "    'vec__min_df': 1+hp.randint('vec__min_df', 3),\n",
    "    'vec__max_df': hp.uniform('vec__max_df', 0.7, 1.0),\n",
    "    'vec__sublinear_tf': hp.choice('vec__sublinear_tf', [True, False]),\n",
    "    'KNN__n_neighbors': hp.choice('KNN__n_neighbors', [5, 10, 20, 50, 100])\n",
    "}"
   ]
  },
  {
   "cell_type": "code",
   "execution_count": 31,
   "metadata": {
    "deletable": false,
    "editable": false,
    "run_control": {
     "frozen": true
    }
   },
   "outputs": [],
   "source": [
    "param['KNN_HP_vect'] = {\n",
    "    'n_neighbors': hp.choice('KNN__n_neighbors', [5, 10, 20, 50, 100])\n",
    "}"
   ]
  },
  {
   "cell_type": "code",
   "execution_count": 32,
   "metadata": {
    "deletable": false,
    "editable": false,
    "run_control": {
     "frozen": true
    },
    "scrolled": false
   },
   "outputs": [
    {
     "name": "stdout",
     "output_type": "stream",
     "text": [
      "val score:  0.8130550171930228\n",
      "val score:  0.8136701451650814\n",
      "val score:  0.783616795673672\n",
      "val score:  0.7809878016019087\n",
      "val score:  0.8462655276012377\n",
      "val score:  0.8047954701492931\n",
      "val score:  0.8167400249507233\n",
      "val score:  0.8036204949216141\n",
      "val score:  0.7813964468979517\n",
      "val score:  0.795839274076992\n",
      "val score:  0.8207861573885998\n",
      "val score:  0.8084306372610589\n",
      "val score:  0.8096234527199472\n",
      "val score:  0.8202415903310107\n",
      "val score:  0.797042169666519\n",
      "val score:  0.8213825651180439\n",
      "val score:  0.7868332373587562\n",
      "val score:  0.7846276087738097\n",
      "val score:  0.7860346670092844\n",
      "val score:  0.8213825651180439\n",
      "val score:  0.8474684231907645\n",
      "val score:  0.8474684231907645\n",
      "val score:  0.8474684231907645\n",
      "val score:  0.8474684231907645\n",
      "val score:  0.8345208153897674\n",
      "val score:  0.8474684231907645\n",
      "val score:  0.8474684231907645\n",
      "val score:  0.8474684231907645\n",
      "val score:  0.8345208153897674\n",
      "val score:  0.8474684231907645\n",
      "acc : 0.9109078642824955\n",
      "KNN_HP_val_1  HP3_vect_val and pickled to disk Done in 14.0  minutes\n"
     ]
    }
   ],
   "source": [
    "md_KNN1 = Analytica_Bolada('KNN', param['KNN_HP_no_vect'], 'KNN_HP_val_1')\n",
    "md_KNN1.evaluate_HP3_vect_val(pipe_11, pkl_W=True, vectorize_first=False) "
   ]
  },
  {
   "cell_type": "code",
   "execution_count": 33,
   "metadata": {
    "deletable": false,
    "editable": false,
    "run_control": {
     "frozen": true
    }
   },
   "outputs": [
    {
     "name": "stdout",
     "output_type": "stream",
     "text": [
      "val score:  0.8074270242542344\n",
      "val score:  0.833428801237264\n",
      "val score:  0.833428801237264\n",
      "val score:  0.833428801237264\n",
      "val score:  0.8441641403672592\n",
      "val score:  0.8441641403672592\n",
      "val score:  0.833428801237264\n",
      "val score:  0.8074270242542344\n",
      "val score:  0.833428801237264\n",
      "val score:  0.833428801237264\n",
      "val score:  0.8441641403672592\n",
      "val score:  0.8220452137059696\n",
      "val score:  0.8220452137059696\n",
      "val score:  0.8441641403672592\n",
      "val score:  0.8220452137059696\n",
      "val score:  0.833428801237264\n",
      "val score:  0.833428801237264\n",
      "val score:  0.7988285128175261\n",
      "val score:  0.8441641403672592\n",
      "val score:  0.7988285128175261\n",
      "val score:  0.8441641403672592\n",
      "val score:  0.8441641403672592\n",
      "val score:  0.8441641403672592\n",
      "val score:  0.8441641403672592\n",
      "val score:  0.8441641403672592\n",
      "val score:  0.8441641403672592\n",
      "val score:  0.8074270242542344\n",
      "val score:  0.7988285128175261\n",
      "val score:  0.8074270242542344\n",
      "val score:  0.8441641403672592\n",
      "acc : 0.9153389801216665\n",
      "KNN_HP_val_vect_1  HP3_vect_val and pickled to disk Done in 7.0  minutes\n"
     ]
    }
   ],
   "source": [
    "md_KNN2 = Analytica_Bolada('KNN', param['KNN_HP_vect'], 'KNN_HP_val_vect_1')\n",
    "md_KNN2.evaluate_HP3_vect_val(pipe_11_vect, pkl_W=True, vectorize_first=True) "
   ]
  },
  {
   "cell_type": "code",
   "execution_count": null,
   "metadata": {
    "deletable": false,
    "editable": false,
    "run_control": {
     "frozen": true
    }
   },
   "outputs": [],
   "source": []
  },
  {
   "cell_type": "markdown",
   "metadata": {
    "deletable": false,
    "editable": false,
    "run_control": {
     "frozen": true
    }
   },
   "source": [
    "# TREES"
   ]
  },
  {
   "cell_type": "code",
   "execution_count": 34,
   "metadata": {
    "deletable": false,
    "editable": false,
    "run_control": {
     "frozen": true
    },
    "scrolled": false
   },
   "outputs": [
    {
     "data": {
      "text/plain": [
       "['DT', 'ADA', 'RF', 'XT']"
      ]
     },
     "execution_count": 34,
     "metadata": {},
     "output_type": "execute_result"
    }
   ],
   "source": [
    "clf_T"
   ]
  },
  {
   "cell_type": "code",
   "execution_count": 35,
   "metadata": {
    "deletable": false,
    "editable": false,
    "run_control": {
     "frozen": true
    }
   },
   "outputs": [],
   "source": [
    "class LemmaTokenizer(object):\n",
    "    def __init__(self):\n",
    "        self.wnl = WordNetLemmatizer()\n",
    "\n",
    "    def __call__(self, doc):\n",
    "        return [self.wnl.lemmatize(t) for t in word_tokenize(doc)]\n",
    "\n",
    "\n",
    "pipe_9 = Pipeline([\n",
    "    ('col', Col_Extractor(['review'])),\n",
    "    ('prep', Preprocessor()),\n",
    "    ('to_array', To_array()),\n",
    "    ('vec', TfidfVectorizer(max_features=4000, stop_words='english', tokenizer=LemmaTokenizer())),\n",
    "    ('kbest', SelectPercentile(chi2))\n",
    "])\n",
    "\n",
    "\n",
    "pipe_9_vect =  clone(pipe_9).set_params(**best_params)"
   ]
  },
  {
   "cell_type": "markdown",
   "metadata": {
    "deletable": false,
    "editable": false,
    "run_control": {
     "frozen": true
    }
   },
   "source": [
    "## RF\n"
   ]
  },
  {
   "cell_type": "code",
   "execution_count": null,
   "metadata": {
    "deletable": false,
    "editable": false,
    "run_control": {
     "frozen": true
    }
   },
   "outputs": [],
   "source": []
  },
  {
   "cell_type": "code",
   "execution_count": 36,
   "metadata": {
    "deletable": false,
    "editable": false,
    "run_control": {
     "frozen": true
    }
   },
   "outputs": [],
   "source": [
    "param['RF_HP_no_vect'] = {'vec__ngram_range': hp.choice('vec__ngram_range', [(1, 1), (1, 2), (1, 3)]),\n",
    "                    'vec__min_df': 1+hp.randint('vec__min_df', 3),\n",
    "                    'vec__max_df': hp.uniform('vec__max_df', 0.7, 1.0),\n",
    "                    'vec__sublinear_tf': hp.choice('vec__sublinear_tf', [True, False]),\n",
    "                    'kbest__percentile': hp.uniform('kbest__percentile', 50, 100),\n",
    "                    'RF__n_estimators': hp.choice('XRF__n_estimators', [1, 10, 100]),\n",
    "                    'RF__min_samples_split': hp.choice(\"XRF__min_samples_split\", [2, 5, 10])\n",
    "                    }\n",
    "\n",
    "param['RF_HP_vect'] = {\n",
    "                    'n_estimators': hp.choice('XRF__n_estimators', [1, 10, 100]),\n",
    "                    'min_samples_split': hp.choice(\"XRF__min_samples_split\", [2, 5, 10])\n",
    "                    }"
   ]
  },
  {
   "cell_type": "code",
   "execution_count": 37,
   "metadata": {
    "deletable": false,
    "editable": false,
    "run_control": {
     "frozen": true
    }
   },
   "outputs": [
    {
     "name": "stdout",
     "output_type": "stream",
     "text": [
      "val score:  0.8437353348099391\n",
      "val score:  0.7761278186165292\n",
      "val score:  0.6437788233735509\n",
      "val score:  0.7918720226614137\n",
      "val score:  0.8517599188085477\n",
      "val score:  0.8425525994816894\n",
      "val score:  0.8433583699244742\n",
      "val score:  0.8443259824647328\n",
      "val score:  0.8465526513223611\n",
      "val score:  0.8441411000686568\n",
      "val score:  0.7979498614302041\n",
      "val score:  0.6608796850007176\n",
      "val score:  0.8515735963938093\n",
      "val score:  0.7931273189300533\n",
      "val score:  0.6830922128750789\n",
      "val score:  0.6721345508637792\n",
      "val score:  0.6562645051879872\n",
      "val score:  0.6811713879811883\n",
      "val score:  0.6773806988538572\n",
      "val score:  0.7805365157532442\n",
      "val score:  0.8509584684217508\n",
      "val score:  0.8485454771493838\n",
      "val score:  0.8519577613725874\n",
      "val score:  0.8515577561885203\n",
      "val score:  0.8509555883844255\n",
      "val score:  0.8491721252707435\n",
      "val score:  0.846556971378349\n",
      "val score:  0.8477670670611891\n",
      "val score:  0.8495778905294613\n",
      "val score:  0.8507390255777715\n",
      "acc : 0.9237371535885461\n",
      "RF_HP_val_1  HP3_vect_val and pickled to disk Done in 33.0  minutes\n"
     ]
    }
   ],
   "source": [
    "md_RF1 = Analytica_Bolada('RF', param['RF_HP_no_vect'], 'RF_HP_val_1')\n",
    "md_RF1.evaluate_HP3_vect_val(pipe_9, pkl_W=True, vectorize_first=False) \n",
    "# max_yter = 3 --> 16 min\n",
    "# max_iter = 20 --> ?? min"
   ]
  },
  {
   "cell_type": "code",
   "execution_count": 38,
   "metadata": {
    "deletable": false,
    "editable": false,
    "run_control": {
     "frozen": true
    }
   },
   "outputs": [
    {
     "name": "stdout",
     "output_type": "stream",
     "text": [
      "val score:  0.8333438401361682\n",
      "val score:  0.8131399782941187\n",
      "val score:  0.6929218602673091\n",
      "val score:  0.7981957846173687\n",
      "val score:  0.8299329959316273\n",
      "val score:  0.8081262333159838\n",
      "val score:  0.8299329959316273\n",
      "val score:  0.83474745832706\n",
      "val score:  0.7981957846173687\n",
      "val score:  0.8081262333159838\n",
      "val score:  0.7061249113788515\n",
      "val score:  0.8131399782941187\n",
      "val score:  0.7035342378037218\n",
      "val score:  0.7981957846173687\n",
      "val score:  0.8131399782941187\n",
      "val score:  0.7035342378037218\n",
      "val score:  0.7981957846173687\n",
      "val score:  0.7061249113788515\n",
      "val score:  0.7981957846173687\n",
      "val score:  0.7035342378037218\n",
      "val score:  0.8333438401361682\n",
      "val score:  0.8333438401361682\n",
      "val score:  0.8333438401361682\n",
      "val score:  0.83474745832706\n",
      "val score:  0.83474745832706\n",
      "val score:  0.83474745832706\n",
      "val score:  0.83474745832706\n",
      "val score:  0.83474745832706\n",
      "val score:  0.83474745832706\n",
      "val score:  0.83474745832706\n",
      "acc : 0.9131006193416904\n",
      "RF_HP_val_vect_1  HP3_vect_val and pickled to disk Done in 4.0  minutes\n"
     ]
    }
   ],
   "source": [
    "md_RF2 = Analytica_Bolada('RF', param['RF_HP_vect'], 'RF_HP_val_vect_1')\n",
    "md_RF2.evaluate_HP3_vect_val(pipe_9_vect, pkl_W=True, vectorize_first=True) \n",
    "# max_yter = 3 --> 16 min\n",
    "# max_iter = 20 --> ?? min"
   ]
  },
  {
   "cell_type": "markdown",
   "metadata": {
    "deletable": false,
    "editable": false,
    "run_control": {
     "frozen": true
    }
   },
   "source": [
    "## XT"
   ]
  },
  {
   "cell_type": "code",
   "execution_count": 39,
   "metadata": {
    "deletable": false,
    "editable": false,
    "run_control": {
     "frozen": true
    }
   },
   "outputs": [],
   "source": [
    "param['XT_HP_no_vect'] = {\n",
    "    'vec__ngram_range': hp.choice('vec__ngram_range', [(1, 1), (1, 2), (1, 3)]),\n",
    "    'vec__min_df': 1+hp.randint('vec__min_df', 3),\n",
    "    'vec__max_df': hp.uniform('vec__max_df', 0.7, 1.0),\n",
    "    \"XT__n_estimators\": hp.choice('XT__n_estimators', [10, 50, 100, 300 ,500, 1000]),\n",
    "    \"XT__max_features\": hp.choice(\"XT__max_features\", ['auto', 'sqrt'])  \n",
    "}\n",
    "\n",
    "param['XT_HP_vect'] = {\n",
    "    \"n_estimators\": hp.choice('XT__n_estimators', [10, 50, 100, 300 ,500, 1000]),\n",
    "    \"max_features\": hp.choice(\"XT__max_features\", ['auto', 'sqrt'])  \n",
    "}"
   ]
  },
  {
   "cell_type": "code",
   "execution_count": 40,
   "metadata": {
    "deletable": false,
    "editable": false,
    "run_control": {
     "frozen": true
    }
   },
   "outputs": [
    {
     "name": "stdout",
     "output_type": "stream",
     "text": [
      "val score:  0.8541541898383003\n",
      "val score:  0.8553527653718391\n",
      "val score:  0.8547721978476841\n",
      "val score:  0.8493613277228073\n",
      "val score:  0.8547721978476841\n",
      "val score:  0.8553527653718391\n",
      "val score:  0.8553570854278272\n",
      "val score:  0.8539520272182728\n",
      "val score:  0.8427403619150905\n",
      "val score:  0.8563592584159891\n",
      "val score:  0.8545513149850423\n",
      "val score:  0.8098175352352566\n",
      "val score:  0.8521469638246512\n",
      "val score:  0.8553527653718391\n",
      "val score:  0.8098175352352566\n",
      "val score:  0.8565499008867155\n",
      "val score:  0.8096312128205181\n",
      "val score:  0.8077901489603304\n",
      "val score:  0.8533584995261538\n",
      "val score:  0.8505469430883823\n",
      "val score:  0.8563592584159891\n",
      "val score:  0.8563592584159891\n",
      "val score:  0.8565499008867155\n",
      "val score:  0.8565499008867155\n",
      "val score:  0.8443259824647328\n",
      "val score:  0.8565499008867155\n",
      "val score:  0.8565499008867155\n",
      "val score:  0.8543505923836773\n",
      "val score:  0.8561657359079374\n",
      "val score:  0.8443259824647328\n",
      "acc : 0.9282165154797019\n",
      "XT_HP_val_1  HP3_vect_val and pickled to disk Done in 75.0  minutes\n"
     ]
    }
   ],
   "source": [
    "md_XT_1 = Analytica_Bolada('XT', param['XT_HP_no_vect'], 'XT_HP_val_1')\n",
    "md_XT_1.evaluate_HP3_vect_val(pipe_9, pkl_W=True, vectorize_first=False) "
   ]
  },
  {
   "cell_type": "code",
   "execution_count": 41,
   "metadata": {
    "deletable": false,
    "editable": false,
    "run_control": {
     "frozen": true
    }
   },
   "outputs": [
    {
     "name": "stdout",
     "output_type": "stream",
     "text": [
      "val score:  0.8451403930194934\n",
      "val score:  0.8096240127272047\n",
      "val score:  0.8507534257643979\n",
      "val score:  0.8513541535498301\n",
      "val score:  0.8451403930194934\n",
      "val score:  0.8451403930194934\n",
      "val score:  0.8405309732814138\n",
      "val score:  0.8405309732814138\n",
      "val score:  0.8451403930194934\n",
      "val score:  0.8527577717407218\n",
      "val score:  0.8513541535498301\n",
      "val score:  0.8451403930194934\n",
      "val score:  0.8405309732814138\n",
      "val score:  0.8405309732814138\n",
      "val score:  0.8096240127272047\n",
      "val score:  0.8527577717407218\n",
      "val score:  0.8096240127272047\n",
      "val score:  0.8513541535498301\n",
      "val score:  0.8451403930194934\n",
      "val score:  0.8451403930194934\n",
      "val score:  0.8527577717407218\n",
      "val score:  0.8527577717407218\n",
      "val score:  0.8527577717407218\n",
      "val score:  0.8527577717407218\n",
      "val score:  0.8527577717407218\n",
      "val score:  0.8507534257643979\n",
      "val score:  0.8527577717407218\n",
      "val score:  0.8527577717407218\n",
      "val score:  0.8527577717407218\n",
      "val score:  0.8507534257643979\n",
      "acc : 0.926067845950596\n",
      "XT_HP_val_vect_1  HP3_vect_val and pickled to disk Done in 39.0  minutes\n"
     ]
    }
   ],
   "source": [
    "md_XT_2 = Analytica_Bolada('XT', param['XT_HP_vect'], 'XT_HP_val_vect_1')\n",
    "md_XT_2.evaluate_HP3_vect_val(pipe_9_vect, pkl_W=True, vectorize_first=True) "
   ]
  },
  {
   "cell_type": "markdown",
   "metadata": {
    "deletable": false,
    "editable": false,
    "run_control": {
     "frozen": true
    }
   },
   "source": [
    "# LINEAR"
   ]
  },
  {
   "cell_type": "markdown",
   "metadata": {
    "deletable": false,
    "editable": false,
    "run_control": {
     "frozen": true
    }
   },
   "source": [
    "## LGR"
   ]
  },
  {
   "cell_type": "code",
   "execution_count": 42,
   "metadata": {
    "deletable": false,
    "editable": false,
    "run_control": {
     "frozen": true
    }
   },
   "outputs": [],
   "source": [
    "P_algos = clf_L + ['NB', 'SGDC']"
   ]
  },
  {
   "cell_type": "code",
   "execution_count": 28,
   "metadata": {
    "deletable": false,
    "editable": false,
    "run_control": {
     "frozen": true
    }
   },
   "outputs": [],
   "source": [
    "pipe_4 = Pipeline([\n",
    "    ('col', Col_Extractor(['review'])),\n",
    "    ('prep', Preprocessor()),\n",
    "    ('to_array', To_array()),\n",
    "    ('vec', TfidfVectorizer(stop_words='english'))\n",
    "])\n",
    "\n",
    "best_params = {\n",
    "    'vec__max_df': 0.9,\n",
    "    'vec__min_df': 2,\n",
    "    'vec__ngram_range': (1, 3),\n",
    "    'vec__sublinear_tf': True\n",
    "}\n",
    "\n",
    "pipe_4_vect =  clone(pipe_4).set_params(**best_params)"
   ]
  },
  {
   "cell_type": "code",
   "execution_count": 44,
   "metadata": {
    "deletable": false,
    "editable": false,
    "run_control": {
     "frozen": true
    }
   },
   "outputs": [],
   "source": [
    "# Vectorize first\n",
    "param['LGR_vect'] = {\n",
    "    'C': hp.choice('zz_LGR__C', [1.e-1, 1.e+0, 1.e+1, 1.e+2, 1.e+3]),\n",
    "    'tol': hp.choice('zz_LGR__tol', [1.e-1, 1.e+0, 1.e+1, 1.e+2, 1.e+3])}\n",
    "\n",
    "param['LGR_no_vect'] = {\n",
    "    'LGR__C': hp.choice('zz_LGR__C', [1.e-1, 1.e+0, 1.e+1, 1.e+2, 1.e+3]),\n",
    "    'LGR__tol': hp.choice('zz_LGR__tol', [1.e-1, 1.e+0, 1.e+1, 1.e+2, 1.e+3]),\n",
    "    'vec__ngram_range': hp.choice('vec__ngram_range', [(1, 1), (1, 2), (1, 3)]),\n",
    "    'vec__min_df': 1+hp.randint('vec__min_df', 3),\n",
    "    'vec__max_df': hp.uniform('vec__max_df', 0.7, 1.0)\n",
    "}"
   ]
  },
  {
   "cell_type": "code",
   "execution_count": 45,
   "metadata": {
    "deletable": false,
    "editable": false,
    "run_control": {
     "frozen": true
    }
   },
   "outputs": [
    {
     "name": "stdout",
     "output_type": "stream",
     "text": [
      "val score:  0.5\n",
      "val score:  0.5\n",
      "val score:  0.8910223476496254\n",
      "val score:  0.5\n",
      "val score:  0.5\n",
      "val score:  0.5\n",
      "val score:  0.8676184443350387\n",
      "val score:  0.5\n",
      "val score:  0.5\n",
      "val score:  0.8914237928523553\n",
      "val score:  0.5\n",
      "val score:  0.5\n",
      "val score:  0.5\n",
      "val score:  0.5\n",
      "val score:  0.8594910590041248\n",
      "val score:  0.857321990893002\n",
      "val score:  0.8804301303744896\n",
      "val score:  0.5\n",
      "val score:  0.8554694068835133\n",
      "val score:  0.5\n",
      "val score:  0.8910223476496254\n",
      "val score:  0.8864330881728227\n",
      "val score:  0.8914237928523553\n",
      "val score:  0.8914237928523553\n",
      "val score:  0.8914237928523553\n",
      "val score:  0.8788445098248474\n",
      "val score:  0.8914237928523553\n",
      "val score:  0.88683309335689\n",
      "val score:  0.5\n",
      "val score:  0.8914237928523553\n",
      "acc : 0.9568733101880299\n",
      "LGR_HP_val_1  HP3_vect_val and pickled to disk Done in 8.0  minutes\n"
     ]
    }
   ],
   "source": [
    "md_LGBM1 = Analytica_Bolada('LGR', param['LGR_no_vect'], 'LGR_HP_val_1')\n",
    "md_LGBM1.evaluate_HP3_vect_val(pipe_4, vectorize_first=False, pkl_W=True) "
   ]
  },
  {
   "cell_type": "code",
   "execution_count": 46,
   "metadata": {
    "deletable": false,
    "editable": false,
    "run_control": {
     "frozen": true
    }
   },
   "outputs": [
    {
     "name": "stdout",
     "output_type": "stream",
     "text": [
      "val score:  0.5\n",
      "val score:  0.5\n",
      "val score:  0.8894309670253326\n",
      "val score:  0.5\n",
      "val score:  0.5\n",
      "val score:  0.5\n",
      "val score:  0.5\n",
      "val score:  0.5\n",
      "val score:  0.5\n",
      "val score:  0.5\n",
      "val score:  0.5\n",
      "val score:  0.5\n",
      "val score:  0.5\n",
      "val score:  0.5\n",
      "val score:  0.868053009967009\n",
      "val score:  0.868053009967009\n",
      "val score:  0.8894309670253326\n",
      "val score:  0.5\n",
      "val score:  0.8922310033138028\n",
      "val score:  0.5\n",
      "val score:  0.8922310033138028\n",
      "val score:  0.8922310033138028\n",
      "val score:  0.8922310033138028\n",
      "val score:  0.8922310033138028\n",
      "val score:  0.8922310033138028\n",
      "val score:  0.8922310033138028\n",
      "val score:  0.8866237306435493\n",
      "val score:  0.89502383950896\n",
      "val score:  0.89502383950896\n",
      "val score:  0.89502383950896\n",
      "acc : 0.958747625302118\n",
      "LGR_HP_val_vect_1  HP3_vect_val and pickled to disk Done in 0.0  minutes\n"
     ]
    }
   ],
   "source": [
    "md_LGBM2 = Analytica_Bolada('LGR', param['LGR_vect'], 'LGR_HP_val_vect_1')\n",
    "md_LGBM2.evaluate_HP3_vect_val(pipe_4_vect, vectorize_first=True, pkl_W=True)  "
   ]
  },
  {
   "cell_type": "markdown",
   "metadata": {},
   "source": [
    "## teste apagar depois"
   ]
  },
  {
   "cell_type": "code",
   "execution_count": 28,
   "metadata": {},
   "outputs": [],
   "source": [
    "pipe_4 = Pipeline([\n",
    "    ('col', Col_Extractor(['review'])),\n",
    "    ('prep', Preprocessor()),\n",
    "    ('to_array', To_array()),\n",
    "    ('vec', TfidfVectorizer(stop_words='english')),\n",
    "    ('svd', TruncatedSVD(n_components=1200))\n",
    "])\n",
    "\n",
    "best_params = {\n",
    "    'vec__max_df': 0.9,\n",
    "    'vec__min_df': 2,\n",
    "    'vec__ngram_range': (1, 3),\n",
    "    'vec__sublinear_tf': True\n",
    "}\n",
    "\n",
    "pipe_4_vect =  clone(pipe_4).set_params(**best_params)"
   ]
  },
  {
   "cell_type": "code",
   "execution_count": 29,
   "metadata": {},
   "outputs": [],
   "source": [
    "param['LGR_vect2'] = {\n",
    "#     'C': hp.choice('zz_LGR__C', [1.e-1, 1.e+0, 1.e+1, 1.e+2, 1.e+3]),\n",
    "#     'C': hp.choice('zz_LGR__C', [1.0, 2.0, 3.0]),\n",
    "#     'C': hp.quniform('LGR__C', 4, 20, 2),\n",
    "#     'tol': hp.choice('LGR__tol', [1.e-4, 1.e-3, 1.e-2, 1.e-1, 1.e+0, 1.e+1])\n",
    "#     'tol': hp.choice('LGR__tol', [1.e-4, 1.e-3]) # worked\n",
    "    'tol': hp.loguniform('loguniform', -5*np.log(10), -0.5*np.log(10))\n",
    "\n",
    "}"
   ]
  },
  {
   "cell_type": "code",
   "execution_count": 30,
   "metadata": {},
   "outputs": [
    {
     "data": {
      "text/plain": [
       "LogisticRegression(C=1.0, class_weight=None, dual=False, fit_intercept=True,\n",
       "          intercept_scaling=1, max_iter=100, multi_class='ovr', n_jobs=1,\n",
       "          penalty='l2', random_state=42, solver='liblinear', tol=0.0001,\n",
       "          verbose=0, warm_start=False)"
      ]
     },
     "execution_count": 30,
     "metadata": {},
     "output_type": "execute_result"
    }
   ],
   "source": [
    "clf['LGR']"
   ]
  },
  {
   "cell_type": "code",
   "execution_count": 31,
   "metadata": {},
   "outputs": [
    {
     "name": "stdout",
     "output_type": "stream",
     "text": [
      "LGR_HP_val_vect_1_test   Instance Created\n",
      "\n",
      "\n",
      "val score:  0.8824171961268619\n",
      "val score:  0.8824171961268619\n",
      "val score:  0.8824171961268619\n",
      "val score:  0.8824171961268619\n",
      "val score:  0.8824171961268619\n",
      "val score:  0.8824171961268619\n",
      "val score:  0.8824171961268619\n",
      "val score:  0.8824171961268619\n",
      "val score:  0.8824171961268619\n",
      "val score:  0.8824171961268619\n",
      "val score:  0.8824171961268619\n",
      "val score:  0.8824171961268619\n",
      "val score:  0.8824171961268619\n",
      "val score:  0.8824171961268619\n",
      "val score:  0.8824171961268619\n",
      "val score:  0.8822150335068342\n",
      "val score:  0.8824171961268619\n",
      "val score:  0.8824171961268619\n",
      "val score:  0.8822150335068342\n",
      "val score:  0.8824171961268619\n",
      "val score:  0.8824171961268619\n",
      "val score:  0.8824171961268619\n",
      "val score:  0.8824171961268619\n",
      "val score:  0.8824171961268619\n",
      "val score:  0.8824171961268619\n",
      "val score:  0.8824171961268619\n",
      "val score:  0.8824171961268619\n",
      "val score:  0.8824171961268619\n",
      "val score:  0.8824171961268619\n",
      "val score:  0.8824171961268619\n",
      "{'tol': 0.08989163379681656}\n",
      "acc : 0.9463663922002377\n",
      "LGR_HP_val_vect_1_test   HP3_vect_val done in  21.0  minutes\n"
     ]
    }
   ],
   "source": [
    "md_LGBM2 = Analytica_Bolada('LGR', param['LGR_vect2'], 'LGR_HP_val_vect_1_test')\n",
    "md_LGBM2.evaluate_HP3_vect_val(pipe_4_vect, vectorize_first=True)\n",
    "# tem q dar 0.9585    -- > pipe.fit_transformX_train, y_train)"
   ]
  },
  {
   "cell_type": "code",
   "execution_count": 32,
   "metadata": {},
   "outputs": [
    {
     "name": "stdout",
     "output_type": "stream",
     "text": [
      "saving l_curve_ image for  LGR_HP_val_vect_1_test\n"
     ]
    },
    {
     "data": {
      "text/plain": [
       "<Figure size 432x288 with 0 Axes>"
      ]
     },
     "metadata": {},
     "output_type": "display_data"
    }
   ],
   "source": [
    "master.plot_learning_curve(chosen=['LGR_HP_val_vect_1_test'], load_saved=False)"
   ]
  },
  {
   "cell_type": "code",
   "execution_count": 33,
   "metadata": {},
   "outputs": [
    {
     "name": "stdout",
     "output_type": "stream",
     "text": [
      "opening the image LGR_HP_val_vect_1_test\n"
     ]
    },
    {
     "data": {
      "image/png": "[encoded data removed]",
      "text/plain": [
       "<IPython.core.display.Image object>"
      ]
     },
     "metadata": {},
     "output_type": "display_data"
    }
   ],
   "source": [
    "master.plot_learning_curve(chosen=['LGR_HP_val_vect_1_test'], load_saved=True)"
   ]
  },
  {
   "cell_type": "code",
   "execution_count": null,
   "metadata": {},
   "outputs": [],
   "source": []
  },
  {
   "cell_type": "code",
   "execution_count": 34,
   "metadata": {},
   "outputs": [
    {
     "ename": "SyntaxError",
     "evalue": "invalid syntax (<ipython-input-34-5a1ca94c79dc>, line 1)",
     "output_type": "error",
     "traceback": [
      "\u001b[0;36m  File \u001b[0;32m\"<ipython-input-34-5a1ca94c79dc>\"\u001b[0;36m, line \u001b[0;32m1\u001b[0m\n\u001b[0;31m    pare aqui bonitinho\u001b[0m\n\u001b[0m            ^\u001b[0m\n\u001b[0;31mSyntaxError\u001b[0m\u001b[0;31m:\u001b[0m invalid syntax\n"
     ]
    }
   ],
   "source": [
    "pare aqui bonitinho"
   ]
  },
  {
   "cell_type": "markdown",
   "metadata": {
    "deletable": false,
    "editable": false,
    "run_control": {
     "frozen": true
    }
   },
   "source": [
    "## NB"
   ]
  },
  {
   "cell_type": "code",
   "execution_count": 47,
   "metadata": {
    "deletable": false,
    "editable": false,
    "run_control": {
     "frozen": true
    }
   },
   "outputs": [],
   "source": [
    "# HP max_iter = 20\n",
    "param['NB_no_vect'] = {'vec__ngram_range': hp.choice('vec__ngram_range', [(1, 1), (1, 2), (1, 3)]),\n",
    "                  'vec__min_df': 1+hp.randint('vec__min_df', 3),\n",
    "                  'vec__max_df': hp.uniform('vec__max_df', 0.7, 1.0),\n",
    "                  'vec__sublinear_tf': hp.choice('vec__sublinear_tf', [True, False]),\n",
    "                  'NB__alpha': hp.choice('zz_alpha', [0.001, 0.1, 0.5, 1.0, 10.0, 100.0, 1000.0])\n",
    "                 } \n",
    "\n",
    "param['NB_vect'] = {\n",
    "                  'alpha': hp.choice('zz_alpha', [0.001, 0.1, 0.5, 1.0, 10.0, 100.0, 1000.0])\n",
    "} "
   ]
  },
  {
   "cell_type": "code",
   "execution_count": null,
   "metadata": {
    "deletable": false,
    "editable": false,
    "run_control": {
     "frozen": true
    }
   },
   "outputs": [],
   "source": []
  },
  {
   "cell_type": "code",
   "execution_count": 48,
   "metadata": {
    "deletable": false,
    "editable": false,
    "run_control": {
     "frozen": true
    }
   },
   "outputs": [
    {
     "name": "stdout",
     "output_type": "stream",
     "text": [
      "val score:  0.8620189317653557\n",
      "val score:  0.868437734953045\n",
      "val score:  0.8817718277628878\n",
      "val score:  0.8817718277628878\n",
      "val score:  0.8285996186510577\n",
      "val score:  0.8837430533099709\n",
      "val score:  0.8744824532925947\n",
      "val score:  0.8841689788299657\n",
      "val score:  0.8785919465516273\n",
      "val score:  0.8819552701403011\n",
      "val score:  0.8613686833381361\n",
      "val score:  0.864386722451923\n",
      "val score:  0.8709572876064474\n",
      "val score:  0.868750779010096\n",
      "val score:  0.8853689943821672\n",
      "val score:  0.8575607139868533\n",
      "val score:  0.7385261312986616\n",
      "val score:  0.868750779010096\n",
      "val score:  0.8233840310570424\n",
      "val score:  0.8414833056236409\n",
      "val score:  0.8841689788299657\n",
      "val score:  0.8841689788299657\n",
      "val score:  0.5897302029034296\n",
      "val score:  0.8819653502709395\n",
      "val score:  0.8847538664101087\n",
      "val score:  0.8853689943821672\n",
      "val score:  0.8853689943821672\n",
      "val score:  0.8853689943821672\n",
      "val score:  0.8853689943821672\n",
      "val score:  0.8199858270163182\n",
      "acc : 0.9446151325222235\n",
      "NB_HP_val_1  HP3_vect_val and pickled to disk Done in 9.0  minutes\n"
     ]
    }
   ],
   "source": [
    "md_NB1 = Analytica_Bolada('NB', param['NB_no_vect'], 'NB_HP_val_1')\n",
    "md_NB1.evaluate_HP3_vect_val(pipe_4, vectorize_first=False, pkl_W=True)  "
   ]
  },
  {
   "cell_type": "code",
   "execution_count": 49,
   "metadata": {
    "deletable": false,
    "editable": false,
    "run_control": {
     "frozen": true
    }
   },
   "outputs": [
    {
     "name": "stdout",
     "output_type": "stream",
     "text": [
      "val score:  0.8414833056236409\n",
      "val score:  0.8831682458604663\n",
      "val score:  0.8831682458604663\n",
      "val score:  0.8831682458604663\n",
      "val score:  0.8738774054511748\n",
      "val score:  0.8831682458604663\n",
      "val score:  0.8414833056236409\n",
      "val score:  0.8843711414499932\n",
      "val score:  0.8831682458604663\n",
      "val score:  0.8829848034830532\n",
      "val score:  0.8843711414499932\n",
      "val score:  0.8831682458604663\n",
      "val score:  0.7192380413250156\n",
      "val score:  0.8843711414499932\n",
      "val score:  0.8843711414499932\n",
      "val score:  0.864386722451923\n",
      "val score:  0.864386722451923\n",
      "val score:  0.8843711414499932\n",
      "val score:  0.8414833056236409\n",
      "val score:  0.7192380413250156\n",
      "val score:  0.8843711414499932\n",
      "val score:  0.8843711414499932\n",
      "val score:  0.8843711414499932\n",
      "val score:  0.8738774054511748\n",
      "val score:  0.8829848034830532\n",
      "val score:  0.8843711414499932\n",
      "val score:  0.8843711414499932\n",
      "val score:  0.7192380413250156\n",
      "val score:  0.8843711414499932\n",
      "val score:  0.864386722451923\n",
      "acc : 0.9454633989287617\n",
      "NB_HP_val_vect_1  HP3_vect_val and pickled to disk Done in 0.0  minutes\n"
     ]
    }
   ],
   "source": [
    "md_NB2 = Analytica_Bolada('NB', param['NB_vect'], 'NB_HP_val_vect_1')\n",
    "md_NB2.evaluate_HP3_vect_val(pipe_4_vect, vectorize_first=True, pkl_W=True)  "
   ]
  },
  {
   "cell_type": "markdown",
   "metadata": {
    "deletable": false,
    "editable": false,
    "run_control": {
     "frozen": true
    }
   },
   "source": [
    "## SGDC"
   ]
  },
  {
   "cell_type": "code",
   "execution_count": null,
   "metadata": {},
   "outputs": [],
   "source": [
    "param['SGDC_no_vect'] = {'vec__ngram_range': hp.choice('vec__ngram_range', [(1, 1), (1, 2), (1, 3)]),\n",
    "                         'vec__min_df': 1+hp.randint('vec__min_df', 3),\n",
    "                         'vec__max_df': hp.uniform('vec__max_df', 0.7, 1.0),\n",
    "                         'vec__sublinear_tf': hp.choice('vec__sublinear_tf', [True, False]),\n",
    "                         'SGDC__l1_ratio': hp.uniform('clf__l1_ratio', 0.0, 1.0),\n",
    "                         'SGDC__alpha': hp.loguniform('clf__alpha', -9*np.log(10), -4*np.log(10)),\n",
    "                         'SGDC__n_iter': 20 + 5*hp.randint('clf__n_iter', 12)\n",
    "                         }\n",
    "\n",
    "param['SGDC_vect'] = {\n",
    "    'l1_ratio': hp.uniform('clf__l1_ratio', 0.0, 1.0),\n",
    "    'alpha': hp.loguniform('clf__alpha', -9*np.log(10), -4*np.log(10)),\n",
    "    'n_iter': 20 + 5*hp.randint('clf__n_iter', 12)\n",
    "}"
   ]
  },
  {
   "cell_type": "code",
   "execution_count": 51,
   "metadata": {
    "deletable": false,
    "editable": false,
    "run_control": {
     "frozen": true
    }
   },
   "outputs": [
    {
     "name": "stdout",
     "output_type": "stream",
     "text": [
      "val score:  0.8717644980678949\n",
      "val score:  0.8795825993904882\n",
      "val score:  0.8663910684282469\n",
      "val score:  0.8756099079044064\n",
      "val score:  0.8793818767891232\n",
      "val score:  0.8734336396999705\n",
      "val score:  0.8715824957091444\n",
      "val score:  0.8670133964936186\n",
      "val score:  0.8782121016288371\n",
      "val score:  0.8741645291722981\n",
      "val score:  0.8609989185459843\n",
      "val score:  0.8735868416854682\n",
      "val score:  0.8750149401936249\n",
      "val score:  0.8675853239057978\n",
      "val score:  0.8640212777157593\n",
      "val score:  0.8722177839424798\n",
      "val score:  0.864991770293343\n",
      "val score:  0.8721789034385885\n",
      "val score:  0.8639276765026875\n",
      "val score:  0.8635607917478613\n",
      "val score:  0.8770149661139608\n",
      "val score:  0.8761991155405374\n",
      "val score:  0.876220715820477\n",
      "val score:  0.8762120757085011\n",
      "val score:  0.8728329119145384\n",
      "val score:  0.8784430646221175\n",
      "val score:  0.8728199517465747\n",
      "val score:  0.8761875953912363\n",
      "val score:  0.8856316377860256\n",
      "val score:  0.8912432305122674\n",
      "acc : 0.9458960932059317\n",
      "SGDC_HP_val_1  HP3_vect_val and pickled to disk Done in 8.0  minutes\n"
     ]
    }
   ],
   "source": [
    "md_SGDC = Analytica_Bolada('SGDC', param['SGDC_no_vect'], 'SGDC_HP_val_1')\n",
    "md_SGDC.evaluate_HP3_vect_val(pipe_4, vectorize_first=False, pkl_W=True)  "
   ]
  },
  {
   "cell_type": "code",
   "execution_count": 52,
   "metadata": {
    "deletable": false,
    "editable": false,
    "run_control": {
     "frozen": true
    },
    "scrolled": false
   },
   "outputs": [
    {
     "name": "stdout",
     "output_type": "stream",
     "text": [
      "val score:  0.8783782637822987\n",
      "val score:  0.8830380841735709\n",
      "val score:  0.8729832338627108\n",
      "val score:  0.8962180949865111\n",
      "val score:  0.8830265640242698\n",
      "val score:  0.8830236839869444\n",
      "val score:  0.8799912446865311\n",
      "val score:  0.8876172635197352\n",
      "val score:  0.8783825838382865\n",
      "val score:  0.8702004777981922\n",
      "val score:  0.864594645146601\n",
      "val score:  0.873155156090823\n",
      "val score:  0.8884187139065322\n",
      "val score:  0.8722264240544557\n",
      "val score:  0.8737688440442188\n",
      "val score:  0.8814035029893987\n",
      "val score:  0.8771768082114344\n",
      "val score:  0.874345091512386\n",
      "val score:  0.8786221869435429\n",
      "val score:  0.8771897683793982\n",
      "val score:  0.8886136764332466\n",
      "val score:  0.8892158442373412\n",
      "val score:  0.8806135727519029\n",
      "val score:  0.8737544438575924\n",
      "val score:  0.8886194365078971\n",
      "val score:  0.8809847775627173\n",
      "val score:  0.884420102084523\n",
      "val score:  0.8828056811616278\n",
      "val score:  0.8791840342250834\n",
      "val score:  0.8870136556969779\n",
      "acc : 0.9574913077096391\n",
      "SGDC_HP_val_vect_1   HP3_vect_val done in  1.0  minutes\n"
     ]
    }
   ],
   "source": [
    "md_SGDC2 = Analytica_Bolada('SGDC', param['SGDC_vect'], 'SGDC_HP_val_vect_1')\n",
    "md_SGDC2.evaluate_HP3_vect_val(pipe_4_vect, vectorize_first=True, pkl_W=False)  "
   ]
  },
  {
   "cell_type": "markdown",
   "metadata": {},
   "source": [
    "# Ensemble"
   ]
  },
  {
   "cell_type": "code",
   "execution_count": null,
   "metadata": {},
   "outputs": [],
   "source": [
    "md_SGDC2 = Analytica_Bolada('SGDC', param['SGDC_vect'], 'SGDC_HP_val_vect_1_')\n",
    "md_SGDC2.evaluate_HP3_vect_val(pipe_4_vect, vectorize_first=True)"
   ]
  },
  {
   "cell_type": "code",
   "execution_count": null,
   "metadata": {},
   "outputs": [],
   "source": [
    "clf['SGDC_HP_val_vect_1_'] = master.evaluations_all['SGDC_HP_val_vect_1_']['best_estimator'] \n",
    "clf['SGDC_HP_val_vect_1_']"
   ]
  },
  {
   "cell_type": "code",
   "execution_count": null,
   "metadata": {},
   "outputs": [],
   "source": []
  },
  {
   "cell_type": "code",
   "execution_count": null,
   "metadata": {},
   "outputs": [],
   "source": [
    "clf['SGDC_HP_val_vect_1_BAGG'] = BaggingClassifier(base_estimator=clf['SGDC_HP_val_vect_1'], n_estimators=30)  "
   ]
  },
  {
   "cell_type": "code",
   "execution_count": null,
   "metadata": {},
   "outputs": [],
   "source": [
    "# md_BAGG = ['LinearSVC_10_BAGG', 'NB_10_BAGG', 'RF_10_BAGG', 'LGR_10_BAGG' ]\n",
    "master.evaluate_CV(pipe_4_vect, ['SGDC_HP_val_vect_1_BAGG'], vectorize_first=True )"
   ]
  },
  {
   "cell_type": "code",
   "execution_count": null,
   "metadata": {},
   "outputs": [],
   "source": [
    "master.plot_learning_curve(chosen=['SGDC_HP_val_vect_1_BAGG'], load_saved=False)"
   ]
  },
  {
   "cell_type": "code",
   "execution_count": null,
   "metadata": {},
   "outputs": [],
   "source": [
    "master.plot_learning_curve(chosen=['SGDC_HP_val_vect_1_BAGG'], load_saved=True)"
   ]
  },
  {
   "cell_type": "code",
   "execution_count": null,
   "metadata": {},
   "outputs": [],
   "source": [
    "master.evaluations_all['SGDC_HP_val_vect_1_BAGG'].keys()\n",
    "\n",
    "master.evaluations_all['SGDC_HP_val_vect_1_BAGG']['param_grid']"
   ]
  },
  {
   "cell_type": "code",
   "execution_count": null,
   "metadata": {},
   "outputs": [],
   "source": []
  },
  {
   "cell_type": "code",
   "execution_count": null,
   "metadata": {},
   "outputs": [],
   "source": []
  },
  {
   "cell_type": "markdown",
   "metadata": {
    "deletable": false,
    "editable": false,
    "run_control": {
     "frozen": true
    }
   },
   "source": [
    "# PLOTTING"
   ]
  },
  {
   "cell_type": "code",
   "execution_count": 53,
   "metadata": {
    "deletable": false,
    "editable": false,
    "run_control": {
     "frozen": true
    }
   },
   "outputs": [
    {
     "data": {
      "text/plain": [
       "dict_keys(['KNN_HP_val_1', 'KNN_HP_val_vect_1', 'RF_HP_val_1', 'RF_HP_val_vect_1', 'XT_HP_val_1', 'XT_HP_val_vect_1', 'LGR_HP_val_1', 'LGR_HP_val_vect_1', 'NB_HP_val_1', 'NB_HP_val_vect_1', 'SGDC_HP_val_1', 'SGDC_HP_val_vect_1'])"
      ]
     },
     "execution_count": 53,
     "metadata": {},
     "output_type": "execute_result"
    }
   ],
   "source": [
    "master.get_members_evaluations_all()"
   ]
  },
  {
   "cell_type": "code",
   "execution_count": 56,
   "metadata": {
    "deletable": false,
    "editable": false,
    "run_control": {
     "frozen": true
    }
   },
   "outputs": [
    {
     "data": {
      "text/plain": [
       "[('col', Col_Extractor(cols=['review'])),\n",
       " ('prep', Preprocessor()),\n",
       " ('to_array', To_array()),\n",
       " ('vec', TfidfVectorizer(analyzer='word', binary=False, decode_error='strict',\n",
       "          dtype=<class 'numpy.int64'>, encoding='utf-8', input='content',\n",
       "          lowercase=True, max_df=0.9, max_features=20000, min_df=2,\n",
       "          ngram_range=(1, 3), norm='l2', preprocessor=None, smooth_idf=True,\n",
       "          stop_words='english', strip_accents=None, sublinear_tf=True,\n",
       "          token_pattern='(?u)\\\\b\\\\w\\\\w+\\\\b', tokenizer=None, use_idf=True,\n",
       "          vocabulary=None)),\n",
       " ['KNN_HP_val_vect_1',\n",
       "  KNeighborsClassifier(algorithm='auto', leaf_size=30, metric='minkowski',\n",
       "             metric_params=None, n_jobs=-1, n_neighbors=100, p=2,\n",
       "             weights='uniform')]]"
      ]
     },
     "execution_count": 56,
     "metadata": {},
     "output_type": "execute_result"
    }
   ],
   "source": [
    "master.evaluations_all['KNN_HP_val_vect_1']['pipe_best'].steps"
   ]
  },
  {
   "cell_type": "code",
   "execution_count": 54,
   "metadata": {
    "deletable": false,
    "editable": false,
    "run_control": {
     "frozen": true
    }
   },
   "outputs": [],
   "source": [
    "chosen = ['KNN_HP_val_1', 'RF_HP_val_1', 'XT_HP_val_1', 'LGR_HP_val_1', 'SGDC_HP_val_1']"
   ]
  },
  {
   "cell_type": "code",
   "execution_count": 55,
   "metadata": {
    "deletable": false,
    "editable": false,
    "run_control": {
     "frozen": true
    }
   },
   "outputs": [
    {
     "name": "stdout",
     "output_type": "stream",
     "text": [
      "saving l_curve_ image for  KNN_HP_val_1\n",
      "saving l_curve_ image for  KNN_HP_val_vect_1\n",
      "saving l_curve_ image for  RF_HP_val_1\n",
      "saving l_curve_ image for  RF_HP_val_vect_1\n",
      "saving l_curve_ image for  XT_HP_val_1\n",
      "saving l_curve_ image for  XT_HP_val_vect_1\n",
      "saving l_curve_ image for  LGR_HP_val_1\n",
      "saving l_curve_ image for  LGR_HP_val_vect_1\n",
      "saving l_curve_ image for  NB_HP_val_1\n",
      "saving l_curve_ image for  NB_HP_val_vect_1\n",
      "saving l_curve_ image for  SGDC_HP_val_1\n",
      "saving l_curve_ image for  SGDC_HP_val_vect_1\n",
      "CPU times: user 1h 32min 8s, sys: 11min 31s, total: 1h 43min 40s\n",
      "Wall time: 1h 46min 52s\n"
     ]
    },
    {
     "data": {
      "text/plain": [
       "<Figure size 432x288 with 0 Axes>"
      ]
     },
     "metadata": {},
     "output_type": "display_data"
    }
   ],
   "source": [
    "%%time\n",
    "master.plot_learning_curve(chosen=None, load_saved=False)"
   ]
  },
  {
   "cell_type": "code",
   "execution_count": 56,
   "metadata": {
    "deletable": false,
    "editable": false,
    "run_control": {
     "frozen": true
    },
    "scrolled": false
   },
   "outputs": [
    {
     "name": "stdout",
     "output_type": "stream",
     "text": [
      "saving c_matrx_ image for KNN_HP_val_1\n",
      "saving c_matrx_ image for KNN_HP_val_vect_1\n",
      "saving c_matrx_ image for RF_HP_val_1\n",
      "saving c_matrx_ image for RF_HP_val_vect_1\n",
      "saving c_matrx_ image for XT_HP_val_1\n",
      "saving c_matrx_ image for XT_HP_val_vect_1\n",
      "saving c_matrx_ image for LGR_HP_val_1\n",
      "saving c_matrx_ image for LGR_HP_val_vect_1\n",
      "saving c_matrx_ image for NB_HP_val_1\n",
      "saving c_matrx_ image for NB_HP_val_vect_1\n",
      "saving c_matrx_ image for SGDC_HP_val_1\n",
      "saving c_matrx_ image for SGDC_HP_val_vect_1\n",
      "CPU times: user 12min 37s, sys: 46.2 s, total: 13min 23s\n",
      "Wall time: 13min 54s\n"
     ]
    },
    {
     "data": {
      "text/plain": [
       "<Figure size 432x288 with 0 Axes>"
      ]
     },
     "metadata": {},
     "output_type": "display_data"
    }
   ],
   "source": [
    "%%time\n",
    "master.plot_Confusion_Matrix(chosen=None, load_saved=False)"
   ]
  },
  {
   "cell_type": "code",
   "execution_count": 57,
   "metadata": {
    "deletable": false,
    "editable": false,
    "run_control": {
     "frozen": true
    },
    "scrolled": false
   },
   "outputs": [
    {
     "data": {
      "text/plain": [
       "dict_keys(['KNN_HP_val_1', 'KNN_HP_val_vect_1', 'RF_HP_val_1', 'RF_HP_val_vect_1', 'XT_HP_val_1', 'XT_HP_val_vect_1', 'LGR_HP_val_1', 'LGR_HP_val_vect_1', 'NB_HP_val_1', 'NB_HP_val_vect_1', 'SGDC_HP_val_1', 'SGDC_HP_val_vect_1'])"
      ]
     },
     "execution_count": 57,
     "metadata": {},
     "output_type": "execute_result"
    }
   ],
   "source": [
    "master.get_members_evaluations_all()"
   ]
  },
  {
   "cell_type": "code",
   "execution_count": 58,
   "metadata": {
    "deletable": false,
    "editable": false,
    "run_control": {
     "frozen": true
    }
   },
   "outputs": [
    {
     "name": "stdout",
     "output_type": "stream",
     "text": [
      "Done\n"
     ]
    }
   ],
   "source": [
    "print('Done')"
   ]
  },
  {
   "cell_type": "code",
   "execution_count": null,
   "metadata": {
    "deletable": false,
    "editable": false,
    "run_control": {
     "frozen": true
    }
   },
   "outputs": [],
   "source": []
  }
 ],
 "metadata": {
  "anaconda-cloud": {},
  "kernelspec": {
   "display_name": "Python 3",
   "language": "python",
   "name": "python3"
  },
  "language_info": {
   "codemirror_mode": {
    "name": "ipython",
    "version": 3
   },
   "file_extension": ".py",
   "mimetype": "text/x-python",
   "name": "python",
   "nbconvert_exporter": "python",
   "pygments_lexer": "ipython3",
   "version": "3.6.5"
  },
  "toc": {
   "base_numbering": 1,
   "nav_menu": {},
   "number_sections": true,
   "sideBar": false,
   "skip_h1_title": false,
   "title_cell": "Table of Contents",
   "title_sidebar": "Contents",
   "toc_cell": false,
   "toc_position": {
    "height": "293px",
    "left": "1115px",
    "top": "93px",
    "width": "165px"
   },
   "toc_section_display": true,
   "toc_window_display": true
  }
 },
 "nbformat": 4,
 "nbformat_minor": 2
}
